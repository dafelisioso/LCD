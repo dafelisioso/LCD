{
  "nbformat": 4,
  "nbformat_minor": 0,
  "metadata": {
    "colab": {
      "provenance": [],
      "collapsed_sections": []
    },
    "kernelspec": {
      "display_name": "Python 3 (ipykernel)",
      "language": "python",
      "name": "python3"
    },
    "language_info": {
      "codemirror_mode": {
        "name": "ipython",
        "version": 3
      },
      "file_extension": ".py",
      "mimetype": "text/x-python",
      "name": "python",
      "nbconvert_exporter": "python",
      "pygments_lexer": "ipython3",
      "version": "3.8.12"
    }
  },
  "cells": [
    {
      "cell_type": "code",
      "metadata": {
        "id": "bflL9_9-mwLU"
      },
      "source": [
        "import numpy as np"
      ],
      "execution_count": null,
      "outputs": []
    },
    {
      "cell_type": "markdown",
      "metadata": {
        "id": "zxKs5VLdgNbv"
      },
      "source": [
        "En esta práctica veremos varios ejemplos de exploraciones exhaustivas, es decir, ir encontrando en el espacio de búsqueda elementos que cumplen ciertas características deseadas, una forma común de hacer esto es utilizando la técnica de backtracking (o vuelta hacia atrás), en donde se van buscando elementos con determinadas características en cada paso."
      ]
    },
    {
      "cell_type": "markdown",
      "metadata": {
        "id": "CkeUcRxK2RqK"
      },
      "source": [
        "# Ejemplos\n",
        "\n",
        "## Cambio\n",
        "Recordando un poco el ejemplo que vimos anteriormente sobre monedas y sus denominaciones, consideremos una lista $L$ de denominaciones posibles para nuestras monedas, y nuestro problema ahora será determinar de cuántas formas se puede formar el número $n$ utilizando dichas denominaciones (suponiendo que tenemos tantas monedas de cada denominación como sea necesario).\n",
        "\n",
        "Dada la lista $L$, podemos hacer backtracking del siguiente modo:\n",
        "\n",
        "* Iteramos sobre los elementos de la lista, y definimos una función `count(i,k)` que nos dice de cuántas formas podemos sumar a $k$ con denominaciones $L[i], L[i+1], \\dots$.\n",
        "* Podemos calcular el valor de `count(i,k)` de manera recursiva del siguiente modo:\n",
        "    * Si $L[i] > k$, esto nos dice que la moneda actual (`L[i]`) es más grande que el dinero que queremos partir (`k`), así que nos movemos a la siguiente, i.e. `count(i,k) = count(i+1, k)`.\n",
        "    * Si $L[i] \\leq k$, entonces podemos cambiar el dinero con la moneda actual. Entonces, consideramos dos casos: uno en el que sí lo cambiamos y nos quedamos en la misma moneda (`count(i, k-L[i])`) y otro en el que no lo hacemos y simplemente pasamos a la siguiente moneda (`count(i+1, k)`).\n",
        "\n",
        "Veamos una implementación de este algoritmo:"
      ]
    },
    {
      "cell_type": "code",
      "metadata": {
        "colab": {
          "base_uri": "https://localhost:8080/"
        },
        "id": "JeIdMxC74fJb",
        "outputId": "e1ae198a-9262-4543-b655-95fab9c7db1e"
      },
      "source": [
        "combs = []\n",
        "\n",
        "def count(L, k, i=0, out=None):\n",
        "    if out is None:\n",
        "        out = []\n",
        "\n",
        "    if i >= len(L):\n",
        "        return 0\n",
        "    if k == 0:\n",
        "        combs.append(out)\n",
        "        return 1\n",
        "    if L[i] > k:\n",
        "        return count(L, k, i+1, out)\n",
        "    else:\n",
        "        temp = out.copy()\n",
        "        temp.append(L[i])\n",
        "        return count(L, k-L[i], i, temp) + count(L, k, i+1, out)\n",
        "\n",
        "L = [2, 8, 4, 6]\n",
        "print(count(L, 10))\n",
        "print(combs)"
      ],
      "execution_count": null,
      "outputs": [
        {
          "output_type": "stream",
          "name": "stdout",
          "text": [
            "6\n",
            "[[2, 2, 2, 2, 2], [2, 2, 2, 4], [2, 2, 6], [2, 8], [2, 4, 4], [4, 6]]\n"
          ]
        }
      ]
    },
    {
      "cell_type": "markdown",
      "metadata": {
        "id": "kDx74yIJg9mm"
      },
      "source": [
        "## Reinas\n",
        "\n",
        "Un famoso problema algorítmico es que dado un tablero de ajedrez (de $8 \\times 8$), se determine cuántas formas hay de colocar $8$ reinas en el tablero de tal manera que no haya dos que se ataquen entre sí. Este es un ejemplo clásico de la técnica de backtracking, resolveremos el problema para un tablero de $n\\times n$ con $n$ reinas.\n",
        "\n",
        "Primero, representaremos el tablero como una lista $Q$ de tamaño $n$. La entrada $Q_i$ será un número $0\\leq j < n$ que nos dirá la columna en la cual se encuentra la reina de la $i$-ésima fila (de abajo hacia arriba). Por ejemplo, para el siguiente arreglo de reinas:\n",
        "\n",
        "![chess](https://github.com/RodolfoFigueroa/madi2022-1/blob/main/Unidad_3/chess.png?raw=1)\n",
        "\n",
        "Su representación sería `[1, 3, 0, 2]`.\n",
        "\n",
        "Luego, definimos la siguiente función:"
      ]
    },
    {
      "cell_type": "code",
      "metadata": {
        "id": "hBgrI4ClmwLg"
      },
      "source": [
        "def place_queens(n, row=0, Q=None, queens=None):\n",
        "    if Q is None:\n",
        "        Q = [None] * n\n",
        "    if queens is None:\n",
        "        queens = []\n",
        "        \n",
        "    if row == n:\n",
        "        queens.append(Q)\n",
        "        return\n",
        "    \n",
        "    for col in range(n):\n",
        "        legal = True\n",
        "        for j in range(row):\n",
        "            if Q[j] == col or Q[j] == col+row-j or Q[j] == col-row+j:\n",
        "                legal = False\n",
        "                break\n",
        "        if legal:\n",
        "            Q[row] = col\n",
        "            place_queens(n, row+1, Q.copy(), queens)\n",
        "    return queens"
      ],
      "execution_count": null,
      "outputs": []
    },
    {
      "cell_type": "markdown",
      "metadata": {
        "id": "Rk9kBQdgmwLh"
      },
      "source": [
        "Esta acepta cuatro argumentos:\n",
        "* `n`: Tamaño del tablero\n",
        "* `row`: Fila a partir de la cual se intenta insertar reinas, después de la cual se sube recursivamente hasta llegar a la última. Por defecto es cero (i.e., llenar el tablero completo)\n",
        "* `Q`: Lista de posiciones de las reinas, en el formato descrito previamente. Al principio está lleno de `None`.\n",
        "* `queens`: Lista de todas las soluciones posibles. Al principio es vacía.\n",
        "\n",
        "El algoritmo consiste en ir insertando reinas recursivamente, empezando de la fila de abajo. Se utiliza un bucle para intentar insertarla en cada columna de la fila actual, checando todas las filas anteriores para ver si la posición es válida. Si sí lo es, se inserta y se pasa a la siguiente."
      ]
    },
    {
      "cell_type": "markdown",
      "metadata": {
        "id": "jgeGaYrRmwLi"
      },
      "source": [
        "Lo intentamos con un tablero de $4\\times 4$:"
      ]
    },
    {
      "cell_type": "code",
      "metadata": {
        "id": "5MH_btGmmwLj",
        "colab": {
          "base_uri": "https://localhost:8080/"
        },
        "outputId": "0845c9a1-e1ee-4f09-83ee-7a80823c2d05"
      },
      "source": [
        "queens = place_queens(4)\n",
        "queens"
      ],
      "execution_count": null,
      "outputs": [
        {
          "output_type": "execute_result",
          "data": {
            "text/plain": [
              "[[1, 3, 0, 2], [2, 0, 3, 1]]"
            ]
          },
          "metadata": {},
          "execution_count": 4
        }
      ]
    },
    {
      "cell_type": "markdown",
      "metadata": {
        "id": "OtqG0_gJmwLl"
      },
      "source": [
        "## Suma de subconjuntos\n",
        "\n",
        "Dado un conjunto de números positivos $S$ y un número $x$, queremos determinar si existe un subconjunto $U\\subseteq S$ tal que la suma de los elementos de $U$ es $x$.\n",
        "\n",
        "Primero, notemos que hay dos casos base: si $x$ es cero, regresamos `verdadero` inmediatamente, ya que la suma del conjunto vacío lo cumple. Por otro lado, si $x<0$, o si $x\\neq 0$ pero $S$ es vacío, regresamos `falso`, ya que no existe solución.\n",
        "\n",
        "Por otro lado, para el caso general, consideremos un elemento $s\\in S$ arbitrario. Existe un subconjunto de $S$ que suma a $x$ si y solo si alguna de las dos proposiciones siguientes es verdadera:\n",
        "\n",
        "* Existe un subconjunto $U\\subseteq S$ que suma a $x$ y $s\\in U$.\n",
        "* Existe un subconjunto $U\\subseteq S$ que suma a $x$ y $s\\notin U$.\n",
        "\n",
        "El primer caso implica que debe de existir un subconjunto de $S$ que no incluya a $s$ y que sume a $x-s$. En el segundo caso, debe de existir un subconjunto de $S$ que no incluya a $s$, y que sume a $x$. Con esto, podemos reducir el problema a los siguientes dos subproblemas:\n",
        "\n",
        "* Subconjunto de $S\\setminus \\{s\\}$ que sume a $x-s$.\n",
        "* Subconjunto de $S\\setminus \\{s\\}$ que sume a $x$.\n",
        "\n",
        "Así, podemos definir el algoritmo recursivo:"
      ]
    },
    {
      "cell_type": "code",
      "metadata": {
        "id": "GCvkyFcZmwLl"
      },
      "source": [
        "def subset_sum(S, x):\n",
        "    if x == 0:\n",
        "        return True\n",
        "    elif len(S) == 0 or x < 0:\n",
        "        return False\n",
        "    \n",
        "    S_minus = S.copy()\n",
        "    s = S_minus.pop()\n",
        "    b1 = subset_sum(S_minus, x-s)\n",
        "    b2 = subset_sum(S_minus, x)\n",
        "    \n",
        "    return b1 or b2"
      ],
      "execution_count": null,
      "outputs": []
    },
    {
      "cell_type": "markdown",
      "metadata": {
        "id": "PPuWoqCYmwLm"
      },
      "source": [
        "Probándolo en un conjunto que sí sabemos que funciona:"
      ]
    },
    {
      "cell_type": "code",
      "metadata": {
        "id": "F6b6OeQ4mwLn",
        "colab": {
          "base_uri": "https://localhost:8080/"
        },
        "outputId": "3107b087-5129-4bf1-cf42-d404c2f66052"
      },
      "source": [
        "S = [1,14,8,4]\n",
        "x = 15\n",
        "subset_sum(S, x)"
      ],
      "execution_count": null,
      "outputs": [
        {
          "output_type": "execute_result",
          "data": {
            "text/plain": [
              "True"
            ]
          },
          "metadata": {},
          "execution_count": 6
        }
      ]
    },
    {
      "cell_type": "markdown",
      "metadata": {
        "id": "Ml29XLlxmwLn"
      },
      "source": [
        "Y en uno que no funciona:"
      ]
    },
    {
      "cell_type": "code",
      "metadata": {
        "id": "42Zdj_SVmwLo",
        "colab": {
          "base_uri": "https://localhost:8080/"
        },
        "outputId": "a141d4df-55a2-4a88-b6ca-47fc19a52923"
      },
      "source": [
        "S = [1,3,8,4]\n",
        "x = 2\n",
        "subset_sum(S, x)"
      ],
      "execution_count": null,
      "outputs": [
        {
          "output_type": "execute_result",
          "data": {
            "text/plain": [
              "False"
            ]
          },
          "metadata": {},
          "execution_count": 7
        }
      ]
    },
    {
      "cell_type": "markdown",
      "metadata": {
        "id": "2TRjycDemwLo"
      },
      "source": [
        "Hacer copias de un arreglo es una operación costosa. Es más eficiente pasar el mismo arreglo cada vez, y simplemente cambiar los índices que consideramos:"
      ]
    },
    {
      "cell_type": "code",
      "metadata": {
        "id": "Nql6fWFImwLo"
      },
      "source": [
        "def subset_sum_index(S, x, r=None):\n",
        "    if r is None:\n",
        "        r = len(S)\n",
        "        \n",
        "    if x == 0:\n",
        "        return True\n",
        "    elif r == 0 or x < 0:\n",
        "        return False\n",
        "    \n",
        "    s = S[r-1]\n",
        "    b1 = subset_sum_index(S, x-s, r=r-1)\n",
        "    b2 = subset_sum_index(S, x, r=r-1)\n",
        "    \n",
        "    return b1 or b2"
      ],
      "execution_count": null,
      "outputs": []
    },
    {
      "cell_type": "code",
      "metadata": {
        "id": "unfOFaJCmwLp",
        "colab": {
          "base_uri": "https://localhost:8080/"
        },
        "outputId": "9b3c715f-295b-4c5e-b61b-5a65d7fe7dc4"
      },
      "source": [
        "S = [1,3,8,4]\n",
        "x = 15\n",
        "subset_sum_index(S, x)"
      ],
      "execution_count": null,
      "outputs": [
        {
          "output_type": "execute_result",
          "data": {
            "text/plain": [
              "True"
            ]
          },
          "metadata": {},
          "execution_count": 9
        }
      ]
    },
    {
      "cell_type": "markdown",
      "metadata": {
        "id": "3Jgd5VbrmwLp"
      },
      "source": [
        "Comparando los tiempos de ejcución para una lista de enteros grande:"
      ]
    },
    {
      "cell_type": "code",
      "metadata": {
        "id": "mFYmpB4EmwLq"
      },
      "source": [
        "big_list = list(np.random.randint(0, 100, 300))"
      ],
      "execution_count": null,
      "outputs": []
    },
    {
      "cell_type": "code",
      "metadata": {
        "id": "BU1z76d-mwLq",
        "colab": {
          "base_uri": "https://localhost:8080/"
        },
        "outputId": "b2e83ada-9d01-4763-df4a-24f361a28883"
      },
      "source": [
        "%%timeit\n",
        "#subset_sum(big_list, x)"
      ],
      "execution_count": null,
      "outputs": [
        {
          "output_type": "stream",
          "name": "stdout",
          "text": [
            "1 loop, best of 5: 407 ms per loop\n"
          ]
        }
      ]
    },
    {
      "cell_type": "code",
      "metadata": {
        "id": "iEmmaitkmwLq",
        "colab": {
          "base_uri": "https://localhost:8080/"
        },
        "outputId": "fcd85487-c79d-4b8d-f25f-fb9ed1a893eb"
      },
      "source": [
        "%%timeit\n",
        "#subset_sum_index(big_list, x)"
      ],
      "execution_count": null,
      "outputs": [
        {
          "output_type": "stream",
          "name": "stdout",
          "text": [
            "1 loop, best of 5: 361 ms per loop\n"
          ]
        }
      ]
    },
    {
      "cell_type": "markdown",
      "metadata": {
        "id": "6LT-dBXrMKSd"
      },
      "source": [
        "# Ejercicios\n",
        "\n",
        "## Ejercicio 1\n",
        "Dado un conjunto de palabras y un string, describe e implementa un algoritmo que permita contar cuántas oraciones diferentes puede formar la string en cuestión suponiendo que las únicas palabras que existen son las del conjunto inicial. Por ejemplo, si el conjunto de palabras es $\\{hola, ola, h\\}$, la string \"holah\" tiene dos posibles interpretaciones, una es \"hola h\", y la segunda \"h ola h\". Verifica tu algoritmo con: \n",
        "\n",
        "*   Conjunto de palabras `{a, as, tin, tinar, san, sana, atina, arce, ce, atinar}`, y la string \"atinarcesanas\".\n",
        "*   Conjunto de palabras `{i, like, ice, and, cream, icecream, man, go, mango}` y la string \"ilikeicecreamandmango\"."
      ]
    },
    {
      "cell_type": "markdown",
      "metadata": {
        "id": "hJq3eMkD8vLS"
      },
      "source": [
        "*descripción ejercicio1*\n",
        "\n",
        "Primero pedimos la palabra desada y el conjunto de palabras por buscar,así mismo asignamos j,i=o y otras dos variables como strings vacios conj y pal.\n",
        "\n",
        "Proseguimos a cjecar si j es mayor que la longitud de la palabra y ademas si pal es distinto a al conjunto de palabras, vemos que no hay palabra por poner, así que regresamos un cero.\n",
        "\n",
        "Si el conjunto de palabras es igual a conj \n",
        "Abremos terminado para una iteración y regresamos el string vacio pal,ahora si i es mayor al conjunto de palabras , significa que no encontramos alguna que cumpla las especificaciones y regresamos 0.\n",
        "Hacemos otro ciclo for en donde si S[j] es igual a uno de las palabras del conjunto de palabras.\n",
        "Hacemos copia de nuestro string conj y a conj lesumamos la palabra en S[j], otra copia de la iteración i que llevemos y a i le sumamos la longitud de la palabra encontrada en S[j],por ultimo a pal la igualamos a pal más una separación y la pal encontrada en S[j].\n",
        "Hacemos backtracking donde regresamos la misma función con los nuevos valores + la función con j=0.\n",
        "Si no se cumple esto regresamos la función con j+1\n",
        "\n"
      ]
    },
    {
      "cell_type": "code",
      "metadata": {
        "id": "GcN__qQT_baq"
      },
      "source": [
        "def cant(S, x, i=0, j=0,conj=\"\", pal=\"\"):\n",
        "  if j>len(S)-1 and conj!=x:\n",
        "    return 0\n",
        "  if x==conj:\n",
        "    print(pal)\n",
        "    print('Palabra enconontrada')\n",
        "    return 1\n",
        "    print('El total de palabras es,',1)\n",
        "  if(i>len(x)):\n",
        "    return 0\n",
        "  if S[j]==x[len(conj):len(conj)+len(S[j])]:\n",
        "    pal2=pal\n",
        "    ii=i\n",
        "    i+=len(S[j])\n",
        "    tempS=conj\n",
        "    conj=conj+S[j]\n",
        "    pal=pal+\"_\"+S[j]\n",
        "    return cant(S, x, ii,j+1, tempS, pal2)+ cant(S, x, i,0,conj,pal)\n",
        "  else:\n",
        "    return cant(S, st, i,j+1, conj, pal)"
      ],
      "execution_count": null,
      "outputs": []
    },
    {
      "cell_type": "markdown",
      "metadata": {
        "id": "Bbe19--U_hO0"
      },
      "source": [
        "Ejemplo 1"
      ]
    },
    {
      "cell_type": "code",
      "metadata": {
        "colab": {
          "base_uri": "https://localhost:8080/"
        },
        "id": "8TpzwAlX_lCK",
        "outputId": "5f8c9f42-c5e7-46ff-a1a1-ad360fedca95"
      },
      "source": [
        "S=[\"a\", \"as\", \"tin\", \"tinar\", \"san\", \"sana\", \"atina\", \"arce\", \"ce\", \"atinar\"]\n",
        "st=\"atinarcesanas\"\n",
        "print(cant(S, st))\n",
        "\n"
      ],
      "execution_count": null,
      "outputs": [
        {
          "output_type": "stream",
          "name": "stdout",
          "text": [
            "_atinar_ce_san_as\n",
            "Palabra enconontrada\n",
            "_a_tinar_ce_san_as\n",
            "Palabra enconontrada\n",
            "_a_tin_arce_san_as\n",
            "Palabra enconontrada\n",
            "3\n"
          ]
        }
      ]
    },
    {
      "cell_type": "markdown",
      "metadata": {
        "id": "MWaEIHHM_iup"
      },
      "source": [
        "Ejemplo 2"
      ]
    },
    {
      "cell_type": "code",
      "metadata": {
        "colab": {
          "base_uri": "https://localhost:8080/"
        },
        "id": "TtfmMhwD8i8N",
        "outputId": "0d99b26b-0d92-4fb9-92b8-129fdba422de"
      },
      "source": [
        "S=[\"i\", \"like\", \"ice\", \"and\", \"cream\", \"icecream\", \"man\", \"go\", \"mango\"]\n",
        "st=\"ilikeicecreamandmango\"\n",
        "print(cant(S, st))"
      ],
      "execution_count": null,
      "outputs": [
        {
          "output_type": "stream",
          "name": "stdout",
          "text": [
            "_i_like_icecream_and_mango\n",
            "Palabra enconontrada\n",
            "_i_like_icecream_and_man_go\n",
            "Palabra enconontrada\n",
            "_i_like_ice_cream_and_mango\n",
            "Palabra enconontrada\n",
            "_i_like_ice_cream_and_man_go\n",
            "Palabra enconontrada\n",
            "4\n"
          ]
        }
      ]
    },
    {
      "cell_type": "markdown",
      "metadata": {
        "id": "KrVMcAOKmwLr"
      },
      "source": [
        "## Ejercicio 2\n",
        "Supón que ahora en el ejemplo 1 no se tienen tantas monedas como se deseen. Es decir, se tiene una lista $L$ de denominaciones posibles, y un entero $k$ que nos indica que tenemos exactamente $k$ monedas de cada denominación posible. Describe e implementa un algoritmo que permita contar de cuántas formas se puede formar un entero $n$ con monedas de las denominaciones dadas, y usando a lo más $k$ monedas de cada denominación."
      ]
    },
    {
      "cell_type": "markdown",
      "metadata": {
        "id": "n4yGil8IPIo4"
      },
      "source": [
        "*Descripción Ejercicio 2.* \n",
        "Priero pedimos la lista L de denominaciones, el número al que se quiere llegar y la lista de cuantas monedas tenemos de cada denominación.\n",
        "Se genera una lista , ahora si el valor de la i-esima moneda es mayor que k , se llama a la misma función de manera recursiva solo que ahora la sumamos uno a nuestro valor i, ahora si las monedas que tenemos (lista2) es menor o igual a cero volvemos a llamar de manera recursiva a la fuinción pero con i+1, de otra forma lo hacemos una copia de nuestra lista  (out)a la cual le adjuntamos el i-esimo valor de la primera lista y le restamos 1 al i-esimo valor de la segunda lista, esto es ya que tenemos una moneda menos de tal denominación y hacemos una copia de la lista 2 ya modificada y llamamos de manera recursiva a la función pero ahora el valor buscado ser'a k-el valor de L[i] y las cantidad de monedas que tenemos será la lista dos ya modificada y a esta le sumamos de nuevo a la función  pero con i+1"
      ]
    },
    {
      "cell_type": "code",
      "metadata": {
        "id": "UwH4k3ToPH1J"
      },
      "source": [
        "combs = []\n",
        "def monlim(L, k, lista2, i=0, out=None):\n",
        "    if out is None:\n",
        "        out = []\n",
        "    if i >= len(L):\n",
        "        return 0\n",
        "    if k == 0:\n",
        "        combs.append(out)\n",
        "        return 1\n",
        "    if L[i] > k:\n",
        "        return monlim(L, k, lista2, i+1,out)\n",
        "    elif(lista2[i]<=0):\n",
        "        return(monlim(L, k, lista2, i+1,out))\n",
        "    else:\n",
        "        temp = out.copy()\n",
        "        temp.append(L[i])\n",
        "        lista2[i]-=1\n",
        "        tempL=lista2.copy()\n",
        "        return monlim(L, k-L[i], tempL,i, temp) + monlim(L, k, lista2, i+1, out)\n"
      ],
      "execution_count": null,
      "outputs": []
    },
    {
      "cell_type": "markdown",
      "metadata": {
        "id": "eCrmlYEoHkSL"
      },
      "source": [
        "Algún ejemplo de el algoritmo"
      ]
    },
    {
      "cell_type": "code",
      "metadata": {
        "id": "e9TYrbL4HndS",
        "colab": {
          "base_uri": "https://localhost:8080/"
        },
        "outputId": "a1e8775c-d626-4698-9ce8-8fbb32e822f6"
      },
      "source": [
        "L = [2, 8, 4, 6]\n",
        "L2=[1,1,1,1]\n",
        "print(monlim(L, 12, L2))\n",
        "print(combs)"
      ],
      "execution_count": null,
      "outputs": [
        {
          "output_type": "stream",
          "name": "stdout",
          "text": [
            "2\n",
            "[[2, 4, 6], [8, 4]]\n"
          ]
        }
      ]
    }
  ]
}