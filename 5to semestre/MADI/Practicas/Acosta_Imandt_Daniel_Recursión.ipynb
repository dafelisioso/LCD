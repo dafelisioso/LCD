{
  "nbformat": 4,
  "nbformat_minor": 0,
  "metadata": {
    "colab": {
      "provenance": [],
      "collapsed_sections": []
    },
    "kernelspec": {
      "display_name": "Python 3 (ipykernel)",
      "language": "python",
      "name": "python3"
    },
    "language_info": {
      "codemirror_mode": {
        "name": "ipython",
        "version": 3
      },
      "file_extension": ".py",
      "mimetype": "text/x-python",
      "name": "python",
      "nbconvert_exporter": "python",
      "pygments_lexer": "ipython3",
      "version": "3.8.10"
    }
  },
  "cells": [
    {
      "cell_type": "code",
      "metadata": {
        "id": "5UmBSVfljktb"
      },
      "source": [
        "import numpy as np\n",
        "import matplotlib.pyplot as plt\n",
        "import math"
      ],
      "execution_count": null,
      "outputs": []
    },
    {
      "cell_type": "markdown",
      "metadata": {
        "id": "En6YnlOwPnQX"
      },
      "source": [
        "En esta sesión veremos algunos ejemplos clásicos donde las recursiones juegan un papel muy importante."
      ]
    },
    {
      "cell_type": "markdown",
      "metadata": {
        "id": "_qJxBZctP9Up"
      },
      "source": [
        "# Sucesión de Fibonacci\n",
        "\n",
        "Es de las mas famosas dentro de las sucesiones definidas recursivamente. Los términos de la sucesión se definen por:\n",
        "\n",
        "\\begin{align}\n",
        "F_0 = 0,\\ F_1 = 1\\\\\n",
        "F_n = F_{n-1} + F_{n-2}\n",
        "\\end{align}\n",
        "\n",
        "Veamos algunos ejemplos relacionados con esta sucesión."
      ]
    },
    {
      "cell_type": "markdown",
      "metadata": {
        "id": "WY8y3GZbSM8O"
      },
      "source": [
        "## Ejemplo 1\n",
        "\n",
        "**Muestra que cualesquiera dos números consecutivos en la sucesión de Fibonacci son primos relativos.**\n",
        "\n",
        "---\n",
        "\n",
        "Probaremos por inducción que para todo entero positivo $n$, se cumple:\n",
        "\n",
        "$$(F_n, F_{n-1}) = 1$$\n",
        "\n",
        "donde $(x,y)$ es el máximo común divisor de $x$ y $y$.\n",
        "\n",
        "**Demostración:**\n",
        "\n",
        "* Caso base: Claramente:\n",
        "\n",
        "$$(0, 1) = 1$$\n",
        "\n",
        "* Hipótesis de inducción: \n",
        "\n",
        "$$(F_k, F_{k-1}) = 1$$\n",
        "\n",
        "* Paso inductivo: Usando que $(a,b) = (a-b, b)$ Notemos que \n",
        "\n",
        "\\begin{align}\n",
        "(F_{k+1}, F_k) &= (F_{k+1} - F_k, F_k) \\\\\n",
        "&= (F_{k-1}, F_k) \\\\\n",
        "&= 1\n",
        "\\end{align}\n",
        "Lo último por nuestra hipótesis de inducción. \n",
        "\n",
        "Concluimos que en efecto, $(F_n, F_{n-1}) = 1$ para todo entero positivo $n$."
      ]
    },
    {
      "cell_type": "markdown",
      "metadata": {
        "id": "aG-CxMW8YQcX"
      },
      "source": [
        "## Ejemplo 2 \n",
        "\n",
        "**Encuentra el residuo de $F_{100005}$ al ser dividido entre $23$.**\n",
        "\n",
        "---\n",
        "\n",
        "Como cada término depende únicamente de los dos anteriores, al considerar la sucesión dada por los residuos de la de Fibonacci, hay $23 \\cdot 23$ parejas posibles de residuos módulo $23$. Por lo tanto, la sucesión de los residuos se va a ciclar a partir de cierto momento (queda como ejercicio probar que esta sucesión se cicla desde el principio). \n",
        "\n",
        "Encontrar la longitud del periodo de esta secuencia nos será útil para resolver este problema, pues si el periodo es $p$ únicamente restaría encontrar el residuo de $100005$ módulo $p$.\n",
        "\n",
        "Encontremos entonces el periodo de la sucesión de los residuos módulo $23$."
      ]
    },
    {
      "cell_type": "code",
      "metadata": {
        "colab": {
          "base_uri": "https://localhost:8080/"
        },
        "id": "h5tV6HIVcHhi",
        "outputId": "308ea252-c665-48bd-e387-14f4acd7fc65"
      },
      "source": [
        "res = [0, 1]\n",
        "cur = (1, 1)\n",
        "\n",
        "while cur != (1,0):\n",
        "    res.append(cur[1])\n",
        "    cur = (cur[1], (cur[0] + cur[1])%23)\n",
        "\n",
        "len(res)"
      ],
      "execution_count": null,
      "outputs": [
        {
          "output_type": "execute_result",
          "data": {
            "text/plain": [
              "48"
            ]
          },
          "metadata": {},
          "execution_count": 282
        }
      ]
    },
    {
      "cell_type": "markdown",
      "metadata": {
        "id": "KNHAVLDCkkWf"
      },
      "source": [
        "Ahora solo resta encontrar el residuo de $100005$ módulo $48$, y tomar el respectivo residuo de la sucesión. "
      ]
    },
    {
      "cell_type": "code",
      "metadata": {
        "colab": {
          "base_uri": "https://localhost:8080/"
        },
        "id": "XayK76EBkweQ",
        "outputId": "a529c49d-1bab-4c26-dee1-a17a10c8a46c"
      },
      "source": [
        "print(\"El residuo del 100005-ésimo número de Fibonacci módulo 23 es:\", res[100005 % 48])"
      ],
      "execution_count": null,
      "outputs": [
        {
          "output_type": "stream",
          "text": [
            "El residuo del 100005-ésimo número de Fibonacci módulo 23 es: 21\n"
          ],
          "name": "stdout"
        }
      ]
    },
    {
      "cell_type": "markdown",
      "metadata": {
        "id": "i9e5iNP0shCK"
      },
      "source": [
        "# Torres de Hanoi\n",
        "\n",
        "Consideremos el problema de las torres de Hanoi con $n$ discos:\n",
        "\n",
        "Se tienen $n$ discos de distintos tamaños y tres postes verticales donde se pueden poner estos discos. Inicialmente, se tienen todos los discos en el primer poste ordenados del más chico al más grande, con el más grande en la base. En cada paso se puede mover un disco que se encuentre hasta arriba de algún poste a cualquier otro poste siempre y cuando se coloque en un poste vacío o sobre un disco de mayor tamaño. Determina la menor cantidad de pasos necesarios para mover todos los discos del primer poste al tercero.\n",
        "\n",
        "Veamos qué pasa cuando $n$ es chico. \n",
        "\n",
        "Se puede jugar en https://www.mathsisfun.com/games/towerofhanoi.html\n",
        "\n",
        "* Si $n = 1$ es evidente que en un movimiento podemos lograr lo deseado.  \n",
        "\n",
        "* Para $n = 2$, para poder poner el disco más grande en el tercer poste necesitamos que el disco más chico esté en el segundo poste, es decir, necesitamos al menos tres movimientos, uno para mover el disco chico al segundo poste, otro para mover el grande al tercer poste, y finalmente otro para poner el disco pequeño arriba del grande. \n",
        "\n",
        "* Para $n = 3$, se sigue un razonamiento similar. Necesitamos que los dos discos más chicos estén en el segundo poste (por el caso anterior requerimos al menos $3$ movimientos para esto), para después mover el disco más grande al tercer poste (un movimiento), y luego poner los discos más chicos encima de éste (otros $3$ movimientos), lo que nos da un total de $7$ movimientos.\n",
        "\n",
        "Analizando estos primeros casos, podemos llegar a la conjetura de que el mínimo número de pasos necesarios para lograr lo deseado son $2^n - 1$. Probemos esto por inducción.\n",
        "\n",
        "* Caso base. Los mencionados anteriormente.\n",
        "\n",
        "* Hipótesis de inducción. Para $k$ discos, el menor número de pasos necesarios para mover todos los discos al tercer poste son $2^k - 1$.\n",
        "\n",
        "* Paso inductivo. Con $k+1$ discos. Para poder mover el disco más grande al tercer poste, es necesario que todos los demás estén en el segundo poste, lo que por hipótesis de inducción requiere al menos $2^k -1$ pasos. Posteriormente se requiere al menos un paso para mover el disco más grande al tercer poste, y para concluir, como todos los demás discos tuvieron que estar en el segundo poste, moverlos al tercero nos tomará otros $2^k - 1$ pasos. Sumando, tenemos que se necesitan al menos:\n",
        "\n",
        "$$(2^k - 1) + 1 + (2^k - 1) = 2^{k+1} - 1$$ \n",
        "\n",
        "pasos para lograr pasar todos los discos al tercer poste. Notemos que este paso inductivo también nos dice cómo ir haciendo los pasos para mostrar que $2^{k+1} - 1$ es suficiente para poder llegar al estado deseado.\n",
        "\n",
        "Concluimos que el menor número de pasos para poder pasar los $n$ discos del primer al tercer poste son $2^n - 1$.\n",
        "\n",
        "---\n",
        "\n",
        "Ahora, veamos cómo se puede hacer un código que resuelva este problema en la menor cantidad de pasos posible. Para esto, diseñamos el siguiente sistema para codificar el estado de los discos:\n",
        "\n",
        "* Los postes están representados por una lista de listas $P$. $P_i$ corresponde al $i$-ésimo poste, de izquierda a derecha.\n",
        "\n",
        "* Los $n$ discos se denotan por números desde $1$ hasta $n$, en orden ascendente en relación a su tamaño ($1$ es el más chico, $n$ el más grande).\n",
        "\n",
        "* $P_i$ contiene los números de los discos que están en el correspondiente poste, de abajo hacia arriba. Por ejemplo, si el segundo poste tiene los discos 1, 3, y 5, $P_2 = [5,3,1]$."
      ]
    },
    {
      "cell_type": "code",
      "metadata": {
        "colab": {
          "base_uri": "https://localhost:8080/"
        },
        "id": "XsDjqS7K_IDz",
        "outputId": "4eca8006-4844-49ee-86c5-23ae031a36c2"
      },
      "source": [
        "P = [[4, 3, 2, 1], [], []]\n",
        "steps = 0\n",
        "\n",
        "def pprint(P):\n",
        "    n = sum([len(l) for l in P])\n",
        "    s = '|'\n",
        "    for l in P:\n",
        "        for x in sorted(l)[::-1]:\n",
        "            s += f' {x}'\n",
        "        s += (n - len(l) + 1)*'  ' + '|'\n",
        "    print(s)\n",
        "\n",
        "    \n",
        "def hanoi_solve(y, a, b):\n",
        "    global steps\n",
        "    if y == 1:\n",
        "        P[a].pop()\n",
        "        P[b].append(1)\n",
        "        pprint(P)\n",
        "    else:\n",
        "        hanoi_solve(y-1, a, 3-a-b)\n",
        "        P[a].pop()\n",
        "        P[b].append(y)\n",
        "        steps += 1\n",
        "        pprint(P)\n",
        "        hanoi_solve(y-1, 3-a-b, b)\n",
        "    return\n",
        "\n",
        "hanoi_solve(4, 0, 2)"
      ],
      "execution_count": null,
      "outputs": [
        {
          "output_type": "stream",
          "text": [
            "| 4 3 2    | 1        |          |\n",
            "| 4 3      | 1        | 2        |\n",
            "| 4 3      |          | 2 1      |\n",
            "| 4        | 3        | 2 1      |\n",
            "| 4 1      | 3        | 2        |\n",
            "| 4 1      | 3 2      |          |\n",
            "| 4        | 3 2 1    |          |\n",
            "|          | 3 2 1    | 4        |\n",
            "|          | 3 2      | 4 1      |\n",
            "| 2        | 3        | 4 1      |\n",
            "| 2 1      | 3        | 4        |\n",
            "| 2 1      |          | 4 3      |\n",
            "| 2        | 1        | 4 3      |\n",
            "|          | 1        | 4 3 2    |\n",
            "|          |          | 4 3 2 1  |\n"
          ],
          "name": "stdout"
        }
      ]
    },
    {
      "cell_type": "markdown",
      "metadata": {
        "id": "yu4YprXGbj4y"
      },
      "source": [
        "## Ejercicio 1 \n",
        "\n",
        "(Relacionado con conjetura de Collatz) Considera la función $f : \\mathbb{Z}^{+} \\rightarrow \\mathbb{Z}^{+}$ dada por:\n",
        "\n",
        "$$\n",
        "f(n) = \\begin{cases}\n",
        "\\frac{n}{2} & \\text{si $n$ es par}\\\\\n",
        "3n+1 & \\text{si $n$ es impar}\n",
        "\\end{cases}\n",
        "$$\n",
        "\n",
        "Escribe un código que permita comprobar que al iterar $f$, en algún momento llegamos al número $1$. Por ejemplo, si empezamos con $n = 6$, $f(6) = 3$, $f(3) = 10$, $f(10) = 5$, $f(5) = 16$, y $f(f(f(f(16)))) = 1$, es decir, al iterar $f$ $8$ veces llegamos a $1$. \n",
        "\n",
        "Calcula en cuántas iteraciones se llega al $1$ para enteros menores a $10^4$ y grafícalo."
      ]
    },
    {
      "cell_type": "code",
      "metadata": {
        "colab": {
          "base_uri": "https://localhost:8080/"
        },
        "id": "00TenxWEp08o",
        "outputId": "4722927f-55c3-4b98-9c17-b5baee333869"
      },
      "source": [
        "def fun(x):\n",
        "  cuenta=0;\n",
        "  if x%2==0:\n",
        "    print(\"f({}) es:{}\".format(x,x/2))\n",
        "    return x/2\n",
        "    \n",
        "  elif x%2 ==1:\n",
        "    print(\" f({}) es:{}\".format(x,3*x+1))\n",
        "    return (3*x+1)\n",
        "  cuenta=cuenta+1;\n",
        "\n",
        "\n",
        "\n",
        "x=input(\"Dime el número que quieras iterar:\")\n",
        "while x !=1:\n",
        "  x=fun(int(x))"
      ],
      "execution_count": null,
      "outputs": [
        {
          "output_type": "stream",
          "text": [
            "Dime el número que quieras itinerar:2\n",
            "f(2) es:1.0\n"
          ],
          "name": "stdout"
        }
      ]
    },
    {
      "cell_type": "code",
      "metadata": {
        "colab": {
          "base_uri": "https://localhost:8080/",
          "height": 265
        },
        "id": "EoAMTPZ5sax9",
        "outputId": "c26f49a1-1cae-4119-d046-398a340d7297"
      },
      "source": [
        "\n",
        "def fun2(x):\n",
        "  a=[x]\n",
        "  while x !=1:\n",
        "    if x % 2==0:\n",
        "      x=x/2\n",
        "    else:\n",
        "      x=3*x+1\n",
        "    a.append(x)\n",
        "  return(a)\n",
        "x=[]\n",
        "y=[]\n",
        "for i in range(1,100000):\n",
        "  a=fun2(i)\n",
        "  x.append(i)\n",
        "  y.append(len(a))\n",
        "plt.plot(x,y, \"*\")\n",
        "plt.show()"
      ],
      "execution_count": null,
      "outputs": [
        {
          "output_type": "display_data",
          "data": {
            "image/png": "[encoded data removed]",
            "text/plain": [
              "<Figure size 432x288 with 1 Axes>"
            ]
          },
          "metadata": {
            "needs_background": "light"
          }
        }
      ]
    },
    {
      "cell_type": "markdown",
      "metadata": {
        "id": "t81lwhskbz5c"
      },
      "source": [
        "## Ejercicio 2\n",
        "\n",
        "Encuentra el residuo de $F_{102030405060708090}$ al ser dividido por $9! = 362880$. \n",
        "  \n",
        "  Nota que si se siguen exactamente los mismos pasos vistos en clase potencialmente podrían haber $(9!)^2 = 131681894400$ parejas posibles de residuos, lo que ocuparía mucho tiempo de ejecución en el programa, y computar los primeros $102030405060708090$ residuos también es costoso. \n",
        "\n",
        "¿Cómo optimizarlo? Hint: Recuerda el teorema chino del residuo.\n",
        "\n",
        "---\n",
        "\n",
        "Notemos que $9! = 2^7 \\cdot 3^4 \\cdot 5 \\cdot 7$. El teorema chino del residuo nos permite rescatar la congruencia módulo $9!$ sabiendo las congruencias módulo $2^7, 3^4, 5$ y $7$ de manera individual. Entonces, el primer paso es escribir un programa que calcule dichas congruencias:\n",
        "\n",
        "* $F_{102030405060708090} \\pmod {2^7}$\n",
        "\n",
        "* $F_{102030405060708090} \\pmod {3^4}$\n",
        "\n",
        "* $F_{102030405060708090} \\pmod 5$\n",
        "\n",
        "* $F_{102030405060708090} \\pmod 7$"
      ]
    },
    {
      "cell_type": "code",
      "metadata": {
        "colab": {
          "base_uri": "https://localhost:8080/"
        },
        "id": "bYi4VgQaNerF",
        "outputId": "99958521-9cf1-4ce8-fcf8-5f221fdb3f72"
      },
      "source": [
        "#para mod 2**7\n",
        "\n",
        "res = [0, 1]\n",
        "cur = (1, 1)\n",
        "\n",
        "while cur != (1,0):\n",
        "    res.append(cur[1])\n",
        "    cur = (cur[1], (cur[0] + cur[1])%128)\n",
        "    \n",
        "  \n",
        "  \n",
        "len(res)\n"
      ],
      "execution_count": null,
      "outputs": [
        {
          "output_type": "execute_result",
          "data": {
            "text/plain": [
              "192"
            ]
          },
          "metadata": {},
          "execution_count": 287
        }
      ]
    },
    {
      "cell_type": "code",
      "metadata": {
        "colab": {
          "base_uri": "https://localhost:8080/"
        },
        "id": "QHRPB6Ui28C4",
        "outputId": "f7c0b254-cf50-49c9-de70-c35a77d2bbaa"
      },
      "source": [
        "#para mod 2**7\n",
        "\n",
        "res = [0, 1]\n",
        "cur = (1, 1)\n",
        "\n",
        "while cur != (1,0):\n",
        "    res.append(cur[1])\n",
        "    cur = (cur[1], (cur[0] + cur[1])%128)\n",
        "  \n",
        "  \n",
        "len(res)\n"
      ],
      "execution_count": null,
      "outputs": [
        {
          "output_type": "execute_result",
          "data": {
            "text/plain": [
              "192"
            ]
          },
          "metadata": {},
          "execution_count": 288
        }
      ]
    },
    {
      "cell_type": "code",
      "metadata": {
        "colab": {
          "base_uri": "https://localhost:8080/"
        },
        "id": "0jmhGmfjEe68",
        "outputId": "50b1f817-a956-4de8-ea35-7f9f2bb3d8dd"
      },
      "source": [
        "res[102030405060708090 % 192]"
      ],
      "execution_count": null,
      "outputs": [
        {
          "output_type": "execute_result",
          "data": {
            "text/plain": [
              "120"
            ]
          },
          "metadata": {},
          "execution_count": 289
        }
      ]
    },
    {
      "cell_type": "code",
      "metadata": {
        "colab": {
          "base_uri": "https://localhost:8080/"
        },
        "id": "TvnuJ22nE5XZ",
        "outputId": "5d1473d4-f09a-40c2-e48a-185c3f73f904"
      },
      "source": [
        "#para mod 3**4\n",
        "\n",
        "res = [0, 1]\n",
        "cur = (1, 1)\n",
        "\n",
        "while cur != (1,0):\n",
        "    res.append(cur[1])\n",
        "    cur = (cur[1], (cur[0] + cur[1])%3**4)\n",
        "  \n",
        "  \n",
        "len(res)"
      ],
      "execution_count": null,
      "outputs": [
        {
          "output_type": "execute_result",
          "data": {
            "text/plain": [
              "216"
            ]
          },
          "metadata": {},
          "execution_count": 290
        }
      ]
    },
    {
      "cell_type": "code",
      "metadata": {
        "colab": {
          "base_uri": "https://localhost:8080/"
        },
        "id": "3ZYRiCm8FDY_",
        "outputId": "f483f1c5-5849-4ea7-fd23-64b75cc9a1ff"
      },
      "source": [
        "res[102030405060708090 % 216]"
      ],
      "execution_count": null,
      "outputs": [
        {
          "output_type": "execute_result",
          "data": {
            "text/plain": [
              "73"
            ]
          },
          "metadata": {},
          "execution_count": 291
        }
      ]
    },
    {
      "cell_type": "code",
      "metadata": {
        "colab": {
          "base_uri": "https://localhost:8080/"
        },
        "id": "jjhVfkY4FKHt",
        "outputId": "973d9b67-12ab-47eb-8fc1-cc6e6eeea320"
      },
      "source": [
        "#para mod 7\n",
        "\n",
        "res = [0, 1]\n",
        "cur = (1, 1)\n",
        "\n",
        "while cur != (1,0):\n",
        "    res.append(cur[1])\n",
        "    cur = (cur[1], (cur[0] + cur[1])%7)\n",
        "  \n",
        "  \n",
        "len(res)"
      ],
      "execution_count": null,
      "outputs": [
        {
          "output_type": "execute_result",
          "data": {
            "text/plain": [
              "16"
            ]
          },
          "metadata": {},
          "execution_count": 292
        }
      ]
    },
    {
      "cell_type": "code",
      "metadata": {
        "colab": {
          "base_uri": "https://localhost:8080/"
        },
        "id": "KANb01xJFOTb",
        "outputId": "b0005765-b8b3-482b-f139-6e8791b63d1a"
      },
      "source": [
        "res[102030405060708090 % 16]"
      ],
      "execution_count": null,
      "outputs": [
        {
          "output_type": "execute_result",
          "data": {
            "text/plain": [
              "6"
            ]
          },
          "metadata": {},
          "execution_count": 293
        }
      ]
    },
    {
      "cell_type": "code",
      "metadata": {
        "colab": {
          "base_uri": "https://localhost:8080/"
        },
        "id": "m13pE55RFRhf",
        "outputId": "d78f45fe-d69e-470e-85fe-b897396f7f94"
      },
      "source": [
        "#para mod 5\n",
        "\n",
        "res = [0, 1]\n",
        "cur = (1, 1)\n",
        "\n",
        "while cur != (1,0):\n",
        "    res.append(cur[1])\n",
        "    cur = (cur[1], (cur[0] + cur[1])%5)\n",
        "  \n",
        "  \n",
        "len(res)"
      ],
      "execution_count": null,
      "outputs": [
        {
          "output_type": "execute_result",
          "data": {
            "text/plain": [
              "20"
            ]
          },
          "metadata": {},
          "execution_count": 294
        }
      ]
    },
    {
      "cell_type": "code",
      "metadata": {
        "colab": {
          "base_uri": "https://localhost:8080/"
        },
        "id": "Th9NvH36FWT3",
        "outputId": "c8879cab-98ac-4175-86f0-5db02cae9abf"
      },
      "source": [
        "res[102030405060708090 % 5]"
      ],
      "execution_count": null,
      "outputs": [
        {
          "output_type": "execute_result",
          "data": {
            "text/plain": [
              "0"
            ]
          },
          "metadata": {},
          "execution_count": 295
        }
      ]
    },
    {
      "cell_type": "markdown",
      "metadata": {
        "id": "yaKyFhzLF7Ql"
      },
      "source": [
        "Por lo tanto tenemos \n",
        "$$x=120 (mod128)$$\n",
        "$$x=73 (mod81)$$\n",
        "$$x=6 (mod7)$$\n",
        "$$x=0 (mod5)$$\n",
        "Ahora como ya vimos son primos relativos, por el teorema del residuo chino existe una solución unica modulo m tal que $m=9!$\n",
        "\n",
        "Por lo que tenemos que $k=4$,$m_1=128$,$m_2=81$,$m_3=7$,$m_4=5$con $a_1=120$,$a_2=73$,$a_3=6$,$a_4=0$\n",
        "La solución esta dada por \n",
        "$$X=a_1*\\frac{M}{m_1}y_1+a_2*\\frac{M}{m_2}y_2+a_3*\\frac{M}{m_3}y_3+a_4*\\frac{M}{m_4}y_4$$\n",
        "\n",
        "$\\frac{M}{m_1}=2835$,$\\frac{M}{m_2}=4480$,$\\frac{M}{m_3}=51840$\n",
        "\n",
        "Ahora tenemos lo siguiente\n",
        "$$2835 y_1=1 (mod 128) \\implies y_1=27$$\n",
        "$$4480 y_2=1 (mod 81) \\implies y_2=13$$\n",
        "$$51840 y_3=1 (mod 7) \\implies y_3=3$$\n",
        "Por lo que tenemos lo siguiente\n",
        "\n",
        "$$X=120(2835)27+73(4480)13+6(51840)3=14370040 (mod(9!))$$\n",
        "Por ultimo notamos que $14370040=217720 mod(9!)$ \n",
        "$$\\therefore  X=217720 mod(9!)$$"
      ]
    },
    {
      "cell_type": "markdown",
      "metadata": {
        "id": "7HsGVZRfN_QY"
      },
      "source": [
        "Una vez hecho esto, tendrás un sistema de la forma:\n",
        "\n",
        "$$\n",
        "\\begin{align}\n",
        "    x &\\equiv a_1 \\pmod{128} \\\\\n",
        "    x &\\equiv a_2 \\pmod{81} \\\\\n",
        "    x &\\equiv a_3 \\pmod{5} \\\\\n",
        "    x &\\equiv a_4 \\pmod{7} \n",
        "\\end{align}\n",
        "$$\n",
        "\n",
        "Puedes resolver esto usando el teorema chino del residuo. Si puedes, escribe un programa que lo implemente, aunque también lo puedes hacer a mano"
      ]
    },
    {
      "cell_type": "markdown",
      "metadata": {
        "id": "RhxEjnRSrlLC"
      },
      "source": [
        "## Ejercicio 3\n",
        "\n",
        "Muestra que al considerar la sucesión de Fibonacci módulo $n$, la sucesión obtenida se cicla desde el principio."
      ]
    },
    {
      "cell_type": "markdown",
      "metadata": {
        "id": "yKtiXNrfs_S7"
      },
      "source": [
        "**Demotración**\n",
        "Como se vio anteriormente si se tiene un conjunto finito (ie mod no es infinito(cosa que no tiene sentido)) se tiene a lo más $n^2$ pares, por lo que eventualmente se va a ciclar el mod de la secuencia de Fibonacci.\n",
        "\n",
        "Ahora veremos que en efecto se cilca desde el principio ,entonces sea $f: S \\rightarrow S $ cualquier secuencia obtenida al iterar $f$.\n",
        "\n",
        "Como ya vimos toda secuencia se termina ciclando, por lo tanto la secuencia es bijectiva, al ser bijectiva tiene una inversa.\n",
        "\n",
        "Tambien sabemos lo siguiente,debido que eventualmente es periodica.\n",
        "$$F(n+1+t)=F(n+1)$$\n",
        "Entonces al aplicarle la $f^{-1}$ llegamos a lo siguiente:\n",
        "$$F(n+t)=F(n)$$\n",
        "este proceso lo repetimos $n$ veces por lo tanto llegamos a que\n",
        "$$F(t)=F(0)$$\n",
        "\n",
        "\n",
        "Por lo tanto vemos que se la sucesión de Fibonacci mod $n$ se cicla desde el principio.\n",
        "$$\\blacksquare$$"
      ]
    },
    {
      "cell_type": "markdown",
      "metadata": {
        "id": "RKTLcBgsN_QY"
      },
      "source": [
        "## Ejercicio 4\n",
        "\n",
        "(Reto, no obligatorio). Muestra que los ciclos de menor longitud en la sucesión de Fibonacci módulo $n$ tienen $1, 2$ o $4$ ceros."
      ]
    },
    {
      "cell_type": "markdown",
      "metadata": {
        "id": "mBwT2Bf7n512"
      },
      "source": [
        "Como ya vimos por el Ejercicio $3$ para cualquier módulo existen a lo más $n^2$ segmentos de dos, por lo tanto los módulos que más rápido se van a ciclar son con los $n$ más pequeños, sea n=2\n"
      ]
    },
    {
      "cell_type": "code",
      "metadata": {
        "id": "Dpw2DHu-oF9V"
      },
      "source": [
        "def  mod(n=2,x=10):\n",
        "  for i in range (1,x):\n",
        "    print(res[i % n])\n",
        "\n",
        "\n"
      ],
      "execution_count": null,
      "outputs": []
    },
    {
      "cell_type": "code",
      "metadata": {
        "colab": {
          "base_uri": "https://localhost:8080/"
        },
        "id": "pijbg_IEo0KF",
        "outputId": "d0b65457-ac00-40da-d7f5-5213acb5133e"
      },
      "source": [
        "mod1()"
      ],
      "execution_count": null,
      "outputs": [
        {
          "output_type": "stream",
          "text": [
            "1\n",
            "0\n",
            "1\n",
            "0\n",
            "1\n",
            "0\n",
            "1\n",
            "0\n",
            "1\n"
          ],
          "name": "stdout"
        }
      ]
    },
    {
      "cell_type": "markdown",
      "metadata": {
        "id": "ZGKSNQoVpCyY"
      },
      "source": [
        "Aquí notamos que el el mod de 2 tiene longiutud 2, con un cero."
      ]
    },
    {
      "cell_type": "code",
      "metadata": {
        "colab": {
          "base_uri": "https://localhost:8080/"
        },
        "id": "DTASGiTMpP1y",
        "outputId": "2dff364e-e712-4d4c-acf2-09c9a29c67d4"
      },
      "source": [
        "mod(3)"
      ],
      "execution_count": null,
      "outputs": [
        {
          "output_type": "stream",
          "text": [
            "1\n",
            "1\n",
            "0\n",
            "1\n",
            "1\n",
            "0\n",
            "1\n",
            "1\n",
            "0\n"
          ],
          "name": "stdout"
        }
      ]
    },
    {
      "cell_type": "code",
      "metadata": {
        "colab": {
          "base_uri": "https://localhost:8080/"
        },
        "id": "fW41VcOzpd1w",
        "outputId": "bf062d62-48fe-433f-93ad-7dca7ca6b080"
      },
      "source": [
        "mod(4)"
      ],
      "execution_count": null,
      "outputs": [
        {
          "output_type": "stream",
          "text": [
            "1\n",
            "1\n",
            "2\n",
            "0\n",
            "1\n",
            "1\n",
            "2\n",
            "0\n",
            "1\n"
          ],
          "name": "stdout"
        }
      ]
    },
    {
      "cell_type": "code",
      "metadata": {
        "colab": {
          "base_uri": "https://localhost:8080/"
        },
        "id": "OEB41S6XpgGi",
        "outputId": "13a079b5-b328-4bd8-f9d1-08141d24abde"
      },
      "source": [
        "mod(5,15)"
      ],
      "execution_count": null,
      "outputs": [
        {
          "output_type": "stream",
          "text": [
            "1\n",
            "1\n",
            "2\n",
            "3\n",
            "0\n",
            "1\n",
            "1\n",
            "2\n",
            "3\n",
            "0\n",
            "1\n",
            "1\n",
            "2\n",
            "3\n"
          ],
          "name": "stdout"
        }
      ]
    },
    {
      "cell_type": "code",
      "metadata": {
        "colab": {
          "base_uri": "https://localhost:8080/"
        },
        "id": "obVW_kyQprqh",
        "outputId": "384715ef-6b4c-4903-b60b-e982d8079e34"
      },
      "source": [
        "mod(6,15)"
      ],
      "execution_count": null,
      "outputs": [
        {
          "output_type": "stream",
          "text": [
            "1\n",
            "1\n",
            "2\n",
            "3\n",
            "0\n",
            "0\n",
            "1\n",
            "1\n",
            "2\n",
            "3\n",
            "0\n",
            "0\n",
            "1\n",
            "1\n"
          ],
          "name": "stdout"
        }
      ]
    },
    {
      "cell_type": "markdown",
      "metadata": {
        "id": "AOLLTaNcpw6f"
      },
      "source": [
        "para los primeros 5 mod notamos que a lo más el la longitud  tiene un cero, por lo que se cumple( o eso creo).\n",
        "\n",
        "Estoy bastante seguro de que mi hipotesis de que los primeros mod son los que tienen menor longitud tiene sus fallas, pero no se me ocurrio nada mejor.Pero en teoría la minima longitud es de dos y ese se cumple para el mod 2, entonces ya no sé :\\"
      ]
    }
  ]
}