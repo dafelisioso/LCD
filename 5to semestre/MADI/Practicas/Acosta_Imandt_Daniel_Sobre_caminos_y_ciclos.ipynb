{
  "nbformat": 4,
  "nbformat_minor": 0,
  "metadata": {
    "colab": {
      "provenance": [],
      "collapsed_sections": []
    },
    "kernelspec": {
      "display_name": "Python 3 (ipykernel)",
      "language": "python",
      "name": "python3"
    },
    "language_info": {
      "codemirror_mode": {
        "name": "ipython",
        "version": 3
      },
      "file_extension": ".py",
      "mimetype": "text/x-python",
      "name": "python",
      "nbconvert_exporter": "python",
      "pygments_lexer": "ipython3",
      "version": "3.8.10"
    }
  },
  "cells": [
    {
      "cell_type": "code",
      "metadata": {
        "id": "rtcsKhC4s2x3"
      },
      "source": [
        "from collections import deque \n",
        "import networkx as nx"
      ],
      "execution_count": null,
      "outputs": []
    },
    {
      "cell_type": "markdown",
      "metadata": {
        "id": "di_tqAjrq_PT"
      },
      "source": [
        "En esta sesión veremos algunos algoritmos o modificaciones de algoritmos que hemos visto que se relacionan con caminos y ciclos en una gráfica.\n",
        "\n",
        "# Caminos\n",
        "\n",
        "En un ejercicio de la clase pasada, se vio que con BFS podemos determinar la distancia entre dos vértices. De esto surgen dos preguntas 'naturales':\n",
        "\n",
        "*   ¿Es posible además de saber la distancia construir un camino de longitud mínima entre dos vértices?\n",
        "*   ¿Qué pasa si las aristas tienen peso? Es decir, que las aristas tengan un valor asignado, y en lugar de que la longitud de un camino sea el número de aristas, que sea la suma de los valores sobre cada arista del camino.\n",
        "\n",
        "La primera pregunta la trabajaremos en este notebook, mientras que la segunda requiere de un algoritmo más sofisticado: el algoritmo de Dijkstra, que veremos en otra sesión más adelante.\n",
        "\n",
        "Recordemos el algoritmo de BFS visto en la clase pasada : "
      ]
    },
    {
      "cell_type": "code",
      "metadata": {
        "id": "Efq-1wVUYLL_"
      },
      "source": [
        "def bfs(g, v):\n",
        "    visited = [False] * len(g.nodes)\n",
        "    q = deque()\n",
        "    visited[v] = True\n",
        "    q.append(v)\n",
        "    \n",
        "    while(q):\n",
        "        u = q.popleft()\n",
        "        print(u) # Pueden hacer lo que quieran\n",
        "        for w in g.adj[u]:\n",
        "            if not visited[w]:\n",
        "                visited[w] = True\n",
        "                q.append(w)"
      ],
      "execution_count": null,
      "outputs": []
    },
    {
      "cell_type": "markdown",
      "metadata": {
        "id": "DRBXVtkuYLMA"
      },
      "source": [
        "Aplicándolo a una gráfica:"
      ]
    },
    {
      "cell_type": "code",
      "metadata": {
        "colab": {
          "base_uri": "https://localhost:8080/",
          "height": 319
        },
        "id": "G0OI9Bh3s5vI",
        "outputId": "3e6de2c9-baff-42e3-b71e-f07a4ef965ef"
      },
      "source": [
        "G = nx.gnp_random_graph(10, 1/4)\n",
        "nx.draw(G, with_labels=True, font_weight='bold')"
      ],
      "execution_count": null,
      "outputs": [
        {
          "output_type": "display_data",
          "data": {
            "image/png": "[encoded data removed]",
            "text/plain": [
              "<Figure size 432x288 with 1 Axes>"
            ]
          },
          "metadata": {}
        }
      ]
    },
    {
      "cell_type": "code",
      "metadata": {
        "colab": {
          "base_uri": "https://localhost:8080/"
        },
        "id": "2ujXPiDfYLMD",
        "outputId": "5c6c403b-da08-4f9c-a333-f51fcc26da62"
      },
      "source": [
        "bfs(G, 0)"
      ],
      "execution_count": null,
      "outputs": [
        {
          "output_type": "stream",
          "name": "stdout",
          "text": [
            "0\n",
            "6\n",
            "9\n",
            "7\n",
            "5\n",
            "2\n",
            "8\n",
            "1\n",
            "4\n"
          ]
        }
      ]
    },
    {
      "cell_type": "markdown",
      "metadata": {
        "id": "CgL2tJyftTWF"
      },
      "source": [
        "¿Cómo construir un camino de longitud mínima de $0$ a cualquier otro vértice usando este código? Notemos que podemos hacer algunas ligeras modificaciones para lograr nuestro objetivo : en lugar de que $vis[\\;]$ guarde si ya vimmos al vértice o no, crearemos una lista $par[ \\; ]$ que guarde al vértice 'padre' de cada vértice que se vaya visitando, es decir, si $u$ es vecino de $v$ y $u$ no ha sido visitado en el recorrido de nuestro BFS, haremos $par[u] = v$, indicando que justo para pasar a $u$ pasamos por $v$ previamente.\n",
        "\n",
        "Notemos que al tener guardados estos 'padres' de los vértices podemos reconstruir fácilmente un camino de longitud mínima de cualquier $v$ a $0$, pues basta con ir caminando sobre los padres de los vértices, comenzando por $v$, hasta llegar a $0$."
      ]
    },
    {
      "cell_type": "code",
      "metadata": {
        "colab": {
          "base_uri": "https://localhost:8080/"
        },
        "id": "8XqJgRVeufLI",
        "outputId": "8fbcaba4-45a0-4d6f-887a-e77b517f7bff"
      },
      "source": [
        "def bfsr(g, v):\n",
        "    parents = [None] * len(g.nodes)\n",
        "    q = deque()\n",
        "    parents[v] = v\n",
        "    q.append(v)\n",
        "    \n",
        "    while(q):\n",
        "        u = q.popleft()\n",
        "        for w in g.adj[u]:\n",
        "            if parents[w] is None:\n",
        "                parents[w] = u\n",
        "                q.append(w)\n",
        "    parents[v] = None\n",
        "    return parents\n",
        "    \n",
        "par = bfsr(G, 0)\n",
        "for i, p in enumerate(par):\n",
        "    print(f\"{i} es hijo de {p}\")"
      ],
      "execution_count": null,
      "outputs": [
        {
          "output_type": "stream",
          "name": "stdout",
          "text": [
            "0 es hijo de None\n",
            "1 es hijo de 2\n",
            "2 es hijo de 7\n",
            "3 es hijo de None\n",
            "4 es hijo de 2\n",
            "5 es hijo de 9\n",
            "6 es hijo de 0\n",
            "7 es hijo de 6\n",
            "8 es hijo de 7\n",
            "9 es hijo de 0\n"
          ]
        }
      ]
    },
    {
      "cell_type": "markdown",
      "metadata": {
        "id": "m0q5YqgiYLMH"
      },
      "source": [
        "Con esta lista de padres, podemos reconstruir un camino entre cualquier par de vértices:"
      ]
    },
    {
      "cell_type": "code",
      "metadata": {
        "colab": {
          "base_uri": "https://localhost:8080/"
        },
        "id": "Zo1Us4GVYLMK",
        "outputId": "41d336d5-74b1-4d97-8db2-3088afc1a876"
      },
      "source": [
        "def path(g, start, end):\n",
        "    par = bfsr(g, start)\n",
        "    if par[end] is None: # No están en la misma componente conexa\n",
        "        return [] \n",
        "    else:\n",
        "        out = [end]\n",
        "        while par[end] != start:\n",
        "            end = par[end]\n",
        "            out.append(end)\n",
        "        out.append(start)\n",
        "    return out\n",
        "\n",
        "path(G, 0, 4)"
      ],
      "execution_count": null,
      "outputs": [
        {
          "output_type": "execute_result",
          "data": {
            "text/plain": [
              "[4, 2, 7, 6, 0]"
            ]
          },
          "metadata": {},
          "execution_count": 7
        }
      ]
    },
    {
      "cell_type": "markdown",
      "metadata": {
        "id": "ZU6sJr8WdCxO"
      },
      "source": [
        "En otro ejercicio de la clase pasada, vimos que es posible detectar las componentes conexas de nuestra gráfica, y esto es posible usando cualquiera de DFS o BFS."
      ]
    },
    {
      "cell_type": "markdown",
      "metadata": {
        "id": "KmTEUPT0aMeu"
      },
      "source": [
        "# Ciclos\n",
        "\n",
        "¿Cómo detectar si una gráfica tiene algún ciclo? Veamos cómo hacer esto usando DFS, para esto es importante guardar el padre de cada vértice, pues si algún vértice tiene un vértice adyacente que no es su padre y que ya vimos en el recorrido, entonces tenemos un ciclo."
      ]
    },
    {
      "cell_type": "code",
      "metadata": {
        "colab": {
          "base_uri": "https://localhost:8080/",
          "height": 319
        },
        "id": "GrJx8CxufG8N",
        "outputId": "a981c87c-66b7-4582-83d7-468672bdecbc"
      },
      "source": [
        "G = nx.gnp_random_graph(10, 1/4)\n",
        "nx.draw(G, with_labels=True, font_weight='bold')"
      ],
      "execution_count": null,
      "outputs": [
        {
          "output_type": "display_data",
          "data": {
            "image/png": "[encoded data removed]",
            "text/plain": [
              "<Figure size 432x288 with 1 Axes>"
            ]
          },
          "metadata": {}
        }
      ]
    },
    {
      "cell_type": "code",
      "metadata": {
        "id": "b2QY9tehYLMN",
        "colab": {
          "base_uri": "https://localhost:8080/"
        },
        "outputId": "34feb3e4-a00c-4d99-b122-c76691be2581"
      },
      "source": [
        "def dfs_cycle(g, v, parents, cycle=[False]):\n",
        "    for u in g.adj[v]:\n",
        "        if parents[u] is None:\n",
        "            parents[u] = v\n",
        "            dfs_cycle(g, u, parents, cycle)\n",
        "        elif parents[v] != u:\n",
        "            cycle[0] = True\n",
        "    return cycle[0]\n",
        "\n",
        "\n",
        "def has_cycle(g):\n",
        "    parents = [None] * len(g.nodes)\n",
        "    cycle = False\n",
        "    for v in g.nodes:\n",
        "        if parents[v] is None:\n",
        "            parents[v] = v\n",
        "            cycle = cycle | dfs_cycle(g, v, parents)\n",
        "    return cycle\n",
        "            \n",
        "has_cycle(G)"
      ],
      "execution_count": null,
      "outputs": [
        {
          "output_type": "execute_result",
          "data": {
            "text/plain": [
              "True"
            ]
          },
          "metadata": {},
          "execution_count": 9
        }
      ]
    },
    {
      "cell_type": "markdown",
      "metadata": {
        "id": "mw8EDf2UYLMO"
      },
      "source": [
        "# Árboles generadores\n",
        "\n",
        "El árbol generador de una gráfica $G$ es un árbol que contiene todos los vértices de $G$. Podemos usar DFS (o BFS) para producirlo de la siguiente manera:\n",
        "\n",
        "1. Caminamos toda la gráfica y obtenemos los padres de cada vértice.\n",
        "2. Insertamos una arista entre hijo y su padre.\n",
        "\n",
        "Al árbol resultante se le conoce como árbol DFS (o BFS)."
      ]
    },
    {
      "cell_type": "code",
      "metadata": {
        "id": "S-99LbxlYLMO"
      },
      "source": [
        "def dfs_parents(g, v, parents=None):\n",
        "    if parents is None:\n",
        "        parents = [None] * len(g.nodes)\n",
        "        parents[v] = v\n",
        "    for u in g.adj[v]:\n",
        "        if parents[u] is None:\n",
        "            parents[u] = v\n",
        "            dfs(g, u, parents)\n",
        "    return parents\n",
        "\n",
        "\n",
        "def dfs_tree(g, v):\n",
        "    parents = dfs_parents(g, v)\n",
        "    parents[v] = None\n",
        "\n",
        "    tree = nx.Graph()\n",
        "    tree.add_nodes_from(g.nodes)\n",
        "    for child, par in enumerate(parents):\n",
        "        if child is not None and par is not None:\n",
        "            tree.add_edge(child, par)\n",
        "    return tree"
      ],
      "execution_count": null,
      "outputs": []
    },
    {
      "cell_type": "code",
      "metadata": {
        "id": "wGeatH7cBy_5"
      },
      "source": [
        "def dfs(g, v, visited=None):\n",
        "    if visited is None:\n",
        "        visited = [False] * len(g.nodes)\n",
        "        \n",
        "    visited[v] = True\n",
        "    print(v) # Aquí puede ir cualquier otra cosa\n",
        "    for u in g.adj[v]:\n",
        "        if not visited[u]:\n",
        "            dfs(g, u, visited)"
      ],
      "execution_count": null,
      "outputs": []
    },
    {
      "cell_type": "markdown",
      "metadata": {
        "id": "yj1yIoMPYLMO"
      },
      "source": [
        "Generamos una gráfica de prueba:"
      ]
    },
    {
      "cell_type": "code",
      "metadata": {
        "id": "03UXkrJQYLMP",
        "colab": {
          "base_uri": "https://localhost:8080/",
          "height": 319
        },
        "outputId": "73dbbece-c779-49ed-b741-f47d23f83ea4"
      },
      "source": [
        "G = nx.gnp_random_graph(10, 1/3)\n",
        "nx.draw(G, with_labels=True, font_weight='bold')"
      ],
      "execution_count": null,
      "outputs": [
        {
          "output_type": "display_data",
          "data": {
            "image/png": "[encoded data removed]",
            "text/plain": [
              "<Figure size 432x288 with 1 Axes>"
            ]
          },
          "metadata": {}
        }
      ]
    },
    {
      "cell_type": "markdown",
      "metadata": {
        "id": "9vxEZ0dHYLMP"
      },
      "source": [
        "Y calculamos su árbol DFS:"
      ]
    },
    {
      "cell_type": "code",
      "metadata": {
        "id": "S-gbHwVKYLMP",
        "colab": {
          "base_uri": "https://localhost:8080/",
          "height": 465
        },
        "outputId": "a76f8293-006c-43e4-977c-3d931c6e137c"
      },
      "source": [
        "nx.draw(dfs_tree(G, 0), with_labels=True, font_weight='bold')"
      ],
      "execution_count": null,
      "outputs": [
        {
          "output_type": "stream",
          "name": "stdout",
          "text": [
            "1\n",
            "0\n",
            "4\n",
            "7\n",
            "8\n",
            "6\n",
            "5\n",
            "9\n"
          ]
        },
        {
          "output_type": "display_data",
          "data": {
            "image/png": "[encoded data removed]",
            "text/plain": [
              "<Figure size 432x288 with 1 Axes>"
            ]
          },
          "metadata": {}
        }
      ]
    },
    {
      "cell_type": "markdown",
      "metadata": {
        "id": "yYmasqVJGkrK"
      },
      "source": [
        "# Puentes\n",
        "\n",
        "Dada una gráfica $G$, decimos que una arista $e$ es un puente si al remover $e$ de la gráfica, el número de componentes conexas aumenta. Por ejemplo, en un árbol todas las aristas son puentes, mientras que en un ciclo no hay aristas que sean puentes.\n",
        "\n",
        "Dado un recorrido de DFS, las aristas de la gráfica original pueden dividirse en dos clases:\n",
        "\n",
        "*  **Arista de árbol**: Arista que pertenece al árbol DFS, es decir, que pasamos por ella cuando hacemos el recorrido DFS.\n",
        "\n",
        "*  **Arista trasera**: Arista que no es de árbol.\n",
        "\n",
        "Adicionalmente, definimos al **sub árbol de DFS con raíz en $v$** como el árbol que se tiene de considerar los vértices que fueron visitados a partir de $v$ en el recorrido de DFS, considerando las respectivas aristas, así como los vértices que ya no se recorrieron por haber sido visitados antes con las aristas respectivas (es decir, los vértices por los que preguntamos si ya habían sido visitados, y que en efecto ya habían sido visitados, por lo que se deja de explorar dicha rama).\n",
        "\n",
        "Veamos estas definiciones en un ejemplo concreto. En la siguiente gráfica los vértices ya están numerados según un posible recorrido de DFS."
      ]
    },
    {
      "cell_type": "code",
      "metadata": {
        "colab": {
          "base_uri": "https://localhost:8080/",
          "height": 319
        },
        "id": "bbN_vqVHCwIN",
        "outputId": "5412de75-9b51-45d4-d95f-d7659ba2213c"
      },
      "source": [
        "Ex = nx.Graph()\n",
        "\n",
        "Ex.add_edges_from([(0,1), (0,5), (1,2), (1,4), (2,3), (5,6), (5, 7), (7,8), (8,9), (8, 10), (0, 10)])\n",
        "nx.draw(Ex, with_labels=True, font_weight='bold', node_color='#71A125')"
      ],
      "execution_count": null,
      "outputs": [
        {
          "output_type": "display_data",
          "data": {
            "image/png": "[encoded data removed]",
            "text/plain": [
              "<Figure size 432x288 with 1 Axes>"
            ]
          },
          "metadata": {}
        }
      ]
    },
    {
      "cell_type": "markdown",
      "metadata": {
        "id": "VmRskw5hEjwT"
      },
      "source": [
        "En el ejemplo anterior, la arista $(5,7)$ es delantera, mientras que la arista $(10, 0)$ es trasera. \n",
        "\n",
        "El sub árbol de DFS con raíz en $1$ es el conformado por los vértices $1, 2, 3, 4$, el sub árbol de DFS con raíz en $10$ es el árbol con vértices $0, 10$ y la arista entre ellas, y finalmente, el subárbol de DFS con raíz en $5$ es el conformado por los vértices $5, 6, 7, 8, 9, 10, 0$, con todas las posibles aristas (de la gráfica dada), excepto por la arista $(0, 5)$.\n",
        "\n",
        "Notemos que una arista trasera siempre pertenece a un ciclo en la gráfica inicial, por lo que no puede ser un puente. De hecho la gráfica tiene ciclos si y solo si tiene aristas traseras, que fue lo que usamos para el algoritmo anterior. Entonces, únicamente las aristas delanteras son candidatas a ser puentes, ¿cómo saber cuáles lo son? Sigamos los siguientes pasos:\n",
        "\n",
        "1.   Numerar los vértices según su orden de aparición en el recorrido de DFS (tal como se hizo con la gráfica del ejemplo). Sea $num[v]$ el número correspondiente a $v$.\n",
        "2.   Para cada vértice $v$, guardar el menor valor de entre todos los vértices que pertenecen al sub árbol de DFS con raíz en $v$. Llamaremos a este número $low[v]$.\n",
        "3.   Para cada arista delantera $(u, v)$, donde $u$ es padre de $v$ en el árbol de DFS (que tiene como raíz al $0$) comprobamos si $num[u] < low[v]$. Sucede que $num[u] < low[v]$ si y solo si la arista $(u, v)$ es puente (¿por qué?).\n",
        "\n",
        "El siguiente código es una implementación de este algoritmo, nos permitirá encontrar todos los puentes en una gráfica dada."
      ]
    },
    {
      "cell_type": "code",
      "metadata": {
        "colab": {
          "base_uri": "https://localhost:8080/",
          "height": 319
        },
        "id": "00zxBxrOA5Dn",
        "outputId": "60f5822a-4008-4025-b515-f887cddbbf5f"
      },
      "source": [
        "n = 10\n",
        "p = 0.3\n",
        "GP = nx.gnp_random_graph(n,p)\n",
        "\n",
        "nx.draw(GP, with_labels=True, font_weight='bold', node_color='#71A125')"
      ],
      "execution_count": null,
      "outputs": [
        {
          "output_type": "display_data",
          "data": {
            "image/png": "[encoded data removed]",
            "text/plain": [
              "<Figure size 432x288 with 1 Axes>"
            ]
          },
          "metadata": {}
        }
      ]
    },
    {
      "cell_type": "code",
      "metadata": {
        "colab": {
          "base_uri": "https://localhost:8080/"
        },
        "id": "jaz_EowqYLMT",
        "outputId": "3ab7e133-7914-4c98-838b-1b11973510ee"
      },
      "source": [
        "def find_bridges(g, u, num=None, low=None, par=None, bridges=None, current=0):\n",
        "    if num is None:\n",
        "        num = [-1] * len(g.nodes)\n",
        "    if low is None:\n",
        "        low = [-1] * len(g.nodes)\n",
        "    if par is None:\n",
        "        par = [-1] * len(g.nodes)\n",
        "    if bridges is None:\n",
        "        bridges = []\n",
        "        \n",
        "    low[u] = current\n",
        "    num[u] = current\n",
        "    current += 1\n",
        "    for v in g.adj[u]:\n",
        "        if v != par[u]:\n",
        "            if num[v] == -1:\n",
        "                par[v] = u\n",
        "                find_bridges(g, v, num, low, par, bridges, current)\n",
        "            low[u] = min(low[u], low[v])\n",
        "            if num[u] < low[v]:\n",
        "                bridges.append((u,v))\n",
        "    return bridges\n",
        "\n",
        "bridges = find_bridges(GP, 0)\n",
        "print(bridges)\n",
        "\n",
        "#Comparemos nuestro resultado con la función bridges que viene implementada en la librería NetworkX\n",
        "print(list(nx.bridges(GP)))"
      ],
      "execution_count": null,
      "outputs": [
        {
          "output_type": "stream",
          "name": "stdout",
          "text": [
            "[(8, 3)]\n",
            "[(3, 8)]\n"
          ]
        }
      ]
    },
    {
      "cell_type": "markdown",
      "metadata": {
        "id": "liBkdQb7QJbW"
      },
      "source": [
        "# Ejercicios \n",
        "\n",
        "Dada una gráfica con vértices numerados del $0$ al $n-1$:\n",
        "\n",
        "1.   Dentro de la componente conexa que contiene a $u$, encuentra el vértice que se encuentra a mayor distancia de $u$ e imprime un camino entre $u$ y dicho vértice. (Si hay más de uno con que lo hagas para un vértice es suficiente). \n",
        "2.   Determina si la componente conexa de $u$ tiene al menos un ciclo, y en caso de que sí tenga, encuentra e imprime dos caminos distintos (sí pueden compartir aristas, pero el conjunto de aristas usadas en cada uno debe ser distinto) que conecten a $u$ con $v$, donde $v$ es el vértice de tu elección.\n",
        "\n"
      ]
    },
    {
      "cell_type": "markdown",
      "metadata": {
        "id": "1I3aoZWgXWIV"
      },
      "source": [
        "Para ambos ejercicios, tu código debe trabajar sobre la siguiente gráfica (puedes cambiar los parámetros si gustas)."
      ]
    },
    {
      "cell_type": "code",
      "metadata": {
        "colab": {
          "base_uri": "https://localhost:8080/",
          "height": 319
        },
        "id": "Lhpr_RMyXltH",
        "outputId": "fdd6eed8-3397-4440-9800-8c9784e85b8c"
      },
      "source": [
        "l = 15\n",
        "q = 0.25\n",
        "GE = nx.gnp_random_graph(l,q,seed=10) #Usamos seed\n",
        "\n",
        "nx.draw(GE, with_labels=True, font_weight='bold', node_color='#71A125')\n"
      ],
      "execution_count": null,
      "outputs": [
        {
          "output_type": "display_data",
          "data": {
            "image/png": "[encoded data removed]",
            "text/plain": [
              "<Figure size 432x288 with 1 Axes>"
            ]
          },
          "metadata": {}
        }
      ]
    },
    {
      "cell_type": "markdown",
      "metadata": {
        "id": "P68QmU41X-SB"
      },
      "source": [
        "*Ejercicio 1*. En la siguiente celda escribe el código del ejercicio 1. Recuerda guardar el vértice que encuentres, para posteriormente usarlo en el ejercicio 2."
      ]
    },
    {
      "cell_type": "code",
      "metadata": {
        "colab": {
          "base_uri": "https://localhost:8080/"
        },
        "id": "-nZDAvtmCWb6",
        "outputId": "59f770d8-5d3c-40a4-8c18-1cecd3f8be77"
      },
      "source": [
        "def dist(g,u):\n",
        "  \n",
        "  distancias=[]\n",
        "  for i in range(0,len(GE.nodes)):\n",
        "    distancias.append(len(path(g,u,i))-1)\n",
        "  noddist=distancias.index(max(distancias))\n",
        "  print('Uno de los nodos a mayor distancia de', u , \"es\", noddist, '\\ndonde su distancia es', max(distancias),'\\nY el camino que toma es:', path(g, u, noddist ))\n",
        "\n",
        "dist(GE,4)"
      ],
      "execution_count": null,
      "outputs": [
        {
          "output_type": "stream",
          "name": "stdout",
          "text": [
            "Uno de los nodos a mayor distancia de 4 es 6 \n",
            "donde su distancia es 3 \n",
            "Y el camino que toma es: [6, 3, 2, 4]\n"
          ]
        }
      ]
    },
    {
      "cell_type": "markdown",
      "metadata": {
        "id": "jKO_Jr8gYMup"
      },
      "source": [
        "*Ejercicio 2.* En la siguiente celda escribe el código del ejercicio 2.  (Hint : recuerda que en el ejemplo donde determinamos si la gráfica tiene ciclo o no, lo que estamos haciendo es checar si existe arista trasera o no)."
      ]
    },
    {
      "cell_type": "code",
      "metadata": {
        "colab": {
          "base_uri": "https://localhost:8080/"
        },
        "id": "dypLULoGElyy",
        "outputId": "6214ab6b-29f1-4308-e188-d47cc321e8d6"
      },
      "source": [
        "from operator import itemgetter\n",
        "from itertools import groupby\n",
        "\n",
        "\n",
        "\n",
        "def doscam(g,u,v):\n",
        "  print(\" ¿la gráfica \",g, \"tiene ciclo? :\", has_cycle(g))\n",
        "  distancias=[]\n",
        "\n",
        "  if has_cycle(g)== True:\n",
        "    path(g, u, v )\n",
        "    print(\"Un camino posible es:\",path(g, u, v ))\n",
        "    for i in range(0,len(GE.nodes)):\n",
        "      if i not in path(g, u, v):\n",
        "        a=path(g, i, v )\n",
        "        b=path(g,u,i)\n",
        "        c=[*a,*b]\n",
        "        d=[x[0] for x in groupby(c)]\n",
        "    print(\"Otro camino posible es:\",d)\n",
        "  else:\n",
        "    print(\"no hay ciclos\")\n",
        "\n",
        "\n",
        "\n",
        "doscam(GE,1,9)"
      ],
      "execution_count": null,
      "outputs": [
        {
          "output_type": "stream",
          "name": "stdout",
          "text": [
            " ¿la gráfica  Graph with 15 nodes and 28 edges tiene ciclo? : True\n",
            "Un camino posible es: [9, 8, 4, 10, 1]\n",
            "Otro camino posible es: [9, 8, 14, 13, 10, 1]\n"
          ]
        }
      ]
    }
  ]
}