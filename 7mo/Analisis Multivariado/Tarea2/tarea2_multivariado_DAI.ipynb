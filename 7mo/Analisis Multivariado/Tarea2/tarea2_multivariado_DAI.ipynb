{
  "nbformat": 4,
  "nbformat_minor": 0,
  "metadata": {
    "colab": {
      "provenance": []
    },
    "kernelspec": {
      "name": "python3",
      "display_name": "Python 3"
    },
    "language_info": {
      "name": "python"
    }
  },
  "cells": [
    {
      "cell_type": "code",
      "execution_count": 1,
      "metadata": {
        "id": "eUVEpWlMM18z",
        "colab": {
          "base_uri": "https://localhost:8080/"
        },
        "outputId": "1953d3b1-a447-471a-cf5c-25e6320a5b60"
      },
      "outputs": [
        {
          "output_type": "stream",
          "name": "stderr",
          "text": [
            "/usr/local/lib/python3.7/dist-packages/seaborn/apionly.py:9: UserWarning: As seaborn no longer sets a default style on import, the seaborn.apionly module is deprecated. It will be removed in a future version.\n",
            "  warnings.warn(msg, UserWarning)\n"
          ]
        }
      ],
      "source": [
        "import pandas as pd\n",
        "import numpy as np\n",
        "import matplotlib.pyplot as plt\n",
        "import seaborn.apionly as sns\n",
        "from sklearn.preprocessing import StandardScaler\n",
        "from mpl_toolkits import mplot3d\n",
        "#!pip install rpy2==3.5.1\n",
        "from sklearn.decomposition import FactorAnalysis\n",
        "from scipy.cluster.hierarchy import dendrogram, linkage\n",
        "from scipy.spatial import distance_matrix\n",
        "pd.set_option('display.max_columns', None)\n",
        "%matplotlib inline\n",
        "from mpl_toolkits.mplot3d import Axes3D\n",
        "plt.rcParams['figure.figsize'] = (16, 9)\n",
        "plt.style.use('ggplot')\n",
        "# activate R magic\n",
        "%load_ext rpy2.ipython"
      ]
    },
    {
      "cell_type": "markdown",
      "source": [
        "## Ejercicio 1\n",
        "Considere los datos correspondientes a los gastos que diferentes tipos de\n",
        "familias hacen en comida. Los tipos de familias son:\\\\\n",
        "- (MA) Trabajadores Manuales,\n",
        "\n",
        "- (EM) Empleados,\n",
        "\n",
        "- (CA) Jefes,\n",
        "\n",
        "donde esta clasificación es de acuerdo a la actividad de quienes proveen el\n",
        "gasto para la casa, los datos provienen de familias en Francia. Por otra parte,\n",
        "en la clasificación también se considera el número de niños en la familia, de\n",
        "forma que MA2 denota a una familia donde el soporte económico lo proveen\n",
        "trabajadores manuales y la cual tiene 2 niños. Se tienen familias con 2, 3, 4 y\n",
        "5 niños. Los tipos de alimentos son $X1$ = pan, $X2$ = vegetales, $X3$ = frutas,\n",
        "$X4$ = carne, $X5$ = pollo y aves, $X6$ = leche, $X7$ = vino. Haga un Análisis de\n",
        "Factores de estos datos. ¿ Cómo se relaciona este análisis con el NPCA que\n",
        "se llevó a cabo en el primer examen parcial ?"
      ],
      "metadata": {
        "id": "lxLFAKtwOq-s"
      }
    },
    {
      "cell_type": "code",
      "source": [
        "columnas = ['pan','vegetales','frutas','carne','pollo y aves','leche','vino']\n",
        "dict_ = {}\n",
        "for index, value in enumerate(columnas):\n",
        "    dict_[index+1] = value\n",
        "\n",
        "dict_[0] = 'Tipo de Familia'"
      ],
      "metadata": {
        "id": "sVanY4e0NEK5"
      },
      "execution_count": 2,
      "outputs": []
    },
    {
      "cell_type": "code",
      "source": [
        "food = pd.read_csv('food.dat',header=None,sep=' ').rename(columns=dict_)\n",
        "y_ = food.iloc[:,0].values.reshape((12,1))\n",
        "food"
      ],
      "metadata": {
        "id": "rlBvxWdgcBKw",
        "colab": {
          "base_uri": "https://localhost:8080/",
          "height": 425
        },
        "outputId": "91b1f4a3-df07-4d14-fd74-77e3380b1e35"
      },
      "execution_count": 3,
      "outputs": [
        {
          "output_type": "execute_result",
          "data": {
            "text/plain": [
              "   Tipo de Familia  pan  vegetales  frutas  carne  pollo y aves  leche  vino\n",
              "0              MA2  332        428     354   1437           526    247   427\n",
              "1              EM2  293        559     388   1527           567    239   258\n",
              "2              CA2  372        767     562   1948           927    235   433\n",
              "3              MA3  406        563     341   1507           544    324   407\n",
              "4              EM3  386        608     396   1501           558    319   363\n",
              "5              CA3  438        843     689   2345          1148    243   341\n",
              "6              MA4  534        660     367   1620           638    414   407\n",
              "7              EM4  460        699     484   1856           762    400   416\n",
              "8              CA4  385        789     621   2366          1149    304   282\n",
              "9              MA5  655        776     423   1848           759    495   486\n",
              "10             EM5  584        995     548   2056           893    518   319\n",
              "11             CA5  515       1097     887   2630          1167    561   284"
            ],
            "text/html": [
              "\n",
              "  <div id=\"df-fb5d6bd9-4473-4c32-a877-1c0d13410515\">\n",
              "    <div class=\"colab-df-container\">\n",
              "      <div>\n",
              "<style scoped>\n",
              "    .dataframe tbody tr th:only-of-type {\n",
              "        vertical-align: middle;\n",
              "    }\n",
              "\n",
              "    .dataframe tbody tr th {\n",
              "        vertical-align: top;\n",
              "    }\n",
              "\n",
              "    .dataframe thead th {\n",
              "        text-align: right;\n",
              "    }\n",
              "</style>\n",
              "<table border=\"1\" class=\"dataframe\">\n",
              "  <thead>\n",
              "    <tr style=\"text-align: right;\">\n",
              "      <th></th>\n",
              "      <th>Tipo de Familia</th>\n",
              "      <th>pan</th>\n",
              "      <th>vegetales</th>\n",
              "      <th>frutas</th>\n",
              "      <th>carne</th>\n",
              "      <th>pollo y aves</th>\n",
              "      <th>leche</th>\n",
              "      <th>vino</th>\n",
              "    </tr>\n",
              "  </thead>\n",
              "  <tbody>\n",
              "    <tr>\n",
              "      <th>0</th>\n",
              "      <td>MA2</td>\n",
              "      <td>332</td>\n",
              "      <td>428</td>\n",
              "      <td>354</td>\n",
              "      <td>1437</td>\n",
              "      <td>526</td>\n",
              "      <td>247</td>\n",
              "      <td>427</td>\n",
              "    </tr>\n",
              "    <tr>\n",
              "      <th>1</th>\n",
              "      <td>EM2</td>\n",
              "      <td>293</td>\n",
              "      <td>559</td>\n",
              "      <td>388</td>\n",
              "      <td>1527</td>\n",
              "      <td>567</td>\n",
              "      <td>239</td>\n",
              "      <td>258</td>\n",
              "    </tr>\n",
              "    <tr>\n",
              "      <th>2</th>\n",
              "      <td>CA2</td>\n",
              "      <td>372</td>\n",
              "      <td>767</td>\n",
              "      <td>562</td>\n",
              "      <td>1948</td>\n",
              "      <td>927</td>\n",
              "      <td>235</td>\n",
              "      <td>433</td>\n",
              "    </tr>\n",
              "    <tr>\n",
              "      <th>3</th>\n",
              "      <td>MA3</td>\n",
              "      <td>406</td>\n",
              "      <td>563</td>\n",
              "      <td>341</td>\n",
              "      <td>1507</td>\n",
              "      <td>544</td>\n",
              "      <td>324</td>\n",
              "      <td>407</td>\n",
              "    </tr>\n",
              "    <tr>\n",
              "      <th>4</th>\n",
              "      <td>EM3</td>\n",
              "      <td>386</td>\n",
              "      <td>608</td>\n",
              "      <td>396</td>\n",
              "      <td>1501</td>\n",
              "      <td>558</td>\n",
              "      <td>319</td>\n",
              "      <td>363</td>\n",
              "    </tr>\n",
              "    <tr>\n",
              "      <th>5</th>\n",
              "      <td>CA3</td>\n",
              "      <td>438</td>\n",
              "      <td>843</td>\n",
              "      <td>689</td>\n",
              "      <td>2345</td>\n",
              "      <td>1148</td>\n",
              "      <td>243</td>\n",
              "      <td>341</td>\n",
              "    </tr>\n",
              "    <tr>\n",
              "      <th>6</th>\n",
              "      <td>MA4</td>\n",
              "      <td>534</td>\n",
              "      <td>660</td>\n",
              "      <td>367</td>\n",
              "      <td>1620</td>\n",
              "      <td>638</td>\n",
              "      <td>414</td>\n",
              "      <td>407</td>\n",
              "    </tr>\n",
              "    <tr>\n",
              "      <th>7</th>\n",
              "      <td>EM4</td>\n",
              "      <td>460</td>\n",
              "      <td>699</td>\n",
              "      <td>484</td>\n",
              "      <td>1856</td>\n",
              "      <td>762</td>\n",
              "      <td>400</td>\n",
              "      <td>416</td>\n",
              "    </tr>\n",
              "    <tr>\n",
              "      <th>8</th>\n",
              "      <td>CA4</td>\n",
              "      <td>385</td>\n",
              "      <td>789</td>\n",
              "      <td>621</td>\n",
              "      <td>2366</td>\n",
              "      <td>1149</td>\n",
              "      <td>304</td>\n",
              "      <td>282</td>\n",
              "    </tr>\n",
              "    <tr>\n",
              "      <th>9</th>\n",
              "      <td>MA5</td>\n",
              "      <td>655</td>\n",
              "      <td>776</td>\n",
              "      <td>423</td>\n",
              "      <td>1848</td>\n",
              "      <td>759</td>\n",
              "      <td>495</td>\n",
              "      <td>486</td>\n",
              "    </tr>\n",
              "    <tr>\n",
              "      <th>10</th>\n",
              "      <td>EM5</td>\n",
              "      <td>584</td>\n",
              "      <td>995</td>\n",
              "      <td>548</td>\n",
              "      <td>2056</td>\n",
              "      <td>893</td>\n",
              "      <td>518</td>\n",
              "      <td>319</td>\n",
              "    </tr>\n",
              "    <tr>\n",
              "      <th>11</th>\n",
              "      <td>CA5</td>\n",
              "      <td>515</td>\n",
              "      <td>1097</td>\n",
              "      <td>887</td>\n",
              "      <td>2630</td>\n",
              "      <td>1167</td>\n",
              "      <td>561</td>\n",
              "      <td>284</td>\n",
              "    </tr>\n",
              "  </tbody>\n",
              "</table>\n",
              "</div>\n",
              "      <button class=\"colab-df-convert\" onclick=\"convertToInteractive('df-fb5d6bd9-4473-4c32-a877-1c0d13410515')\"\n",
              "              title=\"Convert this dataframe to an interactive table.\"\n",
              "              style=\"display:none;\">\n",
              "        \n",
              "  <svg xmlns=\"http://www.w3.org/2000/svg\" height=\"24px\"viewBox=\"0 0 24 24\"\n",
              "       width=\"24px\">\n",
              "    <path d=\"M0 0h24v24H0V0z\" fill=\"none\"/>\n",
              "    <path d=\"M18.56 5.44l.94 2.06.94-2.06 2.06-.94-2.06-.94-.94-2.06-.94 2.06-2.06.94zm-11 1L8.5 8.5l.94-2.06 2.06-.94-2.06-.94L8.5 2.5l-.94 2.06-2.06.94zm10 10l.94 2.06.94-2.06 2.06-.94-2.06-.94-.94-2.06-.94 2.06-2.06.94z\"/><path d=\"M17.41 7.96l-1.37-1.37c-.4-.4-.92-.59-1.43-.59-.52 0-1.04.2-1.43.59L10.3 9.45l-7.72 7.72c-.78.78-.78 2.05 0 2.83L4 21.41c.39.39.9.59 1.41.59.51 0 1.02-.2 1.41-.59l7.78-7.78 2.81-2.81c.8-.78.8-2.07 0-2.86zM5.41 20L4 18.59l7.72-7.72 1.47 1.35L5.41 20z\"/>\n",
              "  </svg>\n",
              "      </button>\n",
              "      \n",
              "  <style>\n",
              "    .colab-df-container {\n",
              "      display:flex;\n",
              "      flex-wrap:wrap;\n",
              "      gap: 12px;\n",
              "    }\n",
              "\n",
              "    .colab-df-convert {\n",
              "      background-color: #E8F0FE;\n",
              "      border: none;\n",
              "      border-radius: 50%;\n",
              "      cursor: pointer;\n",
              "      display: none;\n",
              "      fill: #1967D2;\n",
              "      height: 32px;\n",
              "      padding: 0 0 0 0;\n",
              "      width: 32px;\n",
              "    }\n",
              "\n",
              "    .colab-df-convert:hover {\n",
              "      background-color: #E2EBFA;\n",
              "      box-shadow: 0px 1px 2px rgba(60, 64, 67, 0.3), 0px 1px 3px 1px rgba(60, 64, 67, 0.15);\n",
              "      fill: #174EA6;\n",
              "    }\n",
              "\n",
              "    [theme=dark] .colab-df-convert {\n",
              "      background-color: #3B4455;\n",
              "      fill: #D2E3FC;\n",
              "    }\n",
              "\n",
              "    [theme=dark] .colab-df-convert:hover {\n",
              "      background-color: #434B5C;\n",
              "      box-shadow: 0px 1px 3px 1px rgba(0, 0, 0, 0.15);\n",
              "      filter: drop-shadow(0px 1px 2px rgba(0, 0, 0, 0.3));\n",
              "      fill: #FFFFFF;\n",
              "    }\n",
              "  </style>\n",
              "\n",
              "      <script>\n",
              "        const buttonEl =\n",
              "          document.querySelector('#df-fb5d6bd9-4473-4c32-a877-1c0d13410515 button.colab-df-convert');\n",
              "        buttonEl.style.display =\n",
              "          google.colab.kernel.accessAllowed ? 'block' : 'none';\n",
              "\n",
              "        async function convertToInteractive(key) {\n",
              "          const element = document.querySelector('#df-fb5d6bd9-4473-4c32-a877-1c0d13410515');\n",
              "          const dataTable =\n",
              "            await google.colab.kernel.invokeFunction('convertToInteractive',\n",
              "                                                     [key], {});\n",
              "          if (!dataTable) return;\n",
              "\n",
              "          const docLinkHtml = 'Like what you see? Visit the ' +\n",
              "            '<a target=\"_blank\" href=https://colab.research.google.com/notebooks/data_table.ipynb>data table notebook</a>'\n",
              "            + ' to learn more about interactive tables.';\n",
              "          element.innerHTML = '';\n",
              "          dataTable['output_type'] = 'display_data';\n",
              "          await google.colab.output.renderOutput(dataTable, element);\n",
              "          const docLink = document.createElement('div');\n",
              "          docLink.innerHTML = docLinkHtml;\n",
              "          element.appendChild(docLink);\n",
              "        }\n",
              "      </script>\n",
              "    </div>\n",
              "  </div>\n",
              "  "
            ]
          },
          "metadata": {},
          "execution_count": 3
        }
      ]
    },
    {
      "cell_type": "code",
      "source": [
        "y = ['MA', 'EM', 'CA', 'MA', 'EM', 'CA', 'MA', 'EM', 'CA','MA', 'EM', 'CA']\n",
        "for index, value in enumerate(y):\n",
        "    if value == 'MA':\n",
        "        y[index] = 0\n",
        "    elif value == 'EM':\n",
        "        y[index] = 1\n",
        "    else:\n",
        "        y[index] = 2"
      ],
      "metadata": {
        "id": "Qyab-QGkSwE6"
      },
      "execution_count": 4,
      "outputs": []
    },
    {
      "cell_type": "code",
      "source": [
        "plt.figure(figsize=(15,10))\n",
        "sns.heatmap(food.corr(),annot=True,annot_kws={'fontsize':15},vmin=-1, vmax=1,cmap='spring')\n",
        "plt.xticks(fontsize=15)\n",
        "plt.yticks(fontsize=15)\n",
        "plt.show()"
      ],
      "metadata": {
        "colab": {
          "base_uri": "https://localhost:8080/",
          "height": 601
        },
        "id": "KOlFP7mEDymQ",
        "outputId": "a3e4a6cd-4cf9-4403-f182-a92c4f0b1657"
      },
      "execution_count": 5,
      "outputs": [
        {
          "output_type": "display_data",
          "data": {
            "text/plain": [
              "<Figure size 1080x720 with 2 Axes>"
            ],
            "image/png": "[encoded data removed]"
          },
          "metadata": {}
        }
      ]
    },
    {
      "cell_type": "code",
      "source": [
        "#Obtenemos las variables\n",
        "X = food.iloc[:,1:].values\n",
        "\n",
        "#Estandarisamos las variables\n",
        "SC = StandardScaler()\n",
        "X_std = SC.fit_transform(X)\n",
        "#Vemos que porcentaje de la varianza explicada podemos obtener tomas n componentes\n",
        "value, vec = np.linalg.eig(np.corrcoef(X_std.T))\n",
        "value_ = np.sort(value)[::-1]\n",
        "componentes = 3\n",
        "varianza_explicada = np.sum(value_[:componentes])/value_.sum()\n",
        "varianza_explicada"
      ],
      "metadata": {
        "colab": {
          "base_uri": "https://localhost:8080/"
        },
        "id": "UjpRXIIXExef",
        "outputId": "71825161-b76b-4dda-c9d1-0c187a6671d7"
      },
      "execution_count": 6,
      "outputs": [
        {
          "output_type": "execute_result",
          "data": {
            "text/plain": [
              "0.9706234158159143"
            ]
          },
          "metadata": {},
          "execution_count": 6
        }
      ]
    },
    {
      "cell_type": "code",
      "source": [
        "#Transformamos nuestros datos usando las componenes elegidas\n",
        "FA = FactorAnalysis(n_components = 3,rotation='varimax')\n",
        "X_FA = FA.fit_transform(X_std)\n",
        "X_FA"
      ],
      "metadata": {
        "colab": {
          "base_uri": "https://localhost:8080/"
        },
        "id": "VdUL90RIsvRx",
        "outputId": "b255ca86-b8ee-4579-8d25-236f57aefa1f"
      },
      "execution_count": 7,
      "outputs": [
        {
          "output_type": "execute_result",
          "data": {
            "text/plain": [
              "array([[-1.07492716, -0.90119099,  0.30070703],\n",
              "       [-0.86403563, -1.09362386,  1.09429429],\n",
              "       [ 0.54578663, -1.12828213, -0.83952786],\n",
              "       [-1.04941437, -0.15223751,  0.23842439],\n",
              "       [-1.00692639, -0.28062287,  0.45501561],\n",
              "       [ 1.52494151, -0.94952195, -1.11774579],\n",
              "       [-0.78966141,  0.75967512, -0.79948876],\n",
              "       [-0.1885647 ,  0.32302927,  0.25872767],\n",
              "       [ 1.48992528, -0.85734686, -0.10742586],\n",
              "       [-0.33207614,  1.63510467, -1.48809973],\n",
              "       [ 0.22771056,  1.39951635, -0.16676895],\n",
              "       [ 1.51724183,  1.24550075,  2.17188797]])"
            ]
          },
          "metadata": {},
          "execution_count": 7
        }
      ]
    },
    {
      "cell_type": "code",
      "source": [
        "fad=pd.DataFrame(X_FA,columns=['componente 1', 'componente 2', 'componente 3'])\n",
        "fad"
      ],
      "metadata": {
        "colab": {
          "base_uri": "https://localhost:8080/",
          "height": 425
        },
        "id": "xLNZZnggRC1u",
        "outputId": "b3c01e61-3e05-4061-f532-7c17546f908d"
      },
      "execution_count": 8,
      "outputs": [
        {
          "output_type": "execute_result",
          "data": {
            "text/plain": [
              "    componente 1  componente 2  componente 3\n",
              "0      -1.074927     -0.901191      0.300707\n",
              "1      -0.864036     -1.093624      1.094294\n",
              "2       0.545787     -1.128282     -0.839528\n",
              "3      -1.049414     -0.152238      0.238424\n",
              "4      -1.006926     -0.280623      0.455016\n",
              "5       1.524942     -0.949522     -1.117746\n",
              "6      -0.789661      0.759675     -0.799489\n",
              "7      -0.188565      0.323029      0.258728\n",
              "8       1.489925     -0.857347     -0.107426\n",
              "9      -0.332076      1.635105     -1.488100\n",
              "10      0.227711      1.399516     -0.166769\n",
              "11      1.517242      1.245501      2.171888"
            ],
            "text/html": [
              "\n",
              "  <div id=\"df-3c7c5ffb-d975-43e6-a1b7-8d0521a5281c\">\n",
              "    <div class=\"colab-df-container\">\n",
              "      <div>\n",
              "<style scoped>\n",
              "    .dataframe tbody tr th:only-of-type {\n",
              "        vertical-align: middle;\n",
              "    }\n",
              "\n",
              "    .dataframe tbody tr th {\n",
              "        vertical-align: top;\n",
              "    }\n",
              "\n",
              "    .dataframe thead th {\n",
              "        text-align: right;\n",
              "    }\n",
              "</style>\n",
              "<table border=\"1\" class=\"dataframe\">\n",
              "  <thead>\n",
              "    <tr style=\"text-align: right;\">\n",
              "      <th></th>\n",
              "      <th>componente 1</th>\n",
              "      <th>componente 2</th>\n",
              "      <th>componente 3</th>\n",
              "    </tr>\n",
              "  </thead>\n",
              "  <tbody>\n",
              "    <tr>\n",
              "      <th>0</th>\n",
              "      <td>-1.074927</td>\n",
              "      <td>-0.901191</td>\n",
              "      <td>0.300707</td>\n",
              "    </tr>\n",
              "    <tr>\n",
              "      <th>1</th>\n",
              "      <td>-0.864036</td>\n",
              "      <td>-1.093624</td>\n",
              "      <td>1.094294</td>\n",
              "    </tr>\n",
              "    <tr>\n",
              "      <th>2</th>\n",
              "      <td>0.545787</td>\n",
              "      <td>-1.128282</td>\n",
              "      <td>-0.839528</td>\n",
              "    </tr>\n",
              "    <tr>\n",
              "      <th>3</th>\n",
              "      <td>-1.049414</td>\n",
              "      <td>-0.152238</td>\n",
              "      <td>0.238424</td>\n",
              "    </tr>\n",
              "    <tr>\n",
              "      <th>4</th>\n",
              "      <td>-1.006926</td>\n",
              "      <td>-0.280623</td>\n",
              "      <td>0.455016</td>\n",
              "    </tr>\n",
              "    <tr>\n",
              "      <th>5</th>\n",
              "      <td>1.524942</td>\n",
              "      <td>-0.949522</td>\n",
              "      <td>-1.117746</td>\n",
              "    </tr>\n",
              "    <tr>\n",
              "      <th>6</th>\n",
              "      <td>-0.789661</td>\n",
              "      <td>0.759675</td>\n",
              "      <td>-0.799489</td>\n",
              "    </tr>\n",
              "    <tr>\n",
              "      <th>7</th>\n",
              "      <td>-0.188565</td>\n",
              "      <td>0.323029</td>\n",
              "      <td>0.258728</td>\n",
              "    </tr>\n",
              "    <tr>\n",
              "      <th>8</th>\n",
              "      <td>1.489925</td>\n",
              "      <td>-0.857347</td>\n",
              "      <td>-0.107426</td>\n",
              "    </tr>\n",
              "    <tr>\n",
              "      <th>9</th>\n",
              "      <td>-0.332076</td>\n",
              "      <td>1.635105</td>\n",
              "      <td>-1.488100</td>\n",
              "    </tr>\n",
              "    <tr>\n",
              "      <th>10</th>\n",
              "      <td>0.227711</td>\n",
              "      <td>1.399516</td>\n",
              "      <td>-0.166769</td>\n",
              "    </tr>\n",
              "    <tr>\n",
              "      <th>11</th>\n",
              "      <td>1.517242</td>\n",
              "      <td>1.245501</td>\n",
              "      <td>2.171888</td>\n",
              "    </tr>\n",
              "  </tbody>\n",
              "</table>\n",
              "</div>\n",
              "      <button class=\"colab-df-convert\" onclick=\"convertToInteractive('df-3c7c5ffb-d975-43e6-a1b7-8d0521a5281c')\"\n",
              "              title=\"Convert this dataframe to an interactive table.\"\n",
              "              style=\"display:none;\">\n",
              "        \n",
              "  <svg xmlns=\"http://www.w3.org/2000/svg\" height=\"24px\"viewBox=\"0 0 24 24\"\n",
              "       width=\"24px\">\n",
              "    <path d=\"M0 0h24v24H0V0z\" fill=\"none\"/>\n",
              "    <path d=\"M18.56 5.44l.94 2.06.94-2.06 2.06-.94-2.06-.94-.94-2.06-.94 2.06-2.06.94zm-11 1L8.5 8.5l.94-2.06 2.06-.94-2.06-.94L8.5 2.5l-.94 2.06-2.06.94zm10 10l.94 2.06.94-2.06 2.06-.94-2.06-.94-.94-2.06-.94 2.06-2.06.94z\"/><path d=\"M17.41 7.96l-1.37-1.37c-.4-.4-.92-.59-1.43-.59-.52 0-1.04.2-1.43.59L10.3 9.45l-7.72 7.72c-.78.78-.78 2.05 0 2.83L4 21.41c.39.39.9.59 1.41.59.51 0 1.02-.2 1.41-.59l7.78-7.78 2.81-2.81c.8-.78.8-2.07 0-2.86zM5.41 20L4 18.59l7.72-7.72 1.47 1.35L5.41 20z\"/>\n",
              "  </svg>\n",
              "      </button>\n",
              "      \n",
              "  <style>\n",
              "    .colab-df-container {\n",
              "      display:flex;\n",
              "      flex-wrap:wrap;\n",
              "      gap: 12px;\n",
              "    }\n",
              "\n",
              "    .colab-df-convert {\n",
              "      background-color: #E8F0FE;\n",
              "      border: none;\n",
              "      border-radius: 50%;\n",
              "      cursor: pointer;\n",
              "      display: none;\n",
              "      fill: #1967D2;\n",
              "      height: 32px;\n",
              "      padding: 0 0 0 0;\n",
              "      width: 32px;\n",
              "    }\n",
              "\n",
              "    .colab-df-convert:hover {\n",
              "      background-color: #E2EBFA;\n",
              "      box-shadow: 0px 1px 2px rgba(60, 64, 67, 0.3), 0px 1px 3px 1px rgba(60, 64, 67, 0.15);\n",
              "      fill: #174EA6;\n",
              "    }\n",
              "\n",
              "    [theme=dark] .colab-df-convert {\n",
              "      background-color: #3B4455;\n",
              "      fill: #D2E3FC;\n",
              "    }\n",
              "\n",
              "    [theme=dark] .colab-df-convert:hover {\n",
              "      background-color: #434B5C;\n",
              "      box-shadow: 0px 1px 3px 1px rgba(0, 0, 0, 0.15);\n",
              "      filter: drop-shadow(0px 1px 2px rgba(0, 0, 0, 0.3));\n",
              "      fill: #FFFFFF;\n",
              "    }\n",
              "  </style>\n",
              "\n",
              "      <script>\n",
              "        const buttonEl =\n",
              "          document.querySelector('#df-3c7c5ffb-d975-43e6-a1b7-8d0521a5281c button.colab-df-convert');\n",
              "        buttonEl.style.display =\n",
              "          google.colab.kernel.accessAllowed ? 'block' : 'none';\n",
              "\n",
              "        async function convertToInteractive(key) {\n",
              "          const element = document.querySelector('#df-3c7c5ffb-d975-43e6-a1b7-8d0521a5281c');\n",
              "          const dataTable =\n",
              "            await google.colab.kernel.invokeFunction('convertToInteractive',\n",
              "                                                     [key], {});\n",
              "          if (!dataTable) return;\n",
              "\n",
              "          const docLinkHtml = 'Like what you see? Visit the ' +\n",
              "            '<a target=\"_blank\" href=https://colab.research.google.com/notebooks/data_table.ipynb>data table notebook</a>'\n",
              "            + ' to learn more about interactive tables.';\n",
              "          element.innerHTML = '';\n",
              "          dataTable['output_type'] = 'display_data';\n",
              "          await google.colab.output.renderOutput(dataTable, element);\n",
              "          const docLink = document.createElement('div');\n",
              "          docLink.innerHTML = docLinkHtml;\n",
              "          element.appendChild(docLink);\n",
              "        }\n",
              "      </script>\n",
              "    </div>\n",
              "  </div>\n",
              "  "
            ]
          },
          "metadata": {},
          "execution_count": 8
        }
      ]
    },
    {
      "cell_type": "code",
      "source": [
        "fad.index=food.index\n",
        "fad['index']=food['Tipo de Familia']\n",
        "fad"
      ],
      "metadata": {
        "colab": {
          "base_uri": "https://localhost:8080/",
          "height": 425
        },
        "id": "cebtscMtQ3ba",
        "outputId": "c559f959-e0d9-452f-ad19-8e94753341d2"
      },
      "execution_count": 10,
      "outputs": [
        {
          "output_type": "execute_result",
          "data": {
            "text/plain": [
              "    componente 1  componente 2  componente 3 index\n",
              "0      -1.074927     -0.901191      0.300707   MA2\n",
              "1      -0.864036     -1.093624      1.094294   EM2\n",
              "2       0.545787     -1.128282     -0.839528   CA2\n",
              "3      -1.049414     -0.152238      0.238424   MA3\n",
              "4      -1.006926     -0.280623      0.455016   EM3\n",
              "5       1.524942     -0.949522     -1.117746   CA3\n",
              "6      -0.789661      0.759675     -0.799489   MA4\n",
              "7      -0.188565      0.323029      0.258728   EM4\n",
              "8       1.489925     -0.857347     -0.107426   CA4\n",
              "9      -0.332076      1.635105     -1.488100   MA5\n",
              "10      0.227711      1.399516     -0.166769   EM5\n",
              "11      1.517242      1.245501      2.171888   CA5"
            ],
            "text/html": [
              "\n",
              "  <div id=\"df-fec40a66-3492-47b4-8a11-432dcfd62d1b\">\n",
              "    <div class=\"colab-df-container\">\n",
              "      <div>\n",
              "<style scoped>\n",
              "    .dataframe tbody tr th:only-of-type {\n",
              "        vertical-align: middle;\n",
              "    }\n",
              "\n",
              "    .dataframe tbody tr th {\n",
              "        vertical-align: top;\n",
              "    }\n",
              "\n",
              "    .dataframe thead th {\n",
              "        text-align: right;\n",
              "    }\n",
              "</style>\n",
              "<table border=\"1\" class=\"dataframe\">\n",
              "  <thead>\n",
              "    <tr style=\"text-align: right;\">\n",
              "      <th></th>\n",
              "      <th>componente 1</th>\n",
              "      <th>componente 2</th>\n",
              "      <th>componente 3</th>\n",
              "      <th>index</th>\n",
              "    </tr>\n",
              "  </thead>\n",
              "  <tbody>\n",
              "    <tr>\n",
              "      <th>0</th>\n",
              "      <td>-1.074927</td>\n",
              "      <td>-0.901191</td>\n",
              "      <td>0.300707</td>\n",
              "      <td>MA2</td>\n",
              "    </tr>\n",
              "    <tr>\n",
              "      <th>1</th>\n",
              "      <td>-0.864036</td>\n",
              "      <td>-1.093624</td>\n",
              "      <td>1.094294</td>\n",
              "      <td>EM2</td>\n",
              "    </tr>\n",
              "    <tr>\n",
              "      <th>2</th>\n",
              "      <td>0.545787</td>\n",
              "      <td>-1.128282</td>\n",
              "      <td>-0.839528</td>\n",
              "      <td>CA2</td>\n",
              "    </tr>\n",
              "    <tr>\n",
              "      <th>3</th>\n",
              "      <td>-1.049414</td>\n",
              "      <td>-0.152238</td>\n",
              "      <td>0.238424</td>\n",
              "      <td>MA3</td>\n",
              "    </tr>\n",
              "    <tr>\n",
              "      <th>4</th>\n",
              "      <td>-1.006926</td>\n",
              "      <td>-0.280623</td>\n",
              "      <td>0.455016</td>\n",
              "      <td>EM3</td>\n",
              "    </tr>\n",
              "    <tr>\n",
              "      <th>5</th>\n",
              "      <td>1.524942</td>\n",
              "      <td>-0.949522</td>\n",
              "      <td>-1.117746</td>\n",
              "      <td>CA3</td>\n",
              "    </tr>\n",
              "    <tr>\n",
              "      <th>6</th>\n",
              "      <td>-0.789661</td>\n",
              "      <td>0.759675</td>\n",
              "      <td>-0.799489</td>\n",
              "      <td>MA4</td>\n",
              "    </tr>\n",
              "    <tr>\n",
              "      <th>7</th>\n",
              "      <td>-0.188565</td>\n",
              "      <td>0.323029</td>\n",
              "      <td>0.258728</td>\n",
              "      <td>EM4</td>\n",
              "    </tr>\n",
              "    <tr>\n",
              "      <th>8</th>\n",
              "      <td>1.489925</td>\n",
              "      <td>-0.857347</td>\n",
              "      <td>-0.107426</td>\n",
              "      <td>CA4</td>\n",
              "    </tr>\n",
              "    <tr>\n",
              "      <th>9</th>\n",
              "      <td>-0.332076</td>\n",
              "      <td>1.635105</td>\n",
              "      <td>-1.488100</td>\n",
              "      <td>MA5</td>\n",
              "    </tr>\n",
              "    <tr>\n",
              "      <th>10</th>\n",
              "      <td>0.227711</td>\n",
              "      <td>1.399516</td>\n",
              "      <td>-0.166769</td>\n",
              "      <td>EM5</td>\n",
              "    </tr>\n",
              "    <tr>\n",
              "      <th>11</th>\n",
              "      <td>1.517242</td>\n",
              "      <td>1.245501</td>\n",
              "      <td>2.171888</td>\n",
              "      <td>CA5</td>\n",
              "    </tr>\n",
              "  </tbody>\n",
              "</table>\n",
              "</div>\n",
              "      <button class=\"colab-df-convert\" onclick=\"convertToInteractive('df-fec40a66-3492-47b4-8a11-432dcfd62d1b')\"\n",
              "              title=\"Convert this dataframe to an interactive table.\"\n",
              "              style=\"display:none;\">\n",
              "        \n",
              "  <svg xmlns=\"http://www.w3.org/2000/svg\" height=\"24px\"viewBox=\"0 0 24 24\"\n",
              "       width=\"24px\">\n",
              "    <path d=\"M0 0h24v24H0V0z\" fill=\"none\"/>\n",
              "    <path d=\"M18.56 5.44l.94 2.06.94-2.06 2.06-.94-2.06-.94-.94-2.06-.94 2.06-2.06.94zm-11 1L8.5 8.5l.94-2.06 2.06-.94-2.06-.94L8.5 2.5l-.94 2.06-2.06.94zm10 10l.94 2.06.94-2.06 2.06-.94-2.06-.94-.94-2.06-.94 2.06-2.06.94z\"/><path d=\"M17.41 7.96l-1.37-1.37c-.4-.4-.92-.59-1.43-.59-.52 0-1.04.2-1.43.59L10.3 9.45l-7.72 7.72c-.78.78-.78 2.05 0 2.83L4 21.41c.39.39.9.59 1.41.59.51 0 1.02-.2 1.41-.59l7.78-7.78 2.81-2.81c.8-.78.8-2.07 0-2.86zM5.41 20L4 18.59l7.72-7.72 1.47 1.35L5.41 20z\"/>\n",
              "  </svg>\n",
              "      </button>\n",
              "      \n",
              "  <style>\n",
              "    .colab-df-container {\n",
              "      display:flex;\n",
              "      flex-wrap:wrap;\n",
              "      gap: 12px;\n",
              "    }\n",
              "\n",
              "    .colab-df-convert {\n",
              "      background-color: #E8F0FE;\n",
              "      border: none;\n",
              "      border-radius: 50%;\n",
              "      cursor: pointer;\n",
              "      display: none;\n",
              "      fill: #1967D2;\n",
              "      height: 32px;\n",
              "      padding: 0 0 0 0;\n",
              "      width: 32px;\n",
              "    }\n",
              "\n",
              "    .colab-df-convert:hover {\n",
              "      background-color: #E2EBFA;\n",
              "      box-shadow: 0px 1px 2px rgba(60, 64, 67, 0.3), 0px 1px 3px 1px rgba(60, 64, 67, 0.15);\n",
              "      fill: #174EA6;\n",
              "    }\n",
              "\n",
              "    [theme=dark] .colab-df-convert {\n",
              "      background-color: #3B4455;\n",
              "      fill: #D2E3FC;\n",
              "    }\n",
              "\n",
              "    [theme=dark] .colab-df-convert:hover {\n",
              "      background-color: #434B5C;\n",
              "      box-shadow: 0px 1px 3px 1px rgba(0, 0, 0, 0.15);\n",
              "      filter: drop-shadow(0px 1px 2px rgba(0, 0, 0, 0.3));\n",
              "      fill: #FFFFFF;\n",
              "    }\n",
              "  </style>\n",
              "\n",
              "      <script>\n",
              "        const buttonEl =\n",
              "          document.querySelector('#df-fec40a66-3492-47b4-8a11-432dcfd62d1b button.colab-df-convert');\n",
              "        buttonEl.style.display =\n",
              "          google.colab.kernel.accessAllowed ? 'block' : 'none';\n",
              "\n",
              "        async function convertToInteractive(key) {\n",
              "          const element = document.querySelector('#df-fec40a66-3492-47b4-8a11-432dcfd62d1b');\n",
              "          const dataTable =\n",
              "            await google.colab.kernel.invokeFunction('convertToInteractive',\n",
              "                                                     [key], {});\n",
              "          if (!dataTable) return;\n",
              "\n",
              "          const docLinkHtml = 'Like what you see? Visit the ' +\n",
              "            '<a target=\"_blank\" href=https://colab.research.google.com/notebooks/data_table.ipynb>data table notebook</a>'\n",
              "            + ' to learn more about interactive tables.';\n",
              "          element.innerHTML = '';\n",
              "          dataTable['output_type'] = 'display_data';\n",
              "          await google.colab.output.renderOutput(dataTable, element);\n",
              "          const docLink = document.createElement('div');\n",
              "          docLink.innerHTML = docLinkHtml;\n",
              "          element.appendChild(docLink);\n",
              "        }\n",
              "      </script>\n",
              "    </div>\n",
              "  </div>\n",
              "  "
            ]
          },
          "metadata": {},
          "execution_count": 10
        }
      ]
    },
    {
      "cell_type": "code",
      "source": [
        "ax = sns.scatterplot(x=\"componente 1\", y=\"componente 2\",hue= 'index', data=fad, s= 100)"
      ],
      "metadata": {
        "colab": {
          "base_uri": "https://localhost:8080/",
          "height": 554
        },
        "id": "scJlTOd6RX3s",
        "outputId": "1d417d1f-1268-4733-9c5d-8cbccad14def"
      },
      "execution_count": 11,
      "outputs": [
        {
          "output_type": "display_data",
          "data": {
            "text/plain": [
              "<Figure size 1152x648 with 1 Axes>"
            ],
            "image/png": "[encoded data removed]"
          },
          "metadata": {}
        }
      ]
    },
    {
      "cell_type": "code",
      "source": [
        "ax = sns.scatterplot(x=\"componente 1\", y=\"componente 3\",hue= 'index', data=fad, s=100)"
      ],
      "metadata": {
        "colab": {
          "base_uri": "https://localhost:8080/",
          "height": 554
        },
        "id": "36B8oEfiSFSI",
        "outputId": "c63a8c41-67b0-4d58-aa85-35adbe26fb69"
      },
      "execution_count": 10,
      "outputs": [
        {
          "output_type": "display_data",
          "data": {
            "text/plain": [
              "<Figure size 1152x648 with 1 Axes>"
            ],
            "image/png": "[encoded data removed]"
          },
          "metadata": {}
        }
      ]
    },
    {
      "cell_type": "code",
      "source": [
        "ax = sns.scatterplot(x=\"componente 2\", y=\"componente 3\",hue= 'index', data=fad, s=100)"
      ],
      "metadata": {
        "colab": {
          "base_uri": "https://localhost:8080/",
          "height": 554
        },
        "id": "VTSXL0gvSHl5",
        "outputId": "5026cd50-ee18-4029-efbd-bf8f8111b757"
      },
      "execution_count": 11,
      "outputs": [
        {
          "output_type": "display_data",
          "data": {
            "text/plain": [
              "<Figure size 1152x648 with 1 Axes>"
            ],
            "image/png": "[encoded data removed]"
          },
          "metadata": {}
        }
      ]
    },
    {
      "cell_type": "code",
      "source": [
        "ax = sns.scatterplot(x=\"componente 1\", y=\"componente 2\",hue= 'index', data=fad, s=100)"
      ],
      "metadata": {
        "colab": {
          "base_uri": "https://localhost:8080/",
          "height": 554
        },
        "id": "PfyhFPPtR6Cr",
        "outputId": "0178b126-411f-4612-977c-e26e6166a272"
      },
      "execution_count": 12,
      "outputs": [
        {
          "output_type": "display_data",
          "data": {
            "text/plain": [
              "<Figure size 1152x648 with 1 Axes>"
            ],
            "image/png": "[encoded data removed]"
          },
          "metadata": {}
        }
      ]
    },
    {
      "cell_type": "code",
      "source": [
        "fig,ax = plt.subplots()\n",
        "plt.title('Componente 1 vs Componente 2',fontsize=15)\n",
        "sns.scatterplot(data=f, hue='comida', x='componente 1', y='componente 2', s=100)\n",
        "plt.legend(fontsize=15)\n",
        "\n",
        "plt.show()"
      ],
      "metadata": {
        "id": "3fB0a9lvOeOC"
      },
      "execution_count": null,
      "outputs": []
    },
    {
      "cell_type": "code",
      "source": [
        "fig,ax = plt.subplots()\n",
        "plt.title('Componente 1 vs Componente 3',fontsize=15)\n",
        "sns.scatterplot(data=f, hue='comida', x='componente 1', y='componente 3', s=100)\n",
        "plt.legend(fontsize=15)\n",
        "\n",
        "plt.show()"
      ],
      "metadata": {
        "id": "1oYFV6-UPQ9l"
      },
      "execution_count": null,
      "outputs": []
    },
    {
      "cell_type": "code",
      "source": [
        "fig,ax = plt.subplots()\n",
        "plt.title('Componente 2 vs Componente 3',fontsize=15)\n",
        "sns.scatterplot(data=f, hue='comida', x='componente 2', y='componente 3', s=100)\n",
        "plt.legend(fontsize=15)\n",
        "\n",
        "plt.show()"
      ],
      "metadata": {
        "id": "Uup-1f2NPUMV"
      },
      "execution_count": null,
      "outputs": []
    },
    {
      "cell_type": "markdown",
      "source": [
        "## Ejercicio 2\n",
        "Para los datos correspondientes a arrestos por diferentes crímenes en cada\n",
        "estado de los E.U.A. haga un análisis de conglomerados para cada método\n",
        "jerárquico mencionado en la Tabla 4.1 del libro de Brian Everitt Cluster\n",
        "Analysis (tabla entre las páginas 9 y 10 de las notas de clase). ¿ Son ciertas las\n",
        "afirmaciones sobre las propiedades de cada método jerárquico que se hacen\n",
        "en la quinta columna de esta tabla ? ¿ Qué método da un resultado más\n",
        "interpretable y porqué ?"
      ],
      "metadata": {
        "id": "CI7--DoJOtUI"
      }
    },
    {
      "cell_type": "code",
      "source": [
        "arr=pd.read_csv('/content/USArrests.txt',sep=' ')\n",
        "arr.head()"
      ],
      "metadata": {
        "id": "A-84D-coNt4o"
      },
      "execution_count": null,
      "outputs": []
    },
    {
      "cell_type": "code",
      "source": [
        "mat=distance_matrix(arr,arr)\n",
        "mat.shape\n",
        "mat"
      ],
      "metadata": {
        "id": "AXblpNxzlUcM"
      },
      "execution_count": null,
      "outputs": []
    },
    {
      "cell_type": "markdown",
      "source": [
        "### Single linkage"
      ],
      "metadata": {
        "id": "QxDEZpS7SRil"
      }
    },
    {
      "cell_type": "code",
      "source": [
        "import scipy.cluster.hierarchy as shc\n",
        "\n",
        "plt.title(' Single linkage')\n",
        "dend=shc.dendrogram(shc.linkage(arr,method='single'),labels=list(arr.index))\n",
        "#plt.axhline(y=6,color='red',linestyle='--')"
      ],
      "metadata": {
        "id": "LZVJa_LtW-4T"
      },
      "execution_count": null,
      "outputs": []
    },
    {
      "cell_type": "code",
      "source": [],
      "metadata": {
        "id": "BUm4kCOaXnMM"
      },
      "execution_count": null,
      "outputs": []
    },
    {
      "cell_type": "markdown",
      "source": [
        "### Complete linkage"
      ],
      "metadata": {
        "id": "EiGKBRt_SUdV"
      }
    },
    {
      "cell_type": "code",
      "source": [
        "plt.title(' complete linkage')\n",
        "dend=shc.dendrogram(shc.linkage(arr,method='complete'),labels=list(arr.index))\n",
        "#plt.axhline(y=6,color='red',linestyle='--')"
      ],
      "metadata": {
        "id": "xp4ETVPaXoOs"
      },
      "execution_count": null,
      "outputs": []
    },
    {
      "cell_type": "markdown",
      "source": [
        "### Average linkage "
      ],
      "metadata": {
        "id": "heYnjy-PSWyr"
      }
    },
    {
      "cell_type": "code",
      "source": [
        "plt.title('Average linkage')\n",
        "dend=shc.dendrogram(shc.linkage(arr,method='average'),labels=list(arr.index))\n",
        "#plt.axhline(y=6,color='red',linestyle='--')"
      ],
      "metadata": {
        "id": "kLGjjBldTq1l"
      },
      "execution_count": null,
      "outputs": []
    },
    {
      "cell_type": "markdown",
      "source": [
        "### Centroid linkage"
      ],
      "metadata": {
        "id": "SwFhY6RzScGR"
      }
    },
    {
      "cell_type": "code",
      "source": [
        "plt.title(' Centroid linkage')\n",
        "dend=shc.dendrogram(shc.linkage(arr,method='centroid'),labels=list(arr.index))\n",
        "#plt.axhline(y=6,color='red',linestyle='--')"
      ],
      "metadata": {
        "id": "tl6ZC0VyTvNf"
      },
      "execution_count": null,
      "outputs": []
    },
    {
      "cell_type": "markdown",
      "source": [
        "### Weighted average linkage"
      ],
      "metadata": {
        "id": "vyJagkg9SfqP"
      }
    },
    {
      "cell_type": "code",
      "source": [
        "plt.title(' Weighted linkage')\n",
        "dend=shc.dendrogram(shc.linkage(arr,method='weighted'),labels=list(arr.index))\n",
        "#plt.axhline(y=6,color='red',linestyle='--')"
      ],
      "metadata": {
        "id": "CRlP9oD6TyEF"
      },
      "execution_count": null,
      "outputs": []
    },
    {
      "cell_type": "markdown",
      "source": [
        "### Median linkage"
      ],
      "metadata": {
        "id": "_drOEOyvSjwy"
      }
    },
    {
      "cell_type": "code",
      "source": [
        "plt.title(' Median linkage')\n",
        "dend=shc.dendrogram(shc.linkage(arr,method='median'),labels=list(arr.index))\n",
        "#plt.axhline(y=6,color='red',linestyle='--')"
      ],
      "metadata": {
        "id": "gJDjkySfT2MZ"
      },
      "execution_count": null,
      "outputs": []
    },
    {
      "cell_type": "markdown",
      "source": [
        "### Ward's method"
      ],
      "metadata": {
        "id": "dxF98OxJSmZ_"
      }
    },
    {
      "cell_type": "code",
      "source": [
        "plt.title(' Ward method')\n",
        "dend=shc.dendrogram(shc.linkage(arr,method='ward'),labels=list(arr.index))\n",
        "#plt.axhline(y=6,color='red',linestyle='--')"
      ],
      "metadata": {
        "id": "lYm_LcWHS6Mb"
      },
      "execution_count": null,
      "outputs": []
    }
  ]
}