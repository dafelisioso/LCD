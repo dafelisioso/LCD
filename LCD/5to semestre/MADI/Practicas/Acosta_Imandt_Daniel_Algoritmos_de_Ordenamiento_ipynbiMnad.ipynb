{
  "nbformat": 4,
  "nbformat_minor": 0,
  "metadata": {
    "colab": {
      "provenance": [],
      "collapsed_sections": []
    },
    "kernelspec": {
      "display_name": "Python 3 (ipykernel)",
      "language": "python",
      "name": "python3"
    },
    "language_info": {
      "codemirror_mode": {
        "name": "ipython",
        "version": 3
      },
      "file_extension": ".py",
      "mimetype": "text/x-python",
      "name": "python",
      "nbconvert_exporter": "python",
      "pygments_lexer": "ipython3",
      "version": "3.8.12"
    }
  },
  "cells": [
    {
      "cell_type": "markdown",
      "metadata": {
        "id": "WBoB98uhCvF4"
      },
      "source": [
        "En esta sesión veremos algunos algoritmos de ordenamiento. Se irán presentando implementaciones de dichos algoritmos, el alumno deberá analizarlos y determinar cosas como correctitud, es decir, si el algoritmo en efecto ordena los elementos de una lista dada, complejidades en tiempo y en espacio, así como identificar si es algún algoritmo visto previamente en clase.\n",
        "\n",
        "A modo de nota, siempre supondremos que la lista de números que se nos está dando es no vacía."
      ]
    },
    {
      "cell_type": "code",
      "metadata": {
        "colab": {
          "base_uri": "https://localhost:8080/"
        },
        "id": "imjoH3kOEfbF",
        "outputId": "30263233-c67d-433b-adbc-568e47767eff"
      },
      "source": [
        "import random \n",
        "\n",
        "Lista = [random.randint(1, 10) for i in range(10)] \n",
        "\n",
        "print(Lista)"
      ],
      "execution_count": null,
      "outputs": [
        {
          "output_type": "stream",
          "name": "stdout",
          "text": [
            "[6, 5, 6, 3, 4, 6, 8, 3, 5, 10]\n"
          ]
        }
      ]
    },
    {
      "cell_type": "markdown",
      "metadata": {
        "id": "a1Obj3bFDwLU"
      },
      "source": [
        "# Counting sort"
      ]
    },
    {
      "cell_type": "code",
      "metadata": {
        "colab": {
          "base_uri": "https://localhost:8080/"
        },
        "id": "HbJhHPEIEOkY",
        "outputId": "5e1b616b-5b79-48ab-ad70-5cf4c5ac4fa9"
      },
      "source": [
        "def counting_sort(L):\n",
        "    maxi = L[0]\n",
        "    mini = L[0]\n",
        "    for i in range (1, len(L)):\n",
        "        if maxi < L[i]: \n",
        "            maxi = L[i]\n",
        "        if mini > L[i]:\n",
        "            mini = L[i]\n",
        "            \n",
        "    arr = [0]*(maxi - mini + 1)\n",
        "    for i in range(0, len(L)):\n",
        "        arr[L[i] - mini] += 1\n",
        "        \n",
        "    for i in range(0, len(arr)):\n",
        "        for j in range(0, arr[i]):\n",
        "            print(i + mini)\n",
        "\n",
        "counting_sort(Lista)"
      ],
      "execution_count": null,
      "outputs": [
        {
          "output_type": "stream",
          "name": "stdout",
          "text": [
            "3\n",
            "3\n",
            "4\n",
            "5\n",
            "5\n",
            "6\n",
            "6\n",
            "6\n",
            "8\n",
            "10\n"
          ]
        }
      ]
    },
    {
      "cell_type": "markdown",
      "metadata": {
        "id": "A2na1Dlj6MxI"
      },
      "source": [
        "El algoritmo anterior consiste en contar las ocurrencias de cada número, lo que nos permitirá saber el orden de los elementos de la lista, siempre y cuando los elementos de la lista sean enteros (o tengamos información suficiente sobre las diferencias de los elementos). ¿Cuáles son las complejidades de este algoritmo? Tanto en tiempo como en memoria se tiene que es $O(n+k)$, donde $k$ es la longitud del intervalo entre el mayor y el menor elemento de la lista. Dicha $k$ se puede reducir utilizando diccionarios y hashes, para evitar los números que no aparecen en la lista y están en el intervalo entre el menor y el mayor elemento de la lista."
      ]
    },
    {
      "cell_type": "markdown",
      "metadata": {
        "id": "fSP2qvFS8Kyd"
      },
      "source": [
        "# Bubble sort"
      ]
    },
    {
      "cell_type": "code",
      "metadata": {
        "colab": {
          "base_uri": "https://localhost:8080/"
        },
        "id": "GEPW95a08N31",
        "outputId": "4cacdf0c-13dd-4e3f-c78a-1b0c54f5b8b9"
      },
      "source": [
        "def bubble_sort(L):\n",
        "    L = L.copy()\n",
        "    for i in range (len(L), 0, -1):\n",
        "        for j in range(1, i):\n",
        "            if(L[j] < L[j-1]):\n",
        "                L[j-1], L[j] = L[j], L[j-1]\n",
        "    return L\n",
        "\n",
        "bubble_sort(Lista)"
      ],
      "execution_count": null,
      "outputs": [
        {
          "output_type": "execute_result",
          "data": {
            "text/plain": [
              "[3, 3, 4, 5, 5, 6, 6, 6, 8, 10]"
            ]
          },
          "metadata": {},
          "execution_count": 9
        }
      ]
    },
    {
      "cell_type": "markdown",
      "metadata": {
        "id": "F8Epd3Q8-d7W"
      },
      "source": [
        "Este es el algoritmo de ordenamiento llamado *Bubble sort*, que consiste en recorrer la lista suficientes veces, de modo que en cada recorrido de la lista, si entontramos dos números adyacentes tales que no estén ordenados, los invierte, es decir, los cambia de posición. ¿Cuáles son sus complejidades? En cuanto a memoria únicamente requerimos $O(1)$ de memoria auxiliar, mientras que en tiempo se toma $O(n^2)$, ya que podrían llegar a haber $i$ inversiones, para cada $i$ entre $1, n$."
      ]
    },
    {
      "cell_type": "markdown",
      "metadata": {
        "id": "8Vy7DgP9_aYO"
      },
      "source": [
        "# Merge sort"
      ]
    },
    {
      "cell_type": "code",
      "metadata": {
        "colab": {
          "base_uri": "https://localhost:8080/"
        },
        "id": "56r27tWT_chp",
        "outputId": "9c8b265e-4613-4a33-d27c-d6e140aca037"
      },
      "source": [
        "def merge_sort(L, copy=True):\n",
        "    if(len(L) == 1):\n",
        "        return\n",
        "    \n",
        "    if copy:\n",
        "        L = L.copy()\n",
        "    m = len(L)//2\n",
        "    left = L[:m]\n",
        "    right = L[m:]\n",
        "    merge_sort(left, copy=False)\n",
        "    merge_sort(right, copy=False)\n",
        "    \n",
        "    l = r = k = 0\n",
        "    while l < len(left) and r < len(right):\n",
        "        if left[l] < right[r]:\n",
        "            L[k] = left[l]\n",
        "            l += 1\n",
        "        else:\n",
        "            L[k] = right[r]\n",
        "            r += 1\n",
        "        k += 1\n",
        "    while l < len(left):\n",
        "        L[k] = left[l]\n",
        "        k += 1\n",
        "        l += 1\n",
        "    while(r < len(right)):\n",
        "        L[k] = right[r]\n",
        "        k += 1\n",
        "        r += 1\n",
        "    return L\n",
        "\n",
        "merge_sort(Lista)"
      ],
      "execution_count": null,
      "outputs": [
        {
          "output_type": "execute_result",
          "data": {
            "text/plain": [
              "[3, 3, 4, 5, 5, 6, 6, 6, 8, 10]"
            ]
          },
          "metadata": {},
          "execution_count": 10
        }
      ]
    },
    {
      "cell_type": "markdown",
      "metadata": {
        "id": "1cMDlVP1xjK3"
      },
      "source": [
        "Este algoritmo es *merge sort*, el cual actúa bajo el principio de divide y vencerás, es decir, divide la lista inicial en dos, ordena cada sección de lalista por separado, y una vez que están ordenados, los unifica en una nueva lista, que dará como resultado el ordenamiento de nuestra lista inicial. ¿Cuáles son las complejidades de este algoritmo? Es $O(n log n)$ en tiempo, mientras que en espacio auxiliar es $O(n)$, pues se puede acotar el espacio que utiliza por $3n$."
      ]
    },
    {
      "cell_type": "markdown",
      "metadata": {
        "id": "fUQvqiQcMexA"
      },
      "source": [
        "# Insertion sort"
      ]
    },
    {
      "cell_type": "code",
      "metadata": {
        "colab": {
          "base_uri": "https://localhost:8080/"
        },
        "id": "Hy47nxF33Vge",
        "outputId": "8e50fadb-7cc2-47aa-ee5b-e821623e1d7c"
      },
      "source": [
        "def insertion_sort(L):\n",
        "    L = L.copy()\n",
        "    for i, l in enumerate(L):\n",
        "        j = i - 1\n",
        "        while j >= 0 and L[j] > l:\n",
        "            L[j+1] = L[j]\n",
        "            j -= 1\n",
        "        L[j + 1] = l\n",
        "    return L\n",
        "\n",
        "insertion_sort(Lista)"
      ],
      "execution_count": null,
      "outputs": [
        {
          "output_type": "execute_result",
          "data": {
            "text/plain": [
              "[3, 3, 4, 5, 5, 6, 6, 6, 8, 10]"
            ]
          },
          "metadata": {},
          "execution_count": 11
        }
      ]
    },
    {
      "cell_type": "markdown",
      "metadata": {
        "id": "e2-C_izb4YJC"
      },
      "source": [
        "Este algoritmo de ordenamiento es llamado *insertion sort*, su nombre describe lo que se hace, en cada iteración del ciclo for lo que hacemos es crear una lista ordenada con los primeros $i$ elementos, insertando el nuevo elemento donde corresponda. ¿Cuáles son sus complejidades? Se tiene que su complejidad en tiempo es $O(n^2)$, pues iteramos sobre los $n$ elementos de la lista, y en cada una de estas iteraciones podríamos llegar a tener $i-1$ iteraciones dentro del `while`, lo que hace que sea cuadrático en tiempo. En espacio adicional únicamente almacenamos los iteradores y el valor del nuevo elemento de la lista, por lo que es $O(1)$."
      ]
    },
    {
      "cell_type": "markdown",
      "metadata": {
        "id": "WZFxkx-vMbJm"
      },
      "source": [
        "# Radix sort"
      ]
    },
    {
      "cell_type": "code",
      "metadata": {
        "id": "0Oo7dfQz3XAn"
      },
      "source": [
        "def _radix_aux(L, pos):\n",
        "    count = [0] * 10\n",
        "    for m in L:\n",
        "        aux = m//pos\n",
        "        count[(aux%10)] += 1\n",
        "        \n",
        "    for i in range(1, 10): # Recuperamos las posiciones que nos indica el counting sort\n",
        "        count[i] += count[i-1]\n",
        "        \n",
        "    ordered = [0] * len(L)\n",
        "    for m in reversed(L):\n",
        "        aux = m//pos\n",
        "        ordered[count[aux%10] - 1] = m\n",
        "        count[aux%10] -= 1\n",
        "        \n",
        "    for i in range(len(L)):\n",
        "        L[i] = ordered[i]\n",
        "\n",
        "def radix_sort(L):\n",
        "    L = L.copy()\n",
        "    pos = 1\n",
        "    while pos <= max(L):\n",
        "        _radix_aux(L, pos)\n",
        "        pos *= 10\n",
        "    return L\n",
        "    \n"
      ],
      "execution_count": null,
      "outputs": []
    },
    {
      "cell_type": "markdown",
      "metadata": {
        "id": "bkDf4W4qMl_A"
      },
      "source": [
        "Notemos que nuestro algoritmo funciona únicamente para listas que tienen puros enteros positivos. Este algoritmo se llama *radix sort*, el cual consiste en ir ordenando los números según sus dígitos, del dígito que representa menor valor (el de las unidades) hasta el que representa el mayor valor. Este algoritmo también se puede adaptar a problemas como ordenar una lista de strings alfabéticamente. "
      ]
    },
    {
      "cell_type": "markdown",
      "metadata": {
        "id": "TtpQgIZMRGjU"
      },
      "source": [
        "**Ejercicios.**\n",
        "\n",
        "1.   Implementa el algoritmo de ordenamiento *quicksort*.\n",
        "2.   Utilizando radix sort, implementa un algoritmo que permita ordenar alfabéticamente una lista de strings. Puedes suponer que las strings no tienen espacios y contienen únicamente caracteres que son letras minúsculas.\n",
        "Verifica tu algoritmo con las listas: `['aaaaa', 'zapatos', 'bien', 'zapatillas', 'datos', 'dddatos', 'das', 'ciencia', 'aaa', 'alas', 'problema', 'comando', 'oopera'], ['ddddescarga', 'usando', 'nuevo', 'nuevos', 'version', 'verifica', 'ooo', 'eeee', 'goool', 'golazooo', 'goolazo', 'compartir']`\n",
        "3.   Determina cuál es el mínimo número de comparaciones necsarias dada una lista $L$ de $n$ números para poder determinar si está ordenada o no. Describe un algoritmo con dicho mínimo y argumenta por qué con menos comparaciones no se puede.\n",
        "\n"
      ]
    },
    {
      "cell_type": "markdown",
      "metadata": {
        "id": "0CV-yH_idE8S"
      },
      "source": [
        "# 1 Implementa el algoritmo de ordenamiento quicksort."
      ]
    },
    {
      "cell_type": "markdown",
      "metadata": {
        "id": "PdWZ_QVtd0Ne"
      },
      "source": [
        "Lo que hace este algoritmo es divirir la lista total en  dos sublistas , despues se agarr  un pivote, en este caso  será el ultimo elemento de la lista no ordenada, y vamos comparando los elementos de la lista con el pivote, si el elemento es menor se va a lista 1 si es mayor a lista 2, este proceso se repite para las dos listas  hasta que todo el arreglo este ordenado"
      ]
    },
    {
      "cell_type": "code",
      "metadata": {
        "id": "XbHJqZuZdRsE"
      },
      "source": [
        "def  qs(lista):\n",
        "  if len(lista) <= 1:\n",
        "    return lista\n",
        "  else:\n",
        "    lista1=[]\n",
        "    lista2=[]\n",
        "    pivote=lista.pop()\n",
        "    \n",
        "    for i in lista:\n",
        "      if i< pivote:\n",
        "        lista1.append(i)\n",
        "      else:\n",
        "        lista2.append(i)\n",
        "    return qs(lista1)+ [pivote]+qs(lista2)\n",
        "\n"
      ],
      "execution_count": null,
      "outputs": []
    },
    {
      "cell_type": "code",
      "metadata": {
        "colab": {
          "base_uri": "https://localhost:8080/"
        },
        "id": "Um_QuCWFfMyz",
        "outputId": "5137891d-0043-4ef1-f669-ae0894edd171"
      },
      "source": [
        "lista=[2,5,6,9,55,7,12,0,-3]\n",
        "qs(lista)"
      ],
      "execution_count": null,
      "outputs": [
        {
          "output_type": "execute_result",
          "data": {
            "text/plain": [
              "[-3, 0, 2, 5, 6, 7, 9, 12, 55]"
            ]
          },
          "metadata": {},
          "execution_count": 5
        }
      ]
    },
    {
      "cell_type": "markdown",
      "metadata": {
        "id": "PeaOrYmVdKcd"
      },
      "source": [
        "# 2 Utilizando radix sort, implementa un algoritmo que permita ordenar alfabéticamente una lista de strings. Puedes suponer que las strings no tienen espacios y contienen únicamente caracteres que son letras minúsculas. Verifica tu algoritmo con las listas: "
      ]
    },
    {
      "cell_type": "markdown",
      "metadata": {
        "id": "HVZFQpjVh4Wb"
      },
      "source": [
        "Lo que haremos será convertir las plabras a su correspondiente en ASCII, pero para que nos lo ordene de menor a mayor las palabras, requerimos que todas las palabras tengan la misma longitud,despues utilizamos  Radix sort,  una vez hecho esto se genera una nueva lista, con las palabras ASCII ordenaadas y por ultimo las convertimos en letras"
      ]
    },
    {
      "cell_type": "code",
      "metadata": {
        "id": "mNniowCviJOO"
      },
      "source": [
        "lista1=['aaaaa', 'zapatos', 'bien', 'zapatillas', 'datos', 'dddatos', 'das', 'ciencia', 'aaa', 'alas', 'problema', 'comando', 'oopera']\n",
        "lista2=['ddddescarga', 'usando', 'nuevo', 'nuevos', 'version', 'verifica', 'ooo', 'eeee', 'goool', 'golazooo', 'goolazo', 'compartir']"
      ],
      "execution_count": null,
      "outputs": []
    },
    {
      "cell_type": "code",
      "metadata": {
        "id": "IQSc9yl2kERm"
      },
      "source": [
        "def longig(lista): \n",
        "  \n",
        "  for i in range(len(lista)):\n",
        "    lista[i]= lista[i].upper() \n",
        "\n",
        "  len_palabras=[]\n",
        "  for i in range(len(lista)):\n",
        "    len_palabras.append(len(lista[i])) \n",
        "\n",
        "  lista_nueva_palabras=[]\n",
        "  for j in range(len(lista)):\n",
        "    nuev_palabra=lista[j]+((max(len_palabras)-len_palabras[j])*'.')  \n",
        "    lista_nueva_palabras.append(nuev_palabra) \n",
        "  return lista_nueva_palabras\n",
        "def ASCII(lista_palabras):  \n",
        "  lista_ASCII=[]\n",
        "  for i in range(len(longig(lista_palabras))):\n",
        "    palabra_ASCII=''\n",
        "    for j in range(len(longig(lista_palabras)[i])):\n",
        "      palabra_ASCII=palabra_ASCII+str(ord(longig(lista_palabras)[i][j])) \n",
        "    lista_ASCII.append(palabra_ASCII)\n",
        "\n",
        "  for k in range(len(lista_ASCII)):\n",
        "    lista_ASCII[k]=int(lista_ASCII[k]) \n",
        "\n",
        "  return lista_ASCII\n",
        "\n",
        "def lista_origen_destino(lista_palabras):\n",
        "  lista_indice=[]\n",
        "  for i in lista_palabras:\n",
        "    lista_indice.append([i]) \n",
        "\n",
        "  for j in range(len(lista_indice)):\n",
        "    lista_indice[j].append(j)  \n",
        "\n",
        "  l=0\n",
        "  for k in ASCII(lista_palabras):\n",
        "    lista_indice[l].append(int(radix_sort(ASCII(lista_palabras)).index(k))) \n",
        "    l+=1\n",
        "\n",
        "  return lista_indice\n",
        "\n",
        "def lista_origen_destino(lista_palabras):\n",
        "  lista_indice=[]\n",
        "  for i in lista_palabras:\n",
        "    lista_indice.append([i]) \n",
        "\n",
        "  for j in range(len(lista_indice)):\n",
        "    lista_indice[j].append(j)  \n",
        "\n",
        "  l=0\n",
        "  for k in ASCII(lista_palabras):\n",
        "    lista_indice[l].append(int(radix_sort(ASCII(lista_palabras)).index(k))) \n",
        "    l+=1\n",
        "\n",
        "  return lista_indice\n",
        "\n",
        "def _radix_aux(L, pos):\n",
        "    count = [0] * 10\n",
        "    for m in L:\n",
        "        aux = m//pos\n",
        "        count[(aux%10)] += 1\n",
        "        \n",
        "    for i in range(1, 10): # Recuperamos las posiciones que nos indica el counting sort\n",
        "        count[i] += count[i-1]\n",
        "        \n",
        "    ordered = [0] * len(L)\n",
        "    for m in reversed(L):\n",
        "        aux = m//pos\n",
        "        ordered[count[aux%10] - 1] = m\n",
        "        count[aux%10] -= 1\n",
        "        \n",
        "    for i in range(len(L)):\n",
        "        L[i] = ordered[i]\n",
        "\n",
        "def radix_sort(L):\n",
        "    L = L.copy()\n",
        "    pos = 1\n",
        "    while pos <= max(L):\n",
        "        _radix_aux(L, pos)\n",
        "        pos *= 10\n",
        "    return L\n",
        "def radix_sort_str(lista_palabras):\n",
        "  lista_nuevo_orden= [None] * len(ASCII(lista_palabras)) \n",
        "  for i in range(len(lista_origen_destino(lista_palabras))):\n",
        "    lista_nuevo_orden[lista_origen_destino(lista_palabras)[i][2]]= lista_origen_destino(lista_palabras)[i][0] \n",
        "  for x in range(len(lista_nuevo_orden)):\n",
        "    lista_nuevo_orden[x]= lista_nuevo_orden[x].lower() \n",
        "    \n",
        "  return lista_nuevo_orden\n"
      ],
      "execution_count": null,
      "outputs": []
    },
    {
      "cell_type": "code",
      "metadata": {
        "colab": {
          "base_uri": "https://localhost:8080/"
        },
        "id": "ejAZQuI-rlIX",
        "outputId": "fe6115ac-7e76-4062-d6fe-ed59404878f9"
      },
      "source": [
        "radix_sort_str(lista1)"
      ],
      "execution_count": null,
      "outputs": [
        {
          "output_type": "execute_result",
          "data": {
            "text/plain": [
              "['aaa',\n",
              " 'aaaaa',\n",
              " 'alas',\n",
              " 'bien',\n",
              " 'ciencia',\n",
              " 'comando',\n",
              " 'das',\n",
              " 'datos',\n",
              " 'dddatos',\n",
              " 'oopera',\n",
              " 'problema',\n",
              " 'zapatillas',\n",
              " 'zapatos']"
            ]
          },
          "metadata": {},
          "execution_count": 13
        }
      ]
    },
    {
      "cell_type": "code",
      "metadata": {
        "colab": {
          "base_uri": "https://localhost:8080/"
        },
        "id": "RnCGGakbrSb-",
        "outputId": "bce249bb-ae46-40a2-ac67-a1efbcd0b16e"
      },
      "source": [
        "\n",
        "radix_sort_str(lista2)"
      ],
      "execution_count": null,
      "outputs": [
        {
          "output_type": "execute_result",
          "data": {
            "text/plain": [
              "['compartir',\n",
              " 'ddddescarga',\n",
              " 'eeee',\n",
              " 'golazooo',\n",
              " 'goolazo',\n",
              " 'goool',\n",
              " 'nuevo',\n",
              " 'nuevos',\n",
              " 'ooo',\n",
              " 'usando',\n",
              " 'verifica',\n",
              " 'version']"
            ]
          },
          "metadata": {},
          "execution_count": 11
        }
      ]
    },
    {
      "cell_type": "markdown",
      "metadata": {
        "id": "jJCE5FQEdKhF"
      },
      "source": [
        "# 3 Determina cuál es el mínimo número de comparaciones necsarias dada una lista  L  de  n  números para poder determinar si está ordenada o no. Describe un algoritmo con dicho mínimo y argumenta por qué con menos comparaciones no se puede."
      ]
    },
    {
      "cell_type": "markdown",
      "metadata": {
        "id": "wHobaEiur7X_"
      },
      "source": [
        "# Respuesta\n",
        "Si tenemos un lista odenada tendriá que hacer $n-1$ comparaciones ya que se podría ser que el ultimo elemento no este ordenado, por lo que se tiene que fijar hasta el final de la lista, pero la comparación empieza con el segundo elemento con el primero, por eso tenemos un menos uno.\n",
        "\n",
        "Por otro lado si tenemos que la lista no esta ordenada solo tenemos que  encontrar un  elemento de la lista que sea menor a alguno o varios de sus antecesores, con eso ya sabemos que no esta ordenada.\n",
        "\n",
        "Por lo tanto para poder decir la respuesta sin temor a equivocarnos requerimos $n-1$ comparaciones.\n",
        "\n",
        "# Algoritmo\n",
        "\n",
        "\n"
      ]
    },
    {
      "cell_type": "markdown",
      "metadata": {
        "id": "c9_Uw_mowyB4"
      },
      "source": [
        "pedir la lista que quieres comparar\n",
        "\n",
        "  i=1\n",
        "\n",
        "  mientras  i < len(lista)\n",
        "\n",
        "  el i+1 elemento de la lista lo comparamos con el i-elemento\n",
        "\n",
        "  i +=1\n",
        "\n",
        "  si i > i+1 regresar no es ordenada\n",
        "\n",
        "   de otra forma regresar es ordenada\n"
      ]
    }
  ]
}