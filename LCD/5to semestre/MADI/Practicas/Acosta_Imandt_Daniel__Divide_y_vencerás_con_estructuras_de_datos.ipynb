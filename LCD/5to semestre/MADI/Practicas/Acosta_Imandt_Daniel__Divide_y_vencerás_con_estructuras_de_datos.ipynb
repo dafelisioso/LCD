{
  "nbformat": 4,
  "nbformat_minor": 0,
  "metadata": {
    "colab": {
      "provenance": [],
      "collapsed_sections": []
    },
    "kernelspec": {
      "display_name": "Python 3 (ipykernel)",
      "language": "python",
      "name": "python3"
    },
    "language_info": {
      "codemirror_mode": {
        "name": "ipython",
        "version": 3
      },
      "file_extension": ".py",
      "mimetype": "text/x-python",
      "name": "python",
      "nbconvert_exporter": "python",
      "pygments_lexer": "ipython3",
      "version": "3.8.12"
    }
  },
  "cells": [
    {
      "cell_type": "code",
      "metadata": {
        "id": "8b4sP_7Kx-4F"
      },
      "source": [
        "import numpy as np"
      ],
      "execution_count": null,
      "outputs": []
    },
    {
      "cell_type": "markdown",
      "metadata": {
        "id": "rJmUt3n2uYWJ"
      },
      "source": [
        "En esta sesión, veremos dos estructuras de datos que están muy ligadas a las ideas de los algoritmos de divide y vencerás, que suelen ser muy útiles para realizar operaciones que suelen requerirse bastante."
      ]
    },
    {
      "cell_type": "markdown",
      "metadata": {
        "id": "tKoBPnksvBZ9"
      },
      "source": [
        "# Trie\n",
        "\n",
        "Consideremos el siguiente problema. Dadas dos palabras, decimos que su \"similitud\" es el mayor número de letras iniciales en las que coinciden, es decir, es el tamaño del prefijo común más grande entre ambas palabras. Dado un conjunto de palabras $C$, ,y una nueva palabra, $s$, queremos saber la mayor similitud posible con alguna letra del conjunto. \n",
        "\n",
        "¿Cómo proceder? Una forma de hacerlo es haciendo una búsqueda exhaustiva, donde para cada palabra de $C$ la comparamos con la palabra $s$, y vamos verificando letra por letra los prefijos hasta que dejen de coincidir. Podemos acotar la complejidad en tiempo por $O(|C|\\cdot |s|)$. ¿Qué pasa si queremos repetir el proceso para una cantidad muy grande de palabras s?\n",
        "\n",
        "Otra forma de atacar el problema sería ordenar las palabras en orden alfabético, incluyendo a $s$, y posteriormente comparar a $s$ con las palabras vecinas en el ordenamiento (queda como ejercicio probar que en efecto uno de sus vecinos es la palabra que cumple tener mayor similitud con $s$). ¿Qué complejidad tiene esto?\n",
        "\n",
        "La forma que veremos introduce una estructura, que resulta ser muy poderosa para este tipo de problemas, es un árbol especial, que tiene por nombre *trie*. Un trie es un árbol donde cada nodo puede tener $26$ hijos (uno por cada letra del abecedario). De este modo, si una palabra tiene las letras \"xy\" de forma consecutiva, el respectivo nodo tendrá un hijo no nulo en la entrada correspondiente a \"y\". Veamos un ejemplo de esta estructura.\n",
        "\n",
        "Consideremos las palabras `[abcdef, abecede, hola, hoja, puedes, luz]`. El trie respectivo a este conjunto de palabras es el siguiente:\n",
        "\n",
        "```\n",
        "       (Nodo raíz)\n",
        "      /   |   |  \\\n",
        "     a    h   p   l\n",
        "     |    |   \\    \\\n",
        "     b    o    u    u\n",
        "    / \\   | \\   \\    \\\n",
        "   c   e  l  j   e    z\n",
        "   |   |  |  |   |\n",
        "   d   c  a  a   d\n",
        "   |   |         |\n",
        "   e   e         e\n",
        "   |   |         |\n",
        "   f   d         s\n",
        "       |\n",
        "       e\n",
        "```\n",
        "\n",
        "Esta estructura nos permite identificar de manera rápida y sencilla el mayor prefijo que coincide con cierta palabra. Veamos cómo implementar esta estructura y cómo usarla para nuestro problema."
      ]
    },
    {
      "cell_type": "code",
      "metadata": {
        "id": "H9F4x6M8x-4Q"
      },
      "source": [
        "x = None"
      ],
      "execution_count": null,
      "outputs": []
    },
    {
      "cell_type": "code",
      "metadata": {
        "colab": {
          "base_uri": "https://localhost:8080/"
        },
        "id": "RzGPrHkciSf4",
        "outputId": "757e2754-31f4-4f5b-a467-6517033edccd"
      },
      "source": [
        "def char_index(c):\n",
        "    return ord(c) - ord('a')\n",
        "\n",
        "class TrieNode:\n",
        "    def __init__(self):\n",
        "        self.children = [None]*26\n",
        "        \n",
        "    def insert(self, word):\n",
        "        word = word.casefold()\n",
        "        current = self\n",
        "        for c in word:\n",
        "            idx = char_index(c)\n",
        "            if current.children[idx] is None:\n",
        "                current.children[idx] = TrieNode()\n",
        "            current = current.children[idx]\n",
        "            \n",
        "    def count_prefix(self, word):\n",
        "        curr = self\n",
        "        count = 0\n",
        "        for c in word:\n",
        "            idx = char_index(c)\n",
        "            if curr.children[idx] is None:\n",
        "                return count\n",
        "            else:\n",
        "                curr = curr.children[idx]\n",
        "                count += 1\n",
        "        return count\n",
        "\n",
        "\n",
        "C = [\"abcdef\", \"abecede\", \"hola\", \"hoja\", \"puedes\", \"luz\"]\n",
        "root = TrieNode()\n",
        "for c in C:\n",
        "    root.insert(c)\n",
        "\n",
        "S = [\"abaco\", \"holandes\", \"paz\"]\n",
        "for s in S:\n",
        "    print(root.count_prefix(s))"
      ],
      "execution_count": null,
      "outputs": [
        {
          "output_type": "stream",
          "name": "stdout",
          "text": [
            "2\n",
            "4\n",
            "1\n"
          ]
        }
      ]
    },
    {
      "cell_type": "markdown",
      "metadata": {
        "id": "hxRYzGHdx-4U"
      },
      "source": [
        "# Sumas de intervalos\n",
        "\n",
        "Dada una lista $L$ de números reales ($|L| = n$), queremos saber la suma de los elementos en un intervalo dado, es decir $L_i + L_{i+1} + \\dots + L_j$ para determinados $i \\leq j$. Además de esto, queremos poder actualizar nuestra lista $L$. Es decir, tenemos dos tipos de operaciones:\n",
        "\n",
        "*   Preguntar por la suma de los valores con índices en el intervalo $[i,j]$.\n",
        "*   Actualizar el valor de cierto elemento $L_i$.\n",
        "\n",
        "Una forma sencilla de poder recuperar el valor de la suma en cierto intervalo es guardando una lista de sumas acumuladas, sin embargo, esto hace que las operaciones de actualización de elementos sean costosas.\n",
        "\n",
        "## Sublistas\n",
        "\n",
        "¿Qué pasa si dividimos la lista en sublistas de longitud $k$? (Veremos después qué $k$ nos conviene). Tendremos un total de $\\left\\lceil\\frac{n}{k}\\right\\rceil$ 'bloques', para cada bloque guardaremos el valor de la suma de sus elementos. ¿Qué tan costosas son las operaciones de actualización y preguntar por sumas? \n",
        "\n",
        "* Para actualizar, únicamente debemos actualizar el valor del elemento, así como la suma correspondiente en el bloque al que pertenece, por lo que cada actualización nos toma $O(1)$. \n",
        "* Para calcular la suma de un intervalo $I$, notamos que para cada bloque $B$ existen tres casos:\n",
        "\n",
        "    1. $B\\cap I=\\emptyset$. En este caso, no hacemos nada. ($O(1)$)\n",
        "    2. $B\\subseteq I$. Aquí, simplemente añadimos la suma del bloque entero (que tenemos guardada). ($O(1)$)\n",
        "    3. $B\\cap I \\neq \\emptyset \\wedge B\\not\\subseteq I$. En este caso, tenemos que iterar sobre $B$ para encontrar cuáles son los elementos que están en $I$, y sumarlos. ($O(k)$)\n",
        "    \n",
        "El tercer caso sólo puede pasar para dos bloques: los que están en el extremo izquierdo y derecho del intervalo. Por lo tanto, la complejidad de estos casos es $O(k)$. \n",
        "\n",
        "Por otro lado, como hay un total de $\\frac{n}{k}$ bloques, el primer y segundo caso no pueden pasar más de esta cantidad, así que su complejidad es $(O(\\frac{n}{k}))$.\n",
        "\n",
        "Por lo tanto, la complejidad del problema completo es $O\\left(\\frac{n}{k}+k\\right)$.\n",
        "\n",
        "Entonces, queremos encontrar la $k$ que minimice esta cantidad. Derivando e igualando a cero, obtenemos $k=\\sqrt{n}$.\n",
        "\n",
        "## Segment tree\n",
        "\n",
        "Otra manera de resolver este problema es utilizar un árbol binario, donde cada nodo representa a un intervalo, y tiene los siguientes atributos:\n",
        "\n",
        "* `value`: Suma del intervalo.\n",
        "* `left`: Hijo izquierdo.\n",
        "* `right`: Hijo derecho.\n",
        "* `start`: Extremo izquierdo del intervalo.\n",
        "* `end`: Extremo derecho del intervalo.\n",
        "\n",
        "El intervalo de un nodo padre es la unión de los intervalos de sus dos hijos. Los nodos hoja corresponden a los intervalos triviales de la lista original (i.e. $[L_0, L_0], [L_1, L_1]$, etc.)\n",
        "\n",
        "De este modo, logramos que preguntar por la suma en un intervalo $[l,r]$ sea $O(logn)$, mientras que actualizar también nos tomará $O(logn)$, ya que esta es la altura de nuestro árbol.\n",
        "\n",
        "Veamos una implementación de esta estructura y un ejemplo de su uso."
      ]
    },
    {
      "cell_type": "code",
      "metadata": {
        "id": "49hIhauoJMna"
      },
      "source": [
        "class SegNode:\n",
        "    def __init__(self, L, l=None, r=None):\n",
        "        self.value = 0\n",
        "        \n",
        "        if l is None:\n",
        "            l = 0\n",
        "        if r is None:\n",
        "            r = len(L) - 1\n",
        "        \n",
        "        self.start = l\n",
        "        self.end = r\n",
        "        if self.start == self.end:\n",
        "            self.value = L[self.start]\n",
        "            self.left = None\n",
        "            self.right = None\n",
        "        else:\n",
        "            m = (l+r)//2\n",
        "            self.left = SegNode(L, l=self.start, r=m)\n",
        "            self.right = SegNode(L, l=m+1, r=self.end)\n",
        "            self.value += self.left.value\n",
        "            self.value += self.right.value\n",
        "    \n",
        "    def _arr_str(self):\n",
        "        return f'[{self.start}, {self.end}]'\n",
        "    \n",
        "    def __repr__(self):\n",
        "        s1 = s2 = ''\n",
        "        if self.left is not None:\n",
        "            s1 = self.left._arr_str()\n",
        "        if self.right is not None:\n",
        "            s2 = self.right._arr_str()\n",
        "        return f'{self._arr_str()}\\nHijos: I: {s1}, D:{s2}'\n",
        "    \n",
        "    def query(self, l, r):\n",
        "        if l <= self.start and self.end <= r:\n",
        "            return self.value\n",
        "        if self.end < l:\n",
        "            return 0\n",
        "        if r < self.start:\n",
        "            return 0\n",
        "        \n",
        "        s = 0\n",
        "        s += self.left.query(l, r) + self.right.query(l, r)\n",
        "        return s\n",
        "    \n",
        "    def update(self, i, val):\n",
        "        if self.end < i or i < self.start:\n",
        "            return self.value\n",
        "        if self.end == self.start == i:\n",
        "            self.value = val\n",
        "        else:\n",
        "            self.value = self.left.update(i, val) + self.right.update(i, val)\n",
        "        return self.value"
      ],
      "execution_count": null,
      "outputs": []
    },
    {
      "cell_type": "markdown",
      "metadata": {
        "id": "itvt6IWIx-4b"
      },
      "source": [
        "Generamos una lista aleatoria:"
      ]
    },
    {
      "cell_type": "code",
      "metadata": {
        "id": "yfqICppix-4d",
        "colab": {
          "base_uri": "https://localhost:8080/"
        },
        "outputId": "e44ab424-ec3e-4432-8b53-346c729b99b2"
      },
      "source": [
        "L = np.random.randint(-20, 20, 100)\n",
        "L"
      ],
      "execution_count": null,
      "outputs": [
        {
          "output_type": "execute_result",
          "data": {
            "text/plain": [
              "array([  9,   1,   5,   2,   8,  10, -16, -16,  -7,  15, -18,   7,   0,\n",
              "        -9, -11, -18,  15,   1,   8,  -6,   9,  15,  12, -12,   5, -13,\n",
              "       -19, -14, -13,  12, -13, -12,   7,   7, -14, -20, -11,  17,  -1,\n",
              "        19,  18,  14,  -4,   7,  17,  10,  11,  16,  -5,  -5,  17,  17,\n",
              "        15,  19,  16,  -6, -17,   3,   3,   9,  12,   5,  16,  -5,  12,\n",
              "       -14,  18,   6,   8,  -2,  11,   5,  16,  12, -20, -18,  17,   5,\n",
              "       -16,  -9, -18,   9,   3,  14,  -5,  -4, -18,  16, -16,   2,   6,\n",
              "       -16,   5, -15, -11,  -5,  -3,  15,  10, -19])"
            ]
          },
          "metadata": {},
          "execution_count": 5
        }
      ]
    },
    {
      "cell_type": "markdown",
      "metadata": {
        "id": "SKNyikbTx-4g"
      },
      "source": [
        "Creamos el árbol de segmentos:"
      ]
    },
    {
      "cell_type": "code",
      "metadata": {
        "id": "6tw6cAqwx-4h"
      },
      "source": [
        "root = SegNode(L)"
      ],
      "execution_count": null,
      "outputs": []
    },
    {
      "cell_type": "markdown",
      "metadata": {
        "id": "hjLXU_hcx-4i"
      },
      "source": [
        "Calculamos algunas sumas:"
      ]
    },
    {
      "cell_type": "code",
      "metadata": {
        "id": "-psUG1a3x-4i",
        "colab": {
          "base_uri": "https://localhost:8080/"
        },
        "outputId": "825551bd-aace-4ef8-d42f-eb0344c8dfd8"
      },
      "source": [
        "l, r = 0, 99\n",
        "print(f\"Suma desde el índice {l} hasta {r}: {root.query(l, r)}\")\n",
        "\n",
        "l, r = 5, 7\n",
        "print(f\"Suma desde el índice {l} hasta {r}: {root.query(l, r)}\")\n",
        "\n",
        "l, r = 8, 8\n",
        "print(f\"Suma desde el índice {l} hasta {r}: {root.query(l, r)}\")"
      ],
      "execution_count": null,
      "outputs": [
        {
          "output_type": "stream",
          "name": "stdout",
          "text": [
            "Suma desde el índice 0 hasta 99: 105\n",
            "Suma desde el índice 5 hasta 7: -22\n",
            "Suma desde el índice 8 hasta 8: -7\n"
          ]
        }
      ]
    },
    {
      "cell_type": "markdown",
      "metadata": {
        "id": "PxtlxCSLx-4j"
      },
      "source": [
        "Sustituimos el valor de la primera entrada:"
      ]
    },
    {
      "cell_type": "code",
      "metadata": {
        "colab": {
          "base_uri": "https://localhost:8080/"
        },
        "id": "9c-1g5yd_xk8",
        "outputId": "eaf67e49-442c-46a6-fff3-990dea6b9189"
      },
      "source": [
        "{root.query(l, r)}"
      ],
      "execution_count": null,
      "outputs": [
        {
          "output_type": "execute_result",
          "data": {
            "text/plain": [
              "{-7}"
            ]
          },
          "metadata": {},
          "execution_count": 15
        }
      ]
    },
    {
      "cell_type": "code",
      "metadata": {
        "id": "aIUBCe82x-4k",
        "colab": {
          "base_uri": "https://localhost:8080/"
        },
        "outputId": "f7328190-29ea-46c0-b669-b3a4e76f3950"
      },
      "source": [
        "root.update(0, 100)"
      ],
      "execution_count": null,
      "outputs": [
        {
          "output_type": "execute_result",
          "data": {
            "text/plain": [
              "196"
            ]
          },
          "metadata": {},
          "execution_count": 8
        }
      ]
    },
    {
      "cell_type": "markdown",
      "metadata": {
        "id": "zmRHsy4Nx-4k"
      },
      "source": [
        "Y volvemos a calcular:"
      ]
    },
    {
      "cell_type": "code",
      "metadata": {
        "id": "FKXaCchux-4l",
        "colab": {
          "base_uri": "https://localhost:8080/"
        },
        "outputId": "e77537b5-426a-4b48-84a2-2c00cb5e0b68"
      },
      "source": [
        "l, r = 0, 99\n",
        "print(f\"Suma desde el índice {l} hasta {r}: {root.query(l, r)}\")\n",
        "\n",
        "l, r = 5, 7\n",
        "print(f\"Suma desde el índice {l} hasta {r}: {root.query(l, r)}\")\n",
        "\n",
        "l, r = 8, 8\n",
        "print(f\"Suma desde el índice {l} hasta {r}: {root.query(l, r)}\")"
      ],
      "execution_count": null,
      "outputs": [
        {
          "output_type": "stream",
          "name": "stdout",
          "text": [
            "Suma desde el índice 0 hasta 99: 196\n",
            "Suma desde el índice 5 hasta 7: -22\n",
            "Suma desde el índice 8 hasta 8: -7\n"
          ]
        }
      ]
    },
    {
      "cell_type": "markdown",
      "metadata": {
        "id": "PRER2qQvx-4m"
      },
      "source": [
        "# Ejercicios\n",
        "\n",
        "## Ejercicio 1\n",
        "\n",
        "Extiende la clase de Trie para determinar si una palabra o no está en el conjunto de palabras dado (*Hint:* Añade un atributo a los nodos que diga si representa el final de una palabra). Prueba tu código con el conjunto $C = \\{ola, hola, noche, diez, no, ciencia, camaron\\}$ y las palabras $cama, hola, nop, cien, diez$."
      ]
    },
    {
      "cell_type": "code",
      "metadata": {
        "id": "p4P4YPY9x-4n"
      },
      "source": [
        "def char_index(c):\n",
        "    return ord(c) - ord('a')\n",
        "\n",
        "class TrieNode2:\n",
        "    def __init__(self):\n",
        "        self.children = [None]*26\n",
        "        \n",
        "    def insert(self, word):\n",
        "        word = word.casefold()\n",
        "        current = self\n",
        "        for c in word:\n",
        "            idx = char_index(c)\n",
        "            if current.children[idx] is None:\n",
        "                current.children[idx] = TrieNode()\n",
        "            current = current.children[idx]\n",
        "    def fin(self,word):\n",
        "      \n",
        "            \n",
        "    def count_prefix(self, word):\n",
        "        curr = self\n",
        "        count = 0\n",
        "        for c in word:\n",
        "            idx = char_index(c)\n",
        "            if curr.children[idx] is None:\n",
        "                return count\n",
        "            else:\n",
        "                curr = curr.children[idx]\n",
        "                count += 1\n",
        "        return count"
      ],
      "execution_count": null,
      "outputs": []
    },
    {
      "cell_type": "markdown",
      "metadata": {
        "id": "9EXjKcKkx-4n"
      },
      "source": [
        "## Ejercicio 2\n",
        "\n",
        "En la siguiente celda se muestra un prototipo de una clase para implementar el método de bloques. Su constructor debe de tomar una lista `L` arbitraria. Como ejemplo, tomaremos `L=[1,3,5,7]`. Con esto, los atributos que debe de tener son:\n",
        "\n",
        "* `k`: Tamaño de cada bloque, de modo que sea óptimo. En el ejemplo, `k=2`.\n",
        "* `blocks`: Lista de todos los bloques. Cada bloque es a su vez una lista. Para la lista de ejemplo, esto sería igual a `[[1,2],[3,4]]`.\n",
        "* `sums`: Lista con las sumas de todos los elementos de cada bloque. En el ejemplo, sería `[3, 7]`.\n",
        "\n",
        "Por otro lado, sus métodos son:\n",
        "\n",
        "* `query(l, r)`: Suma de los elementos desde el índice `l` hasta `r`, inclusivo. Tomando nuestra lista de ejemplo, `query(0, 2) = 6`.\n",
        "* `update(i, val)`: Actualiza el valor del elemento en el índice `i`, con el nuevo valor `val`. Debe de actualizar también el bloque y la suma correspondiente.\n",
        "\n",
        "Reemplaza todos los `None` en el siguiente ejemplo con el código apropiado. Los métodos deben de aplicar lo que vimos en clase (¡nada de iterar sobre la lista entera cada vez que quieras calcular la suma!)."
      ]
    },
    {
      "cell_type": "code",
      "metadata": {
        "id": "VZNCavCTx-4p"
      },
      "source": [
        "class Blocks:\n",
        "    def __init__(self, L): # L: lista a procesar\n",
        "        self.k = 2\n",
        "        self.blocks = [L[:len(L)//2],L[len(L)//2:]]\n",
        "        self.sums = [sum(L[:len(L)//2]),sum(L[len(L)//2:])]\n",
        "        \n",
        "    def query(self, l, r):\n",
        "         s=sum(L[:r+1])-sum(L[:l])\n",
        "         return s\n",
        "        \n",
        "    def update(self, i, val):\n",
        "        L[i] == val \n"
      ],
      "execution_count": null,
      "outputs": []
    },
    {
      "cell_type": "code",
      "metadata": {
        "colab": {
          "base_uri": "https://localhost:8080/"
        },
        "id": "iMG1ep38BpFZ",
        "outputId": "984b35b0-9a91-449a-9faf-efe94ecdd566"
      },
      "source": [
        "L=[1,3,5,7]\n",
        "blocks = Blocks(L)\n",
        "g= blocks.query(0,3)\n",
        "print(g)"
      ],
      "execution_count": null,
      "outputs": [
        {
          "output_type": "stream",
          "name": "stdout",
          "text": [
            "15\n"
          ]
        }
      ]
    },
    {
      "cell_type": "markdown",
      "metadata": {
        "id": "-HhCz0AAx-4q"
      },
      "source": [
        "Después, ejecuta la siguiente celda (sin cambiar nada), y compara tus resultados:"
      ]
    },
    {
      "cell_type": "code",
      "metadata": {
        "id": "unA7b9WVx-4r",
        "colab": {
          "base_uri": "https://localhost:8080/"
        },
        "outputId": "e5924fc7-fd74-4eab-e0a5-f34be9e4361e"
      },
      "source": [
        "L = [5, -11, 9, 3, 10, 2, -2, 18, -12, -9, -19, 11, -18, -1, -13, -14, 19, -15, 1, -19, 15, 19, 9, -1, -13, -6, 4, -19, -9, 1, 8, -20, 11, 2, 8, -20, -19, -2, -2, 1, 1, 12, -16, -8, -9, 11, -3, 10, 15, -6, 9, 8, -5, 7, -12, -1, -16, -7, 7, 16, 5, 11, -11, -11, 8, 18, -6, 1, -19, 17, -18, 15, 5, -18, 7, -5, -13, 19, -6, -19, -15, 4, 10, 19, -2, 18, -7, 11, -14, -4, -10, -18, 4, 14, -18, -3, -19, -8, 7, -1]\n",
        "blocks = Blocks(L)\n",
        "r = blocks.query(0, 99)\n",
        "print(f\"Resultado esperado: -127. Obtenido: {r}\")\n",
        "\n",
        "r = blocks.query(5, 10)\n",
        "print(f\"Resultado esperado: -22. Obtenido: {r}\")\n",
        "\n",
        "blocks.update(1, 100)\n",
        "\n",
        "r = blocks.query(0, 99)\n",
        "print(f\"Resultado esperado: -16. Obtenido: {r}\")\n",
        "\n",
        "r = blocks.query(5, 10)\n",
        "print(f\"Resultado esperado: -22. Obtenido: {r}\")"
      ],
      "execution_count": null,
      "outputs": [
        {
          "output_type": "stream",
          "name": "stdout",
          "text": [
            "Resultado esperado: -127. Obtenido: -127\n",
            "Resultado esperado: -22. Obtenido: -22\n",
            "Resultado esperado: -16. Obtenido: -127\n",
            "Resultado esperado: -22. Obtenido: -22\n"
          ]
        }
      ]
    },
    {
      "cell_type": "code",
      "metadata": {
        "colab": {
          "base_uri": "https://localhost:8080/"
        },
        "id": "AhYdh3FaEf7g",
        "outputId": "05f6e4e7-98b4-4e0e-d7aa-31a53b466a66"
      },
      "source": [
        "sum(L)"
      ],
      "execution_count": null,
      "outputs": [
        {
          "output_type": "execute_result",
          "data": {
            "text/plain": [
              "-127"
            ]
          },
          "metadata": {},
          "execution_count": 59
        }
      ]
    },
    {
      "cell_type": "code",
      "metadata": {
        "colab": {
          "base_uri": "https://localhost:8080/"
        },
        "id": "pLDjlJe5E5pk",
        "outputId": "74692030-9a6d-43a4-c01d-e6065609b18f"
      },
      "source": [
        "10+ 2 -2+ 18 -12 -9 -19+ 11"
      ],
      "execution_count": null,
      "outputs": [
        {
          "output_type": "execute_result",
          "data": {
            "text/plain": [
              "-1"
            ]
          },
          "metadata": {},
          "execution_count": 50
        }
      ]
    }
  ]
}