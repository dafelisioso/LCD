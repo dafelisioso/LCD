{
  "nbformat": 4,
  "nbformat_minor": 0,
  "metadata": {
    "colab": {
      "provenance": [],
      "collapsed_sections": []
    },
    "kernelspec": {
      "display_name": "Python 3 (ipykernel)",
      "language": "python",
      "name": "python3"
    },
    "language_info": {
      "codemirror_mode": {
        "name": "ipython",
        "version": 3
      },
      "file_extension": ".py",
      "mimetype": "text/x-python",
      "name": "python",
      "nbconvert_exporter": "python",
      "pygments_lexer": "ipython3",
      "version": "3.8.8"
    }
  },
  "cells": [
    {
      "cell_type": "code",
      "metadata": {
        "id": "l0l1jsBYDE9C"
      },
      "source": [
        "import matplotlib.pyplot as plt\n",
        "\n",
        "import networkx as nx\n",
        "from networkx.drawing.nx_pydot import graphviz_layout"
      ],
      "execution_count": null,
      "outputs": []
    },
    {
      "cell_type": "markdown",
      "metadata": {
        "id": "wY45CICJXqRW"
      },
      "source": [
        "En esta sesión veremos algunas operaciones y algoritmos que se pueden hacer en un árbol binario de búsqueda (BST por sus siglas en inglés), por ejemplo buscar e insertar elementos, así como construir un BST a partir de una lista de números dada."
      ]
    },
    {
      "cell_type": "markdown",
      "metadata": {
        "id": "0aU3GD13Yrrw"
      },
      "source": [
        "Para trabajar con un BST, lo primero que debemos hacer es definir la estructura de nuestros nodos en el árbol, donde cada nodo tiene un valor asignado, y dos apuntadores, uno para su hijo izquierdo y otro para su hijo derecho."
      ]
    },
    {
      "cell_type": "code",
      "metadata": {
        "id": "uq08iW4oZG2c"
      },
      "source": [
        "class Node:\n",
        "    def __init__(self, val):\n",
        "        self.val = val\n",
        "        self.left = None\n",
        "        self.right = None\n",
        "        \n",
        "        \n",
        "    def __repr__(self):\n",
        "        left = None if self.left is None else self.left.val\n",
        "        right = None if self.right is None else self.right.val\n",
        "        return f\"Valor: {self.val}\\nIzquierda: {left}\\nDerecha: {right}\""
      ],
      "execution_count": null,
      "outputs": []
    },
    {
      "cell_type": "code",
      "metadata": {
        "id": "ral6WFUSDE9N",
        "colab": {
          "base_uri": "https://localhost:8080/"
        },
        "outputId": "6dca64c0-b5e1-482b-ceb7-d680ac4d4b70"
      },
      "source": [
        "n = Node(4)\n",
        "n.left = Node(3)\n",
        "n.right = Node(5)\n",
        "print(n)"
      ],
      "execution_count": null,
      "outputs": [
        {
          "output_type": "stream",
          "name": "stdout",
          "text": [
            "Valor: 4\n",
            "Izquierda: 3\n",
            "Derecha: 5\n"
          ]
        }
      ]
    },
    {
      "cell_type": "markdown",
      "metadata": {
        "id": "o09WPiRODE9O"
      },
      "source": [
        "# Inserción y búsqueda"
      ]
    },
    {
      "cell_type": "markdown",
      "metadata": {
        "id": "3SLk58FxZaSv"
      },
      "source": [
        "Veamos las primeras dos operaciones básicas en un BST: buscar elementos, e insertar elementos. Para insertar elementos en un BST, procedemos de una forma muy similar a como se hace una búsqueda binaria: si queremos insertar el valor `x` y estamos en el nodo `n`, comparamos `n.value` con `x`, para lo cual existen tres casos posibles:\n",
        "\n",
        "* `x < n.value`: Nos desplazamos hacia el hijo de la izquierda. Si este no existe, lo volvemos `x`.\n",
        "* `x > n.value`: Nos desplazamos hacia el hijo de la derecha. Si este no existe, lo volvemos `x`.\n",
        "* `x = n.value`: No hacemos nada, ya que no puede haber elementos duplicados en el BST."
      ]
    },
    {
      "cell_type": "code",
      "metadata": {
        "id": "Lu98B370DE9Q"
      },
      "source": [
        "class Node:\n",
        "    def __init__(self, val):\n",
        "        self.val = val\n",
        "        self.left = None\n",
        "        self.right = None\n",
        "        \n",
        "        \n",
        "    def __repr__(self):\n",
        "        left = None if self.left is None else self.left.val\n",
        "        right = None if self.right is None else self.right.val\n",
        "        return f\"Valor: {self.val}\\nIzquierda: {left}\\nDerecha: {right}\"\n",
        "       \n",
        "    \n",
        "    def insert(self, x):\n",
        "        if self.val == x:\n",
        "            return\n",
        "\n",
        "        elif x < self.val:\n",
        "            if self.left is not None:\n",
        "                self.left.insert(x)\n",
        "            else:\n",
        "                self.left = Node(x)\n",
        "        else:\n",
        "            if self.right is not None:\n",
        "                self.right.insert(x)\n",
        "            else:\n",
        "                self.right = Node(x)"
      ],
      "execution_count": null,
      "outputs": []
    },
    {
      "cell_type": "code",
      "metadata": {
        "id": "siFLWY13DE9S",
        "colab": {
          "base_uri": "https://localhost:8080/"
        },
        "outputId": "ab8be9a3-d0b5-4c07-ab7a-cf08b771b730"
      },
      "source": [
        "root = Node(0)\n",
        "root.insert(1)\n",
        "root.insert(-2)\n",
        "root.insert(2)\n",
        "root\n",
        "\n"
      ],
      "execution_count": null,
      "outputs": [
        {
          "output_type": "execute_result",
          "data": {
            "text/plain": [
              "Valor: 0\n",
              "Izquierda: -2\n",
              "Derecha: 1"
            ]
          },
          "metadata": {},
          "execution_count": 7
        }
      ]
    },
    {
      "cell_type": "markdown",
      "metadata": {
        "id": "nYBatYBbDE9T"
      },
      "source": [
        "Para buscar un elemento, el procedimiento es prácticamente el mismo que en la inserción:\n",
        "\n",
        "* `x < n.value`: Nos desplazamos hacia el hijo de la izquierda. Si este no existe, significa que `x` no está en el árbol.\n",
        "* `x < n.value`: Nos desplazamos hacia el hijo de la derecha. Si este no existe, significa que `x` no está en el árbol.\n",
        "* `x = n.value`: `n` es el nodo que buscamos, así que lo regresamos."
      ]
    },
    {
      "cell_type": "code",
      "metadata": {
        "id": "VwDWOY5QbBlF"
      },
      "source": [
        "class Node:\n",
        "    def __init__(self, val):\n",
        "        self.val = val\n",
        "        self.left = None\n",
        "        self.right = None\n",
        "        \n",
        "        \n",
        "    def __repr__(self):\n",
        "        left = None if self.left is None else self.left.val\n",
        "        right = None if self.right is None else self.right.val\n",
        "        return f\"Valor: {self.val}\\nIzquierda: {left}\\nDerecha: {right}\"\n",
        "       \n",
        "    \n",
        "    def insert(self, x):\n",
        "        if x == self.val:\n",
        "            return\n",
        "        elif x < self.val:\n",
        "            if self.left is not None:\n",
        "                self.left.insert(x)\n",
        "            else:\n",
        "                self.left = Node(x)\n",
        "        elif x > self.val:\n",
        "            if self.right is not None:\n",
        "                self.right.insert(x)\n",
        "            else:\n",
        "                self.right = Node(x)\n",
        "                \n",
        "                \n",
        "    def search(self, x):\n",
        "        if self.val == x:\n",
        "            return self\n",
        "        elif x < self.val:\n",
        "            if self.left is None:\n",
        "                return\n",
        "            else:\n",
        "                return self.left.search(x)\n",
        "        elif x > self.val:\n",
        "            if self.right is None:\n",
        "                return\n",
        "            else:\n",
        "                return self.right.search(x)"
      ],
      "execution_count": null,
      "outputs": []
    },
    {
      "cell_type": "code",
      "metadata": {
        "id": "VhG-RBKTDE9U",
        "colab": {
          "base_uri": "https://localhost:8080/"
        },
        "outputId": "a2bfcab0-c6aa-439c-d470-79f1ca458e55"
      },
      "source": [
        "root = Node(0)\n",
        "root.insert(1)\n",
        "root.insert(-2)\n",
        "root.insert(2)\n",
        "\n",
        "root.search(1)\n"
      ],
      "execution_count": null,
      "outputs": [
        {
          "output_type": "execute_result",
          "data": {
            "text/plain": [
              "Valor: 1\n",
              "Izquierda: None\n",
              "Derecha: 2"
            ]
          },
          "metadata": {},
          "execution_count": 9
        }
      ]
    },
    {
      "cell_type": "markdown",
      "metadata": {
        "id": "xAo2PnbplvHU"
      },
      "source": [
        "# Recorridos\n",
        "\n",
        "Veremos ahora dos de las formas más comunes de recorrer un BST: in-order y pre-order traversal. Usaremos el siguiente árbol:\n",
        "\n",
        "```\n",
        "          4\n",
        "        /    \\\n",
        "       2      6\n",
        "      / \\    / \\\n",
        "     1   3  5   7\n",
        "    /            \\\n",
        "   0              8\n",
        "```   "
      ]
    },
    {
      "cell_type": "code",
      "metadata": {
        "id": "FP6ibcwLDE9V"
      },
      "source": [
        "tree = Node(4)\n",
        "tree.insert(2)\n",
        "tree.insert(1)\n",
        "tree.insert(0)\n",
        "tree.insert(3)\n",
        "tree.insert(6)\n",
        "tree.insert(5)\n",
        "tree.insert(7)\n",
        "tree.insert(8)"
      ],
      "execution_count": null,
      "outputs": []
    },
    {
      "cell_type": "markdown",
      "metadata": {
        "id": "L2XV85N9DE9W"
      },
      "source": [
        "## In-order\n",
        "\n",
        "In-order traversal nos permite rescatar la lista de números de manera ordenada, visita primero todo lo que hay a la izquierda de la raíz, después la raíz y posteriormente el hijo derecho, haciendo esto de manera recursiva. Esto nos será muy útil para después poder eliminar elementos en un árbol binario de búsqueda. Veamos un ejemplo de un in-order traversal en un árbol de este tipo."
      ]
    },
    {
      "cell_type": "code",
      "metadata": {
        "colab": {
          "base_uri": "https://localhost:8080/"
        },
        "id": "V1JkuiDrmY-s",
        "outputId": "52272af8-a433-46ef-843e-7c4b491cff55"
      },
      "source": [
        "def in_order(root):\n",
        "    if root is not None:\n",
        "        in_order(root.left)\n",
        "        print(root.val) # aquí es donde visitamos\n",
        "        in_order(root.right)\n",
        "    else:\n",
        "        return\n",
        "\n",
        "in_order(tree)"
      ],
      "execution_count": null,
      "outputs": [
        {
          "output_type": "stream",
          "name": "stdout",
          "text": [
            "0\n",
            "1\n",
            "2\n",
            "3\n",
            "4\n",
            "5\n",
            "6\n",
            "7\n",
            "8\n"
          ]
        }
      ]
    },
    {
      "cell_type": "markdown",
      "metadata": {
        "id": "VlxWH1BkmzLf"
      },
      "source": [
        "Notemos que con este tipo de ideas podemos encontrar el mínimo valor y el máximo valor en un árbol binario de búsqueda.\n",
        "\n",
        "## Pre-order\n",
        "\n",
        "Consiste en visitar el nodo actual, después lo que hay en su hijo izquierdo y después en su hijo derecho. Podemos notar que es un recorrido particular de un recorrido de DFS en un árbol."
      ]
    },
    {
      "cell_type": "code",
      "metadata": {
        "colab": {
          "base_uri": "https://localhost:8080/"
        },
        "id": "WDcHJeRinEYW",
        "outputId": "ac5f86dd-4e79-4b94-da5c-d60e987512b6"
      },
      "source": [
        "def pre_order(root):\n",
        "    if root is not None:\n",
        "        print(root.val)\n",
        "        pre_order(root.left)\n",
        "        pre_order(root.right)\n",
        "    else:\n",
        "        return\n",
        "\n",
        "pre_order(tree)"
      ],
      "execution_count": null,
      "outputs": [
        {
          "output_type": "stream",
          "name": "stdout",
          "text": [
            "4\n",
            "2\n",
            "1\n",
            "0\n",
            "3\n",
            "6\n",
            "5\n",
            "7\n",
            "8\n"
          ]
        }
      ]
    },
    {
      "cell_type": "markdown",
      "metadata": {
        "id": "5gIxe32lDE9X"
      },
      "source": [
        "## Post-order\n",
        "\n",
        "Consiste en visitar el subárbol izquierdo, luego el derecho, y finalmente el nodo actual. "
      ]
    },
    {
      "cell_type": "code",
      "metadata": {
        "id": "tAuoxHcJDE9X",
        "colab": {
          "base_uri": "https://localhost:8080/"
        },
        "outputId": "f668e7d4-53d1-4ccc-cbbd-f6ce8e110d70"
      },
      "source": [
        "def post_order(root):\n",
        "    if root is not None:\n",
        "        pre_order(root.left)\n",
        "        pre_order(root.right)\n",
        "        print(root.val)\n",
        "    else:\n",
        "        return\n",
        "\n",
        "post_order(tree)"
      ],
      "execution_count": null,
      "outputs": [
        {
          "output_type": "stream",
          "name": "stdout",
          "text": [
            "2\n",
            "1\n",
            "0\n",
            "3\n",
            "6\n",
            "5\n",
            "7\n",
            "8\n",
            "4\n"
          ]
        }
      ]
    },
    {
      "cell_type": "markdown",
      "metadata": {
        "id": "v4pAaxYEDE9Y"
      },
      "source": [
        "# Graficado\n",
        "\n",
        "Nótese que podemos utilizar cualquiera de las caminatas anteriores para construir una gráfica de `networkx` a partir de nuestro árbol: cada vez que visitamos un nodo, lo añadimos a él y a sus hijos a la gráfica, junto con las aristas que los unen:"
      ]
    },
    {
      "cell_type": "code",
      "metadata": {
        "id": "KD782jAGDE9Y"
      },
      "source": [
        "def build_graph(root, g=None):\n",
        "    if g is None:\n",
        "        g = nx.Graph()\n",
        "    \n",
        "    if root is not None:\n",
        "        build_graph(root.left, g)\n",
        "        g.add_node(root.val)\n",
        "        if root.left is not None:\n",
        "            g.add_edge(root.val, root.left.val)\n",
        "        if root.right is not None:\n",
        "            g.add_edge(root.val, root.right.val)\n",
        "        build_graph(root.right, g)\n",
        "    return g"
      ],
      "execution_count": null,
      "outputs": []
    },
    {
      "cell_type": "markdown",
      "metadata": {
        "id": "_uwywxvbDE9Y"
      },
      "source": [
        "Para asegurarnos que al momento de graficar se vea como un árbol, usamos el layout `dot` de `graphviz`:"
      ]
    },
    {
      "cell_type": "code",
      "metadata": {
        "id": "L7nx0EhFDE9Y",
        "colab": {
          "base_uri": "https://localhost:8080/",
          "height": 466
        },
        "outputId": "906071a9-f9f5-4c63-a0f3-5de9f1107e31"
      },
      "source": [
        "g = build_graph(tree)\n",
        "\n",
        "fig, ax = plt.subplots(figsize=(10,8))\n",
        "pos = graphviz_layout(g, prog=\"dot\")\n",
        "nx.draw(g, with_labels=True, ax=ax, pos=pos)"
      ],
      "execution_count": null,
      "outputs": [
        {
          "output_type": "display_data",
          "data": {
            "image/png": "[encoded data removed]",
            "text/plain": [
              "<Figure size 720x576 with 1 Axes>"
            ]
          },
          "metadata": {}
        }
      ]
    },
    {
      "cell_type": "markdown",
      "metadata": {
        "id": "JF8fyB0-pvrO"
      },
      "source": [
        "# Borrado\n",
        "\n",
        "Veamos ahora cómo eliminar un nodo $N$ de un BST. Notemos que hay tres casos posibles:\n",
        "\n",
        "\n",
        "*   Si $N$ no tiene hijos, es suficiente con eliminar dicho nodo.\n",
        "*   Si $N$ tiene únicamente un hijo, reemplazamos el nodo $N$ por su hijo.\n",
        "*   Si $N$ tiene dos hijos, tenemos que reacomodar de una manera más sofisticada los nodos para que siga siendo un BST. Esto podemos hacerlo con el siguiente algoritmo:\n",
        "\n",
        "    1. Encontramos el siguiente nodo con un valor mayor a $N$, i.e., su sucesor en in-order traversal; llámese $S$. Nótese que este nodo es el que tiene menor valor del subárbol derecho.  \n",
        "    2. Reemplazamos el valor de $N$ con el de $S$.\n",
        "    3. Borramos $S$, esto último se puede hacer sin problemas pues el sucesor de un nodo con dos hijos es necesariamente una hoja, ya que es el valor mínimo en el subárbol con raíz en su hijo derecho.\n",
        "\n",
        "Para hacer esto, necesitaremos una función que nos permita encontrar el valor mínimo en un sub árbol a partir de cierto nodo. "
      ]
    },
    {
      "cell_type": "code",
      "metadata": {
        "id": "5QMPDcuUDE9Z"
      },
      "source": [
        "def min_value(root):\n",
        "    if root is not None:\n",
        "        while root.left is not None:\n",
        "            root = root.left\n",
        "        return root\n",
        "    else:\n",
        "        return None"
      ],
      "execution_count": null,
      "outputs": []
    },
    {
      "cell_type": "markdown",
      "metadata": {
        "id": "1S-_MScfDE9Z"
      },
      "source": [
        "Ahora, implementamos el algoritmo de borrado de modo que si pedimos eliminar un valor que no existe, el BST no se vea modificado y no haya problemas."
      ]
    },
    {
      "cell_type": "code",
      "metadata": {
        "colab": {
          "base_uri": "https://localhost:8080/"
        },
        "id": "IKSfTTRTsEi9",
        "outputId": "8c343cf7-93b6-4da3-e199-b30fdb391ae3"
      },
      "source": [
        "def delete(root, x):\n",
        "    if root is not None:\n",
        "        if root.val == x:\n",
        "            if root.left is None: # Tiene a lo más un hijo, el derecho\n",
        "                new = root.right\n",
        "                root = None # Vaciamos el nodo root\n",
        "                return new\n",
        "            elif root.right is None: # Tiene sólo el hijo izquierdo\n",
        "                new = root.left\n",
        "                root = None\n",
        "                return new\n",
        "            else: # Tiene ambos hijos\n",
        "                new = min_value(root.right)\n",
        "                root.val = new.val\n",
        "                root.right = delete(root.right, new.val)\n",
        "                return root\n",
        "        else: \n",
        "            if root.val < x:\n",
        "                root.right = delete(root.right, x)\n",
        "            else:\n",
        "                root.left = delete(root.left, x)\n",
        "            return root\n",
        "    else:\n",
        "        return None\n",
        "\n",
        "\n",
        "\n",
        "delete(tree, 4)\n",
        "in_order(tree)"
      ],
      "execution_count": null,
      "outputs": [
        {
          "output_type": "stream",
          "name": "stdout",
          "text": [
            "0\n",
            "1\n",
            "2\n",
            "3\n",
            "5\n",
            "6\n",
            "7\n",
            "8\n"
          ]
        }
      ]
    },
    {
      "cell_type": "markdown",
      "metadata": {
        "id": "lbvjuEEmDE9Z"
      },
      "source": [
        "# Reconstrucción"
      ]
    },
    {
      "cell_type": "markdown",
      "metadata": {
        "id": "KuLUDLW53IJq"
      },
      "source": [
        "Veamos un último ejemplo. Supongamos que se tiene una lista no vacía de enteros distintos $L$, tal que $L$ es el pre-order de un árbol binario de búsqueda, nuestro objetivo es reconstruir dicho BST.\n",
        "\n",
        "Una primer idea para atacar este problema sería hacer lo que ya hicimos previamente, ir agregando elemento por elemento usando nuestra función de insertar, sin ambargo, hacer esto nos puede tomar $O(n^2)$ en tiempo (si nuestro árbol resulta ser un camino). \n",
        "\n",
        "Optimizaremos nuestro algoritmo usando una pila. Comenzamos con una pila $P$ a la que agregamos el primer valor de la lista $L$, el cual también lo haremos la raíz de nuestro BST. Posteriormente vamos a iterar sobre los elementos de $L$, y tenemos dos casos:\n",
        "\n",
        "*   Si el elemento actual es menor que el elemento en la cima de la pila, hacemos que este elemento sea hijo izquierdo de la cima, y agregamos el nodo a la pila.\n",
        "*   Si el elemento actual es mayor que el elemento en la cima de la pila, removemos dicha cima de la pila, y continuamos removiendo elementos hasta llegar a que la pila sea vacía o que el elemento en la cima sea mayor que el actual, y hacemos que el elemento actual sea el hijo derecho del último elemento que se removió de la pila. Posteriormente agregamos el nodo con valor el elemento actual a la pila.\n",
        "\n",
        "Veamos una implementación de este algoritmo.\n",
        "\n"
      ]
    },
    {
      "cell_type": "code",
      "metadata": {
        "id": "ij2_W0wGnFX5",
        "colab": {
          "base_uri": "https://localhost:8080/",
          "height": 350
        },
        "outputId": "930a7e32-8c9d-4395-b642-5f5edb23c7e3"
      },
      "source": [
        "\n",
        "from collections import deque\n",
        "\n",
        "def construct_BST(L):\n",
        "    root = node(L[0])\n",
        "    queue = deque()\n",
        "    queue.append(root)\n",
        "    for i in range (1, len(L)):\n",
        "        if L[i] < queue[-1].value:\n",
        "            curr = node(L[i])\n",
        "            queue[-1].left = curr\n",
        "            queue.append(curr)\n",
        "        else:\n",
        "            curr = node(L[i])\n",
        "            last = queue[-1]\n",
        "            while queue:\n",
        "                if(L[i] < queue[-1].value):\n",
        "                    break\n",
        "                else:\n",
        "                    last = queue[-1]\n",
        "                    queue.pop()\n",
        "            last.right = curr\n",
        "            queue.append(curr)\n",
        "    return root\n",
        "\n",
        "BST_from_L = construct_BST([2, 1, 7, 4, 3, 6, 5, 8])\n",
        "in_order(BST_from_L)\n",
        "print('------------')\n",
        "pre_order(BST_from_L)"
      ],
      "execution_count": null,
      "outputs": [
        {
          "output_type": "error",
          "ename": "NameError",
          "evalue": "ignored",
          "traceback": [
            "\u001b[0;31m---------------------------------------------------------------------------\u001b[0m",
            "\u001b[0;31mNameError\u001b[0m                                 Traceback (most recent call last)",
            "\u001b[0;32m<ipython-input-21-fb6f0650cc62>\u001b[0m in \u001b[0;36m<module>\u001b[0;34m()\u001b[0m\n\u001b[1;32m     24\u001b[0m     \u001b[0;32mreturn\u001b[0m \u001b[0mroot\u001b[0m\u001b[0;34m\u001b[0m\u001b[0;34m\u001b[0m\u001b[0m\n\u001b[1;32m     25\u001b[0m \u001b[0;34m\u001b[0m\u001b[0m\n\u001b[0;32m---> 26\u001b[0;31m \u001b[0mBST_from_L\u001b[0m \u001b[0;34m=\u001b[0m \u001b[0mconstruct_BST\u001b[0m\u001b[0;34m(\u001b[0m\u001b[0;34m[\u001b[0m\u001b[0;36m2\u001b[0m\u001b[0;34m,\u001b[0m \u001b[0;36m1\u001b[0m\u001b[0;34m,\u001b[0m \u001b[0;36m7\u001b[0m\u001b[0;34m,\u001b[0m \u001b[0;36m4\u001b[0m\u001b[0;34m,\u001b[0m \u001b[0;36m3\u001b[0m\u001b[0;34m,\u001b[0m \u001b[0;36m6\u001b[0m\u001b[0;34m,\u001b[0m \u001b[0;36m5\u001b[0m\u001b[0;34m,\u001b[0m \u001b[0;36m8\u001b[0m\u001b[0;34m]\u001b[0m\u001b[0;34m)\u001b[0m\u001b[0;34m\u001b[0m\u001b[0;34m\u001b[0m\u001b[0m\n\u001b[0m\u001b[1;32m     27\u001b[0m \u001b[0min_order\u001b[0m\u001b[0;34m(\u001b[0m\u001b[0mBST_from_L\u001b[0m\u001b[0;34m)\u001b[0m\u001b[0;34m\u001b[0m\u001b[0;34m\u001b[0m\u001b[0m\n\u001b[1;32m     28\u001b[0m \u001b[0mprint\u001b[0m\u001b[0;34m(\u001b[0m\u001b[0;34m'------------'\u001b[0m\u001b[0;34m)\u001b[0m\u001b[0;34m\u001b[0m\u001b[0;34m\u001b[0m\u001b[0m\n",
            "\u001b[0;32m<ipython-input-21-fb6f0650cc62>\u001b[0m in \u001b[0;36mconstruct_BST\u001b[0;34m(L)\u001b[0m\n\u001b[1;32m      3\u001b[0m \u001b[0;34m\u001b[0m\u001b[0m\n\u001b[1;32m      4\u001b[0m \u001b[0;32mdef\u001b[0m \u001b[0mconstruct_BST\u001b[0m\u001b[0;34m(\u001b[0m\u001b[0mL\u001b[0m\u001b[0;34m)\u001b[0m\u001b[0;34m:\u001b[0m\u001b[0;34m\u001b[0m\u001b[0;34m\u001b[0m\u001b[0m\n\u001b[0;32m----> 5\u001b[0;31m     \u001b[0mroot\u001b[0m \u001b[0;34m=\u001b[0m \u001b[0mnode\u001b[0m\u001b[0;34m(\u001b[0m\u001b[0mL\u001b[0m\u001b[0;34m[\u001b[0m\u001b[0;36m0\u001b[0m\u001b[0;34m]\u001b[0m\u001b[0;34m)\u001b[0m\u001b[0;34m\u001b[0m\u001b[0;34m\u001b[0m\u001b[0m\n\u001b[0m\u001b[1;32m      6\u001b[0m     \u001b[0mqueue\u001b[0m \u001b[0;34m=\u001b[0m \u001b[0mdeque\u001b[0m\u001b[0;34m(\u001b[0m\u001b[0;34m)\u001b[0m\u001b[0;34m\u001b[0m\u001b[0;34m\u001b[0m\u001b[0m\n\u001b[1;32m      7\u001b[0m     \u001b[0mqueue\u001b[0m\u001b[0;34m.\u001b[0m\u001b[0mappend\u001b[0m\u001b[0;34m(\u001b[0m\u001b[0mroot\u001b[0m\u001b[0;34m)\u001b[0m\u001b[0;34m\u001b[0m\u001b[0;34m\u001b[0m\u001b[0m\n",
            "\u001b[0;31mNameError\u001b[0m: name 'node' is not defined"
          ]
        }
      ]
    },
    {
      "cell_type": "markdown",
      "metadata": {
        "id": "OurqpW9Nvra5"
      },
      "source": [
        "# Ejercicios\n",
        "\n",
        "## Ejercicio 1\n",
        "Escribe una función para determinar si un árbol dado es un BST o no. Da ejemplos para ambos casos."
      ]
    },
    {
      "cell_type": "markdown",
      "metadata": {
        "id": "L4EtL82hDE9a"
      },
      "source": [
        "Creamos una función que tome el nodo que va a checar, el valor máximo que puede tomar sus hijos y el valor mínimo.\n",
        "\n",
        "Primero vamos a tomar el caso base en donde es un árbol vacio que en efecto es BST.\n",
        "\n",
        "Despues se checa si el valor del nodo es mayor maximo   o es menor al valor minimo maximo, en caso de que así pase se regresa un False ya que en ese caso no cumple con BST.\n",
        "\n",
        "Una vez que se termino de checar ese nodo y hasta el momento el árbol cumple con las propiedades de un BST  se vuelve a llamar a la función de froma recursiva pero ahora para los nodos hijos de su lado izquierdo y derecho, pero ahora se ajustan los valores máximos y minimos ya que para el lado de la izquierda ahora el valor máximo que puede tomar es menor al nodo padre y para el de la derecha el valor mínimo es mayor que el valor del padre.\n",
        "\n",
        "Una vez que lea todos los nodos del árbol llegaremos al caso en donde node is None y regresa True.\n",
        "\n",
        "Por ultimo hacemos  la función donde tu le das el árbol que quieres checar en donde hace un ciclo if tomando valores de menos infinito a infinito  y te checa si la primera función que definimos regresa un valor TRUE   en ese caso imprime que si es BST, de caso contrario dice que no es BST\n",
        "\n",
        "Nota: para el código me base de esta página <a href=\"https://www.techiedelight.com/determine-given-binary-tree-is-a-bst-or-not/\">determine-given-binary-tree-is-a-bst-or-not</a>, Entendiendo que se hizo y modificando algunas cosas\n",
        "\n"
      ]
    },
    {
      "cell_type": "code",
      "metadata": {
        "id": "WnaHAbCdclMu"
      },
      "source": [
        "import sys\n",
        "def nodeBST(node, minKey, maxKey):\n",
        " \n",
        "\n",
        "    if node is None:\n",
        "        return True\n",
        "\n",
        "    if node.val < minKey or node.val > maxKey:\n",
        "        return False\n",
        "\n",
        "    return isBST(node.left, minKey, node.val) and \\\n",
        "        isBST(node.right, node.val, maxKey)\n",
        "\n",
        "def ESBST(root):\n",
        " \n",
        "    if nodeBST(root, -sys.maxsize, sys.maxsize):\n",
        "        print(\"El árbol si es BST yupppi .\")\n",
        "    else:\n",
        "        print(\"El árbol no es BST\")\n",
        " "
      ],
      "execution_count": null,
      "outputs": []
    },
    {
      "cell_type": "markdown",
      "metadata": {
        "id": "m3-OqD_pqp_h"
      },
      "source": [
        "Ahora probaremos si si funciona para casos en donde sabemos que es BST y casos en donde no lo es.\n",
        "\n",
        "Primero hacemos un árbol que si es BST y vemos si nos dice lo mismo la función"
      ]
    },
    {
      "cell_type": "code",
      "metadata": {
        "id": "NuL7eyZujeTC"
      },
      "source": [
        "tree = Node(4)\n",
        "tree.insert(4)\n",
        "tree.insert(1)\n",
        "tree.insert(0)\n",
        "tree.insert(3)\n",
        "tree.insert(6)\n",
        "tree.insert(5)\n",
        "tree.insert(7)\n",
        "tree.insert(8)\n"
      ],
      "execution_count": null,
      "outputs": []
    },
    {
      "cell_type": "code",
      "metadata": {
        "colab": {
          "base_uri": "https://localhost:8080/",
          "height": 466
        },
        "id": "HKe0vfdbji2J",
        "outputId": "7d59342f-edbd-4cc5-bf35-9a8ba27bdcdc"
      },
      "source": [
        "g = build_graph(tree)\n",
        "\n",
        "fig, ax = plt.subplots(figsize=(10,8))\n",
        "pos = graphviz_layout(g, prog=\"dot\")\n",
        "nx.draw(g, with_labels=True, ax=ax, pos=pos)"
      ],
      "execution_count": null,
      "outputs": [
        {
          "output_type": "display_data",
          "data": {
            "image/png": "[encoded data removed]",
            "text/plain": [
              "<Figure size 720x576 with 1 Axes>"
            ]
          },
          "metadata": {}
        }
      ]
    },
    {
      "cell_type": "code",
      "metadata": {
        "colab": {
          "base_uri": "https://localhost:8080/"
        },
        "id": "Bv-Gxidjc1lm",
        "outputId": "7e22dd34-9e81-425c-f5ae-3b89ed070262"
      },
      "source": [
        "ESBST(tree)"
      ],
      "execution_count": null,
      "outputs": [
        {
          "output_type": "stream",
          "name": "stdout",
          "text": [
            "El árbol si es BST yupppi .\n"
          ]
        }
      ]
    },
    {
      "cell_type": "markdown",
      "metadata": {
        "id": "i9_ypdKNdROx"
      },
      "source": [
        "Ahora veremos como es cuando sabemos que no es BST,para eso solo le cambiamos un es mayor a un es menor en la clase node y creamos un árbol que claramente no es BST"
      ]
    },
    {
      "cell_type": "code",
      "metadata": {
        "id": "c7_GZn9_i24v"
      },
      "source": [
        "class NodenoBST:\n",
        "    def __init__(self, val):\n",
        "        self.val = val\n",
        "        self.left = None\n",
        "        self.right = None\n",
        "        \n",
        "        \n",
        "    def __repr__(self):\n",
        "        left = None if self.left is None else self.left.val\n",
        "        right = None if self.right is None else self.right.val\n",
        "        return f\"Valor: {self.val}\\nIzquierda: {left}\\nDerecha: {right}\"\n",
        "       \n",
        "    \n",
        "    def insert(self, x):\n",
        "        if self.val == x:\n",
        "            return\n",
        "\n",
        "        elif x > self.val:\n",
        "            if self.left is not None:\n",
        "                self.left.insert(x)\n",
        "            else:\n",
        "                self.left = Node(x)\n",
        "        else:\n",
        "            if self.right is not None:\n",
        "                self.right.insert(x)\n",
        "            else:\n",
        "                self.right = Node(x)"
      ],
      "execution_count": null,
      "outputs": []
    },
    {
      "cell_type": "code",
      "metadata": {
        "id": "aSqrfrJOdUQk"
      },
      "source": [
        "tree2 = NodenoBST(4)\n",
        "tree2.insert(4)\n",
        "tree2.insert(1)\n",
        "tree2.insert(0)\n",
        "tree2.insert(3)\n",
        "tree2.insert(6)\n",
        "tree2.insert(5)\n",
        "tree2.insert(7)\n",
        "tree2.insert(8)\n"
      ],
      "execution_count": null,
      "outputs": []
    },
    {
      "cell_type": "code",
      "metadata": {
        "colab": {
          "base_uri": "https://localhost:8080/",
          "height": 466
        },
        "id": "8XmxwmqLjRZN",
        "outputId": "cb627254-b41b-484c-c5de-59febd1eb4b1"
      },
      "source": [
        "g = build_graph(tree2)\n",
        "\n",
        "fig, ax = plt.subplots(figsize=(10,8))\n",
        "pos = graphviz_layout(g, prog=\"dot\")\n",
        "nx.draw(g, with_labels=True, ax=ax, pos=pos)"
      ],
      "execution_count": null,
      "outputs": [
        {
          "output_type": "display_data",
          "data": {
            "image/png": "[encoded data removed]",
            "text/plain": [
              "<Figure size 720x576 with 1 Axes>"
            ]
          },
          "metadata": {}
        }
      ]
    },
    {
      "cell_type": "code",
      "metadata": {
        "colab": {
          "base_uri": "https://localhost:8080/"
        },
        "id": "-4Nr9Qx2dwU-",
        "outputId": "48b40949-5d55-46b0-bffa-d2eb88fb6d31"
      },
      "source": [
        "ESBST(tree2)"
      ],
      "execution_count": null,
      "outputs": [
        {
          "output_type": "stream",
          "name": "stdout",
          "text": [
            "El árbol no es BST\n"
          ]
        }
      ]
    },
    {
      "cell_type": "markdown",
      "metadata": {
        "id": "G0iezC_ODE9b"
      },
      "source": [
        "## Ejercicio 2\n",
        "\n",
        "Determina si para cualquier lista de enteros distintos existe algún BST tal que su pre-order traversal coincida con la lista inicial. En caso afirmativo da una demostración, en caso negativo muestra un contraejemplo."
      ]
    },
    {
      "cell_type": "markdown",
      "metadata": {
        "id": "18sRABRmkyeg"
      },
      "source": [
        "## Contraejemplo\n",
        "\n",
        "Yo digo que la afirmación pasada es falsa por lo que vamos a mostrar un contraejemplo, en este caso va a ser la lista:\n",
        "$$[98,0,3,-5]$$"
      ]
    },
    {
      "cell_type": "code",
      "metadata": {
        "colab": {
          "base_uri": "https://localhost:8080/"
        },
        "id": "cBzhnQRulR3s",
        "outputId": "387ec345-b07c-4a80-b579-181037560a40"
      },
      "source": [
        "tree3= Node(98)\n",
        "tree3.insert(0)\n",
        "tree3.insert(3)\n",
        "tree3.insert(-5)\n",
        "\n",
        "pre_order(tree3)"
      ],
      "execution_count": null,
      "outputs": [
        {
          "output_type": "stream",
          "name": "stdout",
          "text": [
            "98\n",
            "0\n",
            "-5\n",
            "3\n"
          ]
        }
      ]
    },
    {
      "cell_type": "markdown",
      "metadata": {
        "id": "oeUaypmGlnUj"
      },
      "source": [
        "Como podemos ver la lista $[98,0,3,-5]$  no corresponde con lo que nos dio el pre-order que fue $[98,0,-5,3]$ "
      ]
    },
    {
      "cell_type": "markdown",
      "metadata": {
        "id": "OpTEmszDm1Xv"
      },
      "source": [
        "Por lo tanto mostramos que existe por lo menos una lista de enteros que no va a concidir con el pre-order transversal de un BST ,\n",
        "por lo tanto la afirmación es falsa.\n",
        "$$\\blacksquare$$"
      ]
    }
  ]
}